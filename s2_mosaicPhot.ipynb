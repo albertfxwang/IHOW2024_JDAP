{
 "cells": [
  {
   "cell_type": "code",
   "execution_count": 1,
   "metadata": {},
   "outputs": [
    {
     "name": "stdout",
     "output_type": "stream",
     "text": [
      "Grizli version:  1.9\n",
      "jwst pipeline version:  1.14.0\n"
     ]
    },
    {
     "name": "stderr",
     "output_type": "stream",
     "text": [
      "sh: aws: command not found\n"
     ]
    }
   ],
   "source": [
    "import os, sys\n",
    "import glob\n",
    "import logging\n",
    "from importlib import reload\n",
    "import numpy as np\n",
    "import matplotlib.pyplot as plt\n",
    "\n",
    "import astropy.io.fits as pyfits\n",
    "import astropy.wcs as pywcs\n",
    "\n",
    "os.environ['CRDS_PATH'] = os.path.expanduser('/lustre/JDAP/home/jdap02/crds')\n",
    "os.environ['CRDS_SERVER_URL'] = 'https://jwst-crds.stsci.edu'\n",
    "import jwst\n",
    "\n",
    "# grizli stuff\n",
    "import grizli\n",
    "from grizli import utils, prep, jwst_utils, multifit, fitting, model\n",
    "from grizli.pipeline import auto_script\n",
    "\n",
    "utils.set_warnings()\n",
    "\n",
    "print('Grizli version: ', grizli.__version__)\n",
    "print('jwst pipeline version: ', jwst.__version__)"
   ]
  },
  {
   "cell_type": "code",
   "execution_count": 2,
   "metadata": {},
   "outputs": [
    {
     "name": "stderr",
     "output_type": "stream",
     "text": [
      "sh: aws: command not found\n"
     ]
    }
   ],
   "source": [
    "# set home path\n",
    "HOME_PATH = '/lustre/JDAP/home/jdap02/start_from_s1/'\n",
    "field_root = 'glass-2022data'    # the root directory for this data reduction\n",
    "\n",
    "# first set up pipeline parameters\n",
    "os.chdir(os.path.join(HOME_PATH, field_root))\n",
    "kwargs = auto_script.get_yml_parameters()"
   ]
  },
  {
   "cell_type": "markdown",
   "metadata": {},
   "source": [
    "# Drizzle full mosaics\n",
    "\n",
    "Combine all exposures in a given instrument/filter into mosaics with a common pixel grid.  \n",
    "\n",
    "Below I use the following pixel scale of **0.03\"** to Nyquist sample the native PSF of 0.065\"\n"
   ]
  },
  {
   "cell_type": "code",
   "execution_count": 3,
   "metadata": {
    "scrolled": true
   },
   "outputs": [
    {
     "name": "stdout",
     "output_type": "stream",
     "text": [
      "  0/ 48: jw01324001001_02101_00001_nis_rate.fits[SCI,1]    5.14\n",
      "  1/ 48: jw01324001001_03101_00001_nis_rate.fits[SCI,1]    5.14\n",
      "  2/ 48: jw01324001001_03101_00002_nis_rate.fits[SCI,1]    5.17\n",
      "  3/ 48: jw01324001001_03101_00003_nis_rate.fits[SCI,1]    5.18\n",
      "  4/ 48: jw01324001001_03101_00004_nis_rate.fits[SCI,1]    5.19\n",
      "  5/ 48: jw01324001001_04101_00001_nis_rate.fits[SCI,1]    5.19\n",
      "  6/ 48: jw01324001001_04101_00002_nis_rate.fits[SCI,1]    5.19\n",
      "  7/ 48: jw01324001001_04101_00003_nis_rate.fits[SCI,1]    5.19\n",
      "  8/ 48: jw01324001001_04101_00004_nis_rate.fits[SCI,1]    5.19\n",
      "  9/ 48: jw01324001001_05101_00001_nis_rate.fits[SCI,1]    5.19\n",
      " 10/ 48: jw01324001001_05101_00002_nis_rate.fits[SCI,1]    5.21\n",
      " 11/ 48: jw01324001001_05101_00003_nis_rate.fits[SCI,1]    5.22\n",
      " 12/ 48: jw01324001001_05101_00004_nis_rate.fits[SCI,1]    5.22\n",
      " 13/ 48: jw01324001001_06101_00001_nis_rate.fits[SCI,1]    5.22\n",
      " 14/ 48: jw01324001001_06101_00002_nis_rate.fits[SCI,1]    5.22\n",
      " 15/ 48: jw01324001001_06101_00003_nis_rate.fits[SCI,1]    5.22\n",
      " 16/ 48: jw01324001001_08101_00001_nis_rate.fits[SCI,1]    5.34\n",
      " 17/ 48: jw01324001001_09101_00001_nis_rate.fits[SCI,1]    5.34\n",
      " 18/ 48: jw01324001001_09101_00002_nis_rate.fits[SCI,1]    5.35\n",
      " 19/ 48: jw01324001001_09101_00003_nis_rate.fits[SCI,1]    5.36\n",
      " 20/ 48: jw01324001001_09101_00004_nis_rate.fits[SCI,1]    5.36\n",
      " 21/ 48: jw01324001001_10101_00001_nis_rate.fits[SCI,1]    5.36\n",
      " 22/ 48: jw01324001001_10101_00002_nis_rate.fits[SCI,1]    5.36\n",
      " 23/ 48: jw01324001001_10101_00003_nis_rate.fits[SCI,1]    5.36\n",
      " 24/ 48: jw01324001001_10101_00004_nis_rate.fits[SCI,1]    5.48\n",
      " 25/ 48: jw01324001001_11101_00001_nis_rate.fits[SCI,1]    5.48\n",
      " 26/ 48: jw01324001001_11101_00002_nis_rate.fits[SCI,1]    5.50\n",
      " 27/ 48: jw01324001001_11101_00003_nis_rate.fits[SCI,1]    5.50\n",
      " 28/ 48: jw01324001001_11101_00004_nis_rate.fits[SCI,1]    5.50\n",
      " 29/ 48: jw01324001001_12101_00001_nis_rate.fits[SCI,1]    5.50\n",
      " 30/ 48: jw01324001001_12101_00002_nis_rate.fits[SCI,1]    5.50\n",
      " 31/ 48: jw01324001001_12101_00003_nis_rate.fits[SCI,1]    5.50\n",
      " 32/ 48: jw01324001001_14101_00001_nis_rate.fits[SCI,1]    5.70\n",
      " 33/ 48: jw01324001001_15101_00001_nis_rate.fits[SCI,1]    5.70\n",
      " 34/ 48: jw01324001001_15101_00002_nis_rate.fits[SCI,1]    5.71\n",
      " 35/ 48: jw01324001001_15101_00003_nis_rate.fits[SCI,1]    5.72\n",
      " 36/ 48: jw01324001001_15101_00004_nis_rate.fits[SCI,1]    5.73\n",
      " 37/ 48: jw01324001001_16101_00001_nis_rate.fits[SCI,1]    5.73\n",
      " 38/ 48: jw01324001001_16101_00002_nis_rate.fits[SCI,1]    5.73\n",
      " 39/ 48: jw01324001001_16101_00003_nis_rate.fits[SCI,1]    5.73\n",
      " 40/ 48: jw01324001001_16101_00004_nis_rate.fits[SCI,1]    5.93\n",
      " 41/ 48: jw01324001001_17101_00001_nis_rate.fits[SCI,1]    5.93\n",
      " 42/ 48: jw01324001001_17101_00002_nis_rate.fits[SCI,1]    5.95\n",
      " 43/ 48: jw01324001001_17101_00003_nis_rate.fits[SCI,1]    5.95\n",
      " 44/ 48: jw01324001001_17101_00004_nis_rate.fits[SCI,1]    5.95\n",
      " 45/ 48: jw01324001001_18101_00001_nis_rate.fits[SCI,1]    5.95\n",
      " 46/ 48: jw01324001001_18101_00002_nis_rate.fits[SCI,1]    5.95\n",
      " 47/ 48: jw01324001001_18101_00003_nis_rate.fits[SCI,1]    5.95\n",
      "\n",
      "  Mosaic WCS: (3.59548,-30.39433) 3.2'x3.1'  0.030\"/pix\n",
      "\n",
      "# (2024-06-27 03:20:15.531)\n",
      "{'files': ['jw01324001001_02101_00001_nis_rate.fits', 'jw01324001001_04101_00001_nis_rate.fits', 'jw01324001001_04101_00002_nis_rate.fits', 'jw01324001001_04101_00003_nis_rate.fits', 'jw01324001001_04101_00004_nis_rate.fits', 'jw01324001001_06101_00001_nis_rate.fits', 'jw01324001001_06101_00002_nis_rate.fits', 'jw01324001001_06101_00003_nis_rate.fits'], 'footprint': <POLYGON ((3.581 -30.419, 3.581 -30.419, 3.581 -30.419, 3.581 -30.419, 3.581...>, 'footprints': [<POLYGON ((3.581 -30.419, 3.567 -30.384, 3.608 -30.372, 3.622 -30.407, 3.581...>, <POLYGON ((3.581 -30.419, 3.567 -30.384, 3.608 -30.372, 3.622 -30.407, 3.581...>, <POLYGON ((3.581 -30.419, 3.567 -30.384, 3.608 -30.372, 3.622 -30.407, 3.581...>, <POLYGON ((3.581 -30.419, 3.567 -30.384, 3.608 -30.372, 3.622 -30.407, 3.581...>, <POLYGON ((3.581 -30.419, 3.567 -30.384, 3.608 -30.372, 3.622 -30.407, 3.581...>, <POLYGON ((3.581 -30.419, 3.567 -30.384, 3.608 -30.372, 3.622 -30.407, 3.581...>, <POLYGON ((3.581 -30.419, 3.567 -30.384, 3.608 -30.372, 3.622 -30.407, 3.581...>, <POLYGON ((3.581 -30.419, 3.567 -30.384, 3.608 -30.372, 3.622 -30.407, 3.581...>], 'product': 'abell2744-01324-001-251.0-nis-f115w-clear'}\n",
      "# (2024-06-27 03:20:15.534)\n",
      "{'files': ['jw01324001001_05101_00001_nis_rate.fits', 'jw01324001001_05101_00002_nis_rate.fits', 'jw01324001001_05101_00003_nis_rate.fits', 'jw01324001001_05101_00004_nis_rate.fits'], 'footprint': <POLYGON ((3.581 -30.419, 3.581 -30.419, 3.581 -30.419, 3.581 -30.419, 3.581...>, 'footprints': [<POLYGON ((3.581 -30.419, 3.567 -30.384, 3.608 -30.372, 3.622 -30.407, 3.581...>, <POLYGON ((3.581 -30.419, 3.567 -30.384, 3.608 -30.372, 3.622 -30.407, 3.581...>, <POLYGON ((3.581 -30.419, 3.567 -30.384, 3.608 -30.372, 3.622 -30.407, 3.581...>, <POLYGON ((3.581 -30.419, 3.567 -30.384, 3.608 -30.372, 3.622 -30.407, 3.581...>], 'product': 'abell2744-01324-001-251.0-nis-f115w-gr150c'}\n",
      "# (2024-06-27 03:20:15.534)\n",
      "filt.upper not in filters\n",
      "# (2024-06-27 03:20:15.534)\n",
      "{'files': ['jw01324001001_03101_00001_nis_rate.fits', 'jw01324001001_03101_00002_nis_rate.fits', 'jw01324001001_03101_00003_nis_rate.fits', 'jw01324001001_03101_00004_nis_rate.fits'], 'footprint': <POLYGON ((3.581 -30.419, 3.581 -30.419, 3.581 -30.419, 3.581 -30.419, 3.581...>, 'footprints': [<POLYGON ((3.581 -30.419, 3.567 -30.384, 3.608 -30.372, 3.622 -30.407, 3.581...>, <POLYGON ((3.581 -30.419, 3.567 -30.384, 3.608 -30.372, 3.622 -30.407, 3.581...>, <POLYGON ((3.581 -30.419, 3.567 -30.384, 3.608 -30.372, 3.622 -30.407, 3.581...>, <POLYGON ((3.581 -30.419, 3.567 -30.384, 3.608 -30.372, 3.622 -30.407, 3.581...>], 'product': 'abell2744-01324-001-251.0-nis-f115w-gr150r'}\n",
      "# (2024-06-27 03:20:15.535)\n",
      "filt.upper not in filters\n",
      "# (2024-06-27 03:20:15.535)\n",
      "{'files': ['jw01324001001_08101_00001_nis_rate.fits', 'jw01324001001_10101_00001_nis_rate.fits', 'jw01324001001_10101_00002_nis_rate.fits', 'jw01324001001_10101_00003_nis_rate.fits', 'jw01324001001_10101_00004_nis_rate.fits', 'jw01324001001_12101_00001_nis_rate.fits', 'jw01324001001_12101_00002_nis_rate.fits', 'jw01324001001_12101_00003_nis_rate.fits'], 'footprint': <POLYGON ((3.582 -30.419, 3.582 -30.419, 3.582 -30.419, 3.582 -30.419, 3.582...>, 'footprints': [<POLYGON ((3.582 -30.419, 3.568 -30.384, 3.609 -30.372, 3.623 -30.407, 3.582...>, <POLYGON ((3.582 -30.419, 3.568 -30.384, 3.609 -30.372, 3.623 -30.407, 3.582...>, <POLYGON ((3.582 -30.419, 3.568 -30.383, 3.609 -30.372, 3.623 -30.407, 3.582...>, <POLYGON ((3.582 -30.419, 3.568 -30.383, 3.61 -30.372, 3.623 -30.407, 3.582 ...>, <POLYGON ((3.58 -30.418, 3.566 -30.383, 3.608 -30.371, 3.621 -30.406, 3.58 -...>, <POLYGON ((3.58 -30.418, 3.567 -30.383, 3.608 -30.371, 3.622 -30.406, 3.58 -...>, <POLYGON ((3.58 -30.418, 3.567 -30.383, 3.608 -30.371, 3.621 -30.406, 3.58 -...>, <POLYGON ((3.58 -30.418, 3.567 -30.383, 3.608 -30.371, 3.622 -30.406, 3.58 -...>], 'product': 'abell2744-01324-001-251.0-nis-f150w-clear'}\n",
      "# (2024-06-27 03:20:15.536)\n",
      "{'files': ['jw01324001001_11101_00001_nis_rate.fits', 'jw01324001001_11101_00002_nis_rate.fits', 'jw01324001001_11101_00003_nis_rate.fits', 'jw01324001001_11101_00004_nis_rate.fits'], 'footprint': <POLYGON ((3.58 -30.418, 3.58 -30.418, 3.58 -30.418, 3.58 -30.418, 3.58 -30....>, 'footprints': [<POLYGON ((3.58 -30.418, 3.566 -30.383, 3.608 -30.371, 3.621 -30.406, 3.58 -...>, <POLYGON ((3.58 -30.418, 3.567 -30.383, 3.608 -30.371, 3.621 -30.406, 3.58 -...>, <POLYGON ((3.58 -30.418, 3.567 -30.383, 3.608 -30.371, 3.622 -30.406, 3.58 -...>, <POLYGON ((3.58 -30.418, 3.567 -30.383, 3.608 -30.371, 3.622 -30.406, 3.58 -...>], 'product': 'abell2744-01324-001-251.0-nis-f150w-gr150c'}\n",
      "# (2024-06-27 03:20:15.536)\n",
      "filt.upper not in filters\n",
      "# (2024-06-27 03:20:15.536)\n",
      "{'files': ['jw01324001001_09101_00001_nis_rate.fits', 'jw01324001001_09101_00002_nis_rate.fits', 'jw01324001001_09101_00003_nis_rate.fits', 'jw01324001001_09101_00004_nis_rate.fits'], 'footprint': <POLYGON ((3.582 -30.419, 3.582 -30.419, 3.582 -30.419, 3.582 -30.419, 3.582...>, 'footprints': [<POLYGON ((3.582 -30.419, 3.568 -30.384, 3.609 -30.372, 3.623 -30.407, 3.582...>, <POLYGON ((3.582 -30.419, 3.568 -30.383, 3.609 -30.372, 3.623 -30.407, 3.582...>, <POLYGON ((3.582 -30.419, 3.568 -30.383, 3.61 -30.372, 3.623 -30.407, 3.582 ...>, <POLYGON ((3.582 -30.419, 3.568 -30.384, 3.609 -30.372, 3.623 -30.407, 3.582...>], 'product': 'abell2744-01324-001-251.0-nis-f150w-gr150r'}\n",
      "# (2024-06-27 03:20:15.537)\n",
      "filt.upper not in filters\n",
      "# (2024-06-27 03:20:15.537)\n",
      "{'files': ['jw01324001001_14101_00001_nis_rate.fits', 'jw01324001001_16101_00001_nis_rate.fits', 'jw01324001001_16101_00002_nis_rate.fits', 'jw01324001001_16101_00003_nis_rate.fits', 'jw01324001001_16101_00004_nis_rate.fits', 'jw01324001001_18101_00001_nis_rate.fits', 'jw01324001001_18101_00002_nis_rate.fits', 'jw01324001001_18101_00003_nis_rate.fits'], 'footprint': <POLYGON ((3.584 -30.419, 3.584 -30.419, 3.584 -30.419, 3.584 -30.419, 3.584...>, 'footprints': [<POLYGON ((3.584 -30.418, 3.57 -30.383, 3.611 -30.371, 3.625 -30.407, 3.584 ...>, <POLYGON ((3.584 -30.418, 3.57 -30.383, 3.611 -30.371, 3.625 -30.407, 3.584 ...>, <POLYGON ((3.584 -30.418, 3.57 -30.383, 3.611 -30.371, 3.625 -30.406, 3.584 ...>, <POLYGON ((3.584 -30.418, 3.57 -30.383, 3.611 -30.371, 3.625 -30.406, 3.584 ...>, <POLYGON ((3.58 -30.417, 3.566 -30.381, 3.607 -30.37, 3.621 -30.405, 3.58 -3...>, <POLYGON ((3.58 -30.417, 3.566 -30.381, 3.607 -30.37, 3.621 -30.405, 3.58 -3...>, <POLYGON ((3.58 -30.416, 3.566 -30.381, 3.607 -30.369, 3.621 -30.405, 3.58 -...>, <POLYGON ((3.58 -30.416, 3.566 -30.381, 3.607 -30.37, 3.621 -30.405, 3.58 -3...>], 'product': 'abell2744-01324-001-251.0-nis-f200w-clear'}\n",
      "# (2024-06-27 03:20:15.538)\n",
      "{'files': ['jw01324001001_17101_00001_nis_rate.fits', 'jw01324001001_17101_00002_nis_rate.fits', 'jw01324001001_17101_00003_nis_rate.fits', 'jw01324001001_17101_00004_nis_rate.fits'], 'footprint': <POLYGON ((3.58 -30.417, 3.58 -30.417, 3.58 -30.417, 3.58 -30.417, 3.58 -30....>, 'footprints': [<POLYGON ((3.58 -30.417, 3.566 -30.381, 3.607 -30.37, 3.621 -30.405, 3.58 -3...>, <POLYGON ((3.58 -30.416, 3.566 -30.381, 3.607 -30.369, 3.621 -30.405, 3.58 -...>, <POLYGON ((3.58 -30.416, 3.566 -30.381, 3.607 -30.37, 3.621 -30.405, 3.58 -3...>, <POLYGON ((3.58 -30.417, 3.566 -30.381, 3.607 -30.37, 3.621 -30.405, 3.58 -3...>], 'product': 'abell2744-01324-001-251.0-nis-f200w-gr150c'}\n",
      "# (2024-06-27 03:20:15.538)\n",
      "filt.upper not in filters\n",
      "# (2024-06-27 03:20:15.538)\n",
      "{'files': ['jw01324001001_15101_00001_nis_rate.fits', 'jw01324001001_15101_00002_nis_rate.fits', 'jw01324001001_15101_00003_nis_rate.fits', 'jw01324001001_15101_00004_nis_rate.fits'], 'footprint': <POLYGON ((3.584 -30.419, 3.584 -30.419, 3.584 -30.419, 3.584 -30.419, 3.584...>, 'footprints': [<POLYGON ((3.584 -30.418, 3.57 -30.383, 3.611 -30.371, 3.625 -30.407, 3.584 ...>, <POLYGON ((3.584 -30.418, 3.57 -30.383, 3.611 -30.371, 3.625 -30.406, 3.584 ...>, <POLYGON ((3.584 -30.418, 3.57 -30.383, 3.611 -30.371, 3.625 -30.406, 3.584 ...>, <POLYGON ((3.584 -30.418, 3.57 -30.383, 3.611 -30.371, 3.625 -30.407, 3.584 ...>], 'product': 'abell2744-01324-001-251.0-nis-f200w-gr150r'}\n",
      "# (2024-06-27 03:20:15.539)\n",
      "filt.upper not in filters\n",
      "Drizzle mosaics in filters: dict_keys(['f115w', 'f150w', 'f200w'])\n",
      "\n",
      "\n",
      "The following task in the stsci.skypac package can be run with TEAL:\n",
      "                                    skymatch                                    \n",
      "The following tasks in the drizzlepac package can be run with TEAL:\n",
      "    astrodrizzle       config_testbed      imagefindpars           mapreg       \n",
      "       photeq            pixreplace           pixtopix            pixtosky      \n",
      "  refimagefindpars       resetbits          runastrodriz          skytopix      \n",
      "     tweakback            tweakreg           updatenpol\n",
      "\n",
      "\n",
      "### drizzle_overlaps: glass-2022data-f115w (8)\n",
      "\n",
      "# (2024-06-27 03:20:36.026)\n",
      "\n",
      "jwst_utils.set_jwst_to_hst_keywords(**{'input': 'jw01324001001_02101_00001_nis_rate.fits', 'reset': False, 'verbose': True, 'orig_keys': ['TELESCOP', 'INSTRUME', 'DETECTOR', 'FILTER', 'PUPIL', 'EXP_TYPE', 'GRATING']})\n",
      "\n",
      "  Set: TELESCOP > HST\n",
      "  Set: INSTRUME > WFC3\n",
      "  Set: DETECTOR > IR\n",
      "# (2024-06-27 03:20:36.170)\n",
      "\n",
      "jwst_utils.set_jwst_to_hst_keywords(**{'input': 'jw01324001001_04101_00001_nis_rate.fits', 'reset': False, 'verbose': True, 'orig_keys': ['TELESCOP', 'INSTRUME', 'DETECTOR', 'FILTER', 'PUPIL', 'EXP_TYPE', 'GRATING']})\n",
      "\n",
      "  Set: TELESCOP > HST\n",
      "  Set: INSTRUME > WFC3\n",
      "  Set: DETECTOR > IR\n",
      "# (2024-06-27 03:20:36.430)\n",
      "\n",
      "jwst_utils.set_jwst_to_hst_keywords(**{'input': 'jw01324001001_04101_00002_nis_rate.fits', 'reset': False, 'verbose': True, 'orig_keys': ['TELESCOP', 'INSTRUME', 'DETECTOR', 'FILTER', 'PUPIL', 'EXP_TYPE', 'GRATING']})\n",
      "\n",
      "  Set: TELESCOP > HST\n",
      "  Set: INSTRUME > WFC3\n",
      "  Set: DETECTOR > IR\n",
      "# (2024-06-27 03:20:36.601)\n",
      "\n",
      "jwst_utils.set_jwst_to_hst_keywords(**{'input': 'jw01324001001_04101_00003_nis_rate.fits', 'reset': False, 'verbose': True, 'orig_keys': ['TELESCOP', 'INSTRUME', 'DETECTOR', 'FILTER', 'PUPIL', 'EXP_TYPE', 'GRATING']})\n",
      "\n",
      "  Set: TELESCOP > HST\n",
      "  Set: INSTRUME > WFC3\n",
      "  Set: DETECTOR > IR\n",
      "# (2024-06-27 03:20:36.774)\n",
      "\n",
      "jwst_utils.set_jwst_to_hst_keywords(**{'input': 'jw01324001001_04101_00004_nis_rate.fits', 'reset': False, 'verbose': True, 'orig_keys': ['TELESCOP', 'INSTRUME', 'DETECTOR', 'FILTER', 'PUPIL', 'EXP_TYPE', 'GRATING']})\n",
      "\n",
      "  Set: TELESCOP > HST\n",
      "  Set: INSTRUME > WFC3\n",
      "  Set: DETECTOR > IR\n",
      "# (2024-06-27 03:20:36.940)\n",
      "\n",
      "jwst_utils.set_jwst_to_hst_keywords(**{'input': 'jw01324001001_06101_00001_nis_rate.fits', 'reset': False, 'verbose': True, 'orig_keys': ['TELESCOP', 'INSTRUME', 'DETECTOR', 'FILTER', 'PUPIL', 'EXP_TYPE', 'GRATING']})\n",
      "\n",
      "  Set: TELESCOP > HST\n",
      "  Set: INSTRUME > WFC3\n",
      "  Set: DETECTOR > IR\n",
      "# (2024-06-27 03:20:37.124)\n",
      "\n",
      "jwst_utils.set_jwst_to_hst_keywords(**{'input': 'jw01324001001_06101_00002_nis_rate.fits', 'reset': False, 'verbose': True, 'orig_keys': ['TELESCOP', 'INSTRUME', 'DETECTOR', 'FILTER', 'PUPIL', 'EXP_TYPE', 'GRATING']})\n",
      "\n",
      "  Set: TELESCOP > HST\n",
      "  Set: INSTRUME > WFC3\n",
      "  Set: DETECTOR > IR\n",
      "# (2024-06-27 03:20:37.297)\n",
      "\n",
      "jwst_utils.set_jwst_to_hst_keywords(**{'input': 'jw01324001001_06101_00003_nis_rate.fits', 'reset': False, 'verbose': True, 'orig_keys': ['TELESCOP', 'INSTRUME', 'DETECTOR', 'FILTER', 'PUPIL', 'EXP_TYPE', 'GRATING']})\n",
      "\n",
      "  Set: TELESCOP > HST\n",
      "  Set: INSTRUME > WFC3\n",
      "  Set: DETECTOR > IR\n"
     ]
    },
    {
     "name": "stderr",
     "output_type": "stream",
     "text": [
      "2024-06-27 10:20:37,639 - stpipe - INFO - Setting up logfile :  astrodrizzle.log\n"
     ]
    },
    {
     "name": "stdout",
     "output_type": "stream",
     "text": [
      "Setting up logfile :  astrodrizzle.log\n"
     ]
    },
    {
     "name": "stderr",
     "output_type": "stream",
     "text": [
      "2024-06-27 10:20:37,641 - stpipe - INFO - AstroDrizzle log file: astrodrizzle.log\n"
     ]
    },
    {
     "name": "stdout",
     "output_type": "stream",
     "text": [
      "AstroDrizzle log file: astrodrizzle.log\n"
     ]
    },
    {
     "name": "stderr",
     "output_type": "stream",
     "text": [
      "2024-06-27 10:20:37,642 - stpipe - INFO - AstroDrizzle Version 3.7.0.1 started at: 10:20:37.642 (27/06/2024)\n"
     ]
    },
    {
     "name": "stdout",
     "output_type": "stream",
     "text": [
      "AstroDrizzle Version 3.7.0.1 started at: 10:20:37.642 (27/06/2024)\n"
     ]
    },
    {
     "name": "stderr",
     "output_type": "stream",
     "text": [
      "2024-06-27 10:20:37,643 - stpipe - INFO - \n"
     ]
    },
    {
     "name": "stdout",
     "output_type": "stream",
     "text": [
      "\n"
     ]
    },
    {
     "name": "stderr",
     "output_type": "stream",
     "text": [
      "2024-06-27 10:20:37,644 - stpipe - INFO - Version Information\n",
      "2024-06-27 10:20:37,644 - stpipe - INFO - --------------------\n",
      "2024-06-27 10:20:37,645 - stpipe - INFO - Python Version 3.11.9 (main, Apr 19 2024, 16:48:06) [GCC 11.2.0]\n",
      "2024-06-27 10:20:37,645 - stpipe - INFO - numpy Version -> 1.26.4 \n",
      "2024-06-27 10:20:37,646 - stpipe - INFO - astropy Version -> 6.1.1 \n",
      "2024-06-27 10:20:37,646 - stpipe - INFO - stwcs Version -> 1.7.3 \n",
      "2024-06-27 10:20:37,647 - stpipe - INFO - photutils Version -> 1.12.0 \n",
      "2024-06-27 10:20:37,648 - stpipe - INFO - ==== Processing Step  Initialization  started at  10:20:37.648 (27/06/2024)\n"
     ]
    },
    {
     "name": "stdout",
     "output_type": "stream",
     "text": [
      "==== Processing Step  Initialization  started at  10:20:37.648 (27/06/2024)\n"
     ]
    },
    {
     "name": "stderr",
     "output_type": "stream",
     "text": [
      "2024-06-27 10:20:37,649 - stpipe - INFO - \n"
     ]
    },
    {
     "name": "stdout",
     "output_type": "stream",
     "text": [
      "\n"
     ]
    },
    {
     "name": "stderr",
     "output_type": "stream",
     "text": [
      "2024-06-27 10:20:37,788 - stpipe - INFO - Executing serially\n",
      "2024-06-27 10:20:38,016 - stpipe - INFO - Setting up output name: glass-2022data-f115w_drz.fits\n",
      "2024-06-27 10:20:38,020 - stpipe - INFO - ##############################################################################\n"
     ]
    },
    {
     "name": "stdout",
     "output_type": "stream",
     "text": [
      "##############################################################################\n"
     ]
    },
    {
     "name": "stderr",
     "output_type": "stream",
     "text": [
      "2024-06-27 10:20:38,021 - stpipe - INFO - #                                                                            #\n"
     ]
    },
    {
     "name": "stdout",
     "output_type": "stream",
     "text": [
      "#                                                                            #\n"
     ]
    },
    {
     "name": "stderr",
     "output_type": "stream",
     "text": [
      "2024-06-27 10:20:38,022 - stpipe - INFO - # “minmed” is highly recommended for three images,                           #\n"
     ]
    },
    {
     "name": "stdout",
     "output_type": "stream",
     "text": [
      "# “minmed” is highly recommended for three images,                           #\n"
     ]
    },
    {
     "name": "stderr",
     "output_type": "stream",
     "text": [
      "2024-06-27 10:20:38,023 - stpipe - INFO - #  and is good for four to six images,                                       #\n"
     ]
    },
    {
     "name": "stdout",
     "output_type": "stream",
     "text": [
      "#  and is good for four to six images,                                       #\n"
     ]
    },
    {
     "name": "stderr",
     "output_type": "stream",
     "text": [
      "2024-06-27 10:20:38,024 - stpipe - INFO - #  but should be avoided for ten or more images.                             #\n"
     ]
    },
    {
     "name": "stdout",
     "output_type": "stream",
     "text": [
      "#  but should be avoided for ten or more images.                             #\n"
     ]
    },
    {
     "name": "stderr",
     "output_type": "stream",
     "text": [
      "2024-06-27 10:20:38,025 - stpipe - INFO - #                                                                            #\n"
     ]
    },
    {
     "name": "stdout",
     "output_type": "stream",
     "text": [
      "#                                                                            #\n"
     ]
    },
    {
     "name": "stderr",
     "output_type": "stream",
     "text": [
      "2024-06-27 10:20:38,026 - stpipe - INFO - ##############################################################################\n"
     ]
    },
    {
     "name": "stdout",
     "output_type": "stream",
     "text": [
      "##############################################################################\n"
     ]
    },
    {
     "name": "stderr",
     "output_type": "stream",
     "text": [
      "2024-06-27 10:20:38,035 - stpipe - INFO - -Creating imageObject List as input for processing steps.\n",
      "2024-06-27 10:20:38,396 - stpipe - INFO - Reading in MDRIZSKY of 0.22424273192882538\n",
      "2024-06-27 10:20:38,526 - stpipe - INFO - Reading in MDRIZSKY of 0.226111501455307\n",
      "2024-06-27 10:20:38,657 - stpipe - INFO - Reading in MDRIZSKY of 0.2270340621471405\n",
      "2024-06-27 10:20:38,787 - stpipe - INFO - Reading in MDRIZSKY of 0.2231787145137787\n",
      "2024-06-27 10:20:38,915 - stpipe - INFO - Reading in MDRIZSKY of 0.2268390953540802\n",
      "2024-06-27 10:20:39,044 - stpipe - INFO - Reading in MDRIZSKY of 0.22608450055122375\n",
      "2024-06-27 10:20:39,177 - stpipe - INFO - Reading in MDRIZSKY of 0.2261202186346054\n",
      "2024-06-27 10:20:39,307 - stpipe - INFO - Reading in MDRIZSKY of 0.22605599462985992\n",
      "2024-06-27 10:20:39,333 - stpipe - INFO - No context image will be created for jw01324001001_02101_00001_nis_rate.fits\n",
      "2024-06-27 10:20:39,334 - stpipe - INFO - No context image will be created for jw01324001001_04101_00001_nis_rate.fits\n",
      "2024-06-27 10:20:39,334 - stpipe - INFO - No context image will be created for jw01324001001_04101_00002_nis_rate.fits\n",
      "2024-06-27 10:20:39,334 - stpipe - INFO - No context image will be created for jw01324001001_04101_00003_nis_rate.fits\n",
      "2024-06-27 10:20:39,335 - stpipe - INFO - No context image will be created for jw01324001001_04101_00004_nis_rate.fits\n",
      "2024-06-27 10:20:39,335 - stpipe - INFO - No context image will be created for jw01324001001_06101_00001_nis_rate.fits\n",
      "2024-06-27 10:20:39,336 - stpipe - INFO - No context image will be created for jw01324001001_06101_00002_nis_rate.fits\n",
      "2024-06-27 10:20:39,336 - stpipe - INFO - No context image will be created for jw01324001001_06101_00003_nis_rate.fits\n",
      "2024-06-27 10:20:39,337 - stpipe - INFO - -Creating output WCS.\n",
      "2024-06-27 10:20:39,340 - stpipe - INFO - No context image will be created for glass-2022data-f115w_drz.fits\n",
      "2024-06-27 10:20:39,348 - stpipe - INFO - Creating OUTPUT WCS from glass-2022data_wcs-ref.fits[1]\n"
     ]
    },
    {
     "name": "stdout",
     "output_type": "stream",
     "text": [
      "Creating OUTPUT WCS from glass-2022data_wcs-ref.fits[1]\n"
     ]
    },
    {
     "name": "stderr",
     "output_type": "stream",
     "text": [
      "2024-06-27 10:20:39,354 - stpipe - INFO - WCS Keywords\n"
     ]
    },
    {
     "name": "stdout",
     "output_type": "stream",
     "text": [
      "WCS Keywords\n"
     ]
    },
    {
     "name": "stderr",
     "output_type": "stream",
     "text": [
      "2024-06-27 10:20:39,355 - stpipe - INFO - \n"
     ]
    },
    {
     "name": "stdout",
     "output_type": "stream",
     "text": [
      "\n"
     ]
    },
    {
     "name": "stderr",
     "output_type": "stream",
     "text": [
      "2024-06-27 10:20:39,356 - stpipe - INFO - CD_11  CD_12: -8.3333333333333e-06 0.0\n"
     ]
    },
    {
     "name": "stdout",
     "output_type": "stream",
     "text": [
      "CD_11  CD_12: -8.3333333333333e-06 0.0\n"
     ]
    },
    {
     "name": "stderr",
     "output_type": "stream",
     "text": [
      "2024-06-27 10:20:39,357 - stpipe - INFO - CD_21  CD_22: 0.0 8.33333333333333e-06\n"
     ]
    },
    {
     "name": "stdout",
     "output_type": "stream",
     "text": [
      "CD_21  CD_22: 0.0 8.33333333333333e-06\n"
     ]
    },
    {
     "name": "stderr",
     "output_type": "stream",
     "text": [
      "2024-06-27 10:20:39,358 - stpipe - INFO - CRVAL    : 3.595475565788118 -30.39433251948023\n"
     ]
    },
    {
     "name": "stdout",
     "output_type": "stream",
     "text": [
      "CRVAL    : 3.595475565788118 -30.39433251948023\n"
     ]
    },
    {
     "name": "stderr",
     "output_type": "stream",
     "text": [
      "2024-06-27 10:20:39,359 - stpipe - INFO - CRPIX    : 3287.0 3214.5\n"
     ]
    },
    {
     "name": "stdout",
     "output_type": "stream",
     "text": [
      "CRPIX    : 3287.0 3214.5\n"
     ]
    },
    {
     "name": "stderr",
     "output_type": "stream",
     "text": [
      "2024-06-27 10:20:39,360 - stpipe - INFO - NAXIS    : 6573 6428\n"
     ]
    },
    {
     "name": "stdout",
     "output_type": "stream",
     "text": [
      "NAXIS    : 6573 6428\n"
     ]
    },
    {
     "name": "stderr",
     "output_type": "stream",
     "text": [
      "2024-06-27 10:20:39,361 - stpipe - INFO - Plate Scale : 0.02999999999999988\n"
     ]
    },
    {
     "name": "stdout",
     "output_type": "stream",
     "text": [
      "Plate Scale : 0.02999999999999988\n"
     ]
    },
    {
     "name": "stderr",
     "output_type": "stream",
     "text": [
      "2024-06-27 10:20:39,362 - stpipe - INFO - ORIENTAT : 0.0\n"
     ]
    },
    {
     "name": "stdout",
     "output_type": "stream",
     "text": [
      "ORIENTAT : 0.0\n"
     ]
    },
    {
     "name": "stderr",
     "output_type": "stream",
     "text": [
      "2024-06-27 10:20:39,363 - stpipe - INFO - ********************************************************************************\n"
     ]
    },
    {
     "name": "stdout",
     "output_type": "stream",
     "text": [
      "********************************************************************************\n"
     ]
    },
    {
     "name": "stderr",
     "output_type": "stream",
     "text": [
      "2024-06-27 10:20:39,364 - stpipe - INFO - *\n"
     ]
    },
    {
     "name": "stdout",
     "output_type": "stream",
     "text": [
      "*\n"
     ]
    },
    {
     "name": "stderr",
     "output_type": "stream",
     "text": [
      "2024-06-27 10:20:39,365 - stpipe - INFO - *  Estimated memory usage:  up to 515 Mb.\n"
     ]
    },
    {
     "name": "stdout",
     "output_type": "stream",
     "text": [
      "*  Estimated memory usage:  up to 515 Mb.\n"
     ]
    },
    {
     "name": "stderr",
     "output_type": "stream",
     "text": [
      "2024-06-27 10:20:39,366 - stpipe - INFO - *  Output image size:       6573 X 6428 pixels. \n"
     ]
    },
    {
     "name": "stdout",
     "output_type": "stream",
     "text": [
      "*  Output image size:       6573 X 6428 pixels. \n"
     ]
    },
    {
     "name": "stderr",
     "output_type": "stream",
     "text": [
      "2024-06-27 10:20:39,367 - stpipe - INFO - *  Output image file:       ~ 483 Mb. \n"
     ]
    },
    {
     "name": "stdout",
     "output_type": "stream",
     "text": [
      "*  Output image file:       ~ 483 Mb. \n"
     ]
    },
    {
     "name": "stderr",
     "output_type": "stream",
     "text": [
      "2024-06-27 10:20:39,368 - stpipe - INFO - *  Cores available:         1\n"
     ]
    },
    {
     "name": "stdout",
     "output_type": "stream",
     "text": [
      "*  Cores available:         1\n"
     ]
    },
    {
     "name": "stderr",
     "output_type": "stream",
     "text": [
      "2024-06-27 10:20:39,369 - stpipe - INFO - *\n"
     ]
    },
    {
     "name": "stdout",
     "output_type": "stream",
     "text": [
      "*\n"
     ]
    },
    {
     "name": "stderr",
     "output_type": "stream",
     "text": [
      "2024-06-27 10:20:39,370 - stpipe - INFO - ********************************************************************************\n"
     ]
    },
    {
     "name": "stdout",
     "output_type": "stream",
     "text": [
      "********************************************************************************\n"
     ]
    },
    {
     "name": "stderr",
     "output_type": "stream",
     "text": [
      "2024-06-27 10:20:39,371 - stpipe - INFO - ==== Processing Step Initialization finished at 10:20:39.371 (27/06/2024)\n"
     ]
    },
    {
     "name": "stdout",
     "output_type": "stream",
     "text": [
      "==== Processing Step Initialization finished at 10:20:39.371 (27/06/2024)\n"
     ]
    },
    {
     "name": "stderr",
     "output_type": "stream",
     "text": [
      "2024-06-27 10:20:39,372 - stpipe - INFO - USER INPUT PARAMETERS common to all Processing Steps:\n",
      "2024-06-27 10:20:39,373 - stpipe - INFO - \tbuild :\tFalse\n",
      "2024-06-27 10:20:39,373 - stpipe - INFO - \tcoeffs :\tTrue\n",
      "2024-06-27 10:20:39,374 - stpipe - INFO - \tcontext :\tFalse\n",
      "2024-06-27 10:20:39,374 - stpipe - INFO - \tcrbit :\t4096\n",
      "2024-06-27 10:20:39,375 - stpipe - INFO - \tgroup :\t\n",
      "2024-06-27 10:20:39,375 - stpipe - INFO - \tin_memory :\tFalse\n",
      "2024-06-27 10:20:39,376 - stpipe - INFO - \tinput :\t['jw01324001001_02101_00001_nis_rate.fits', 'jw01324001001_04101_00001_nis_rate.fits', 'jw01324001001_04101_00002_nis_rate.fits', 'jw01324001001_04101_00003_nis_rate.fits', 'jw01324001001_04101_00004_nis_rate.fits', 'jw01324001001_06101_00001_nis_rate.fits', 'jw01324001001_06101_00002_nis_rate.fits', 'jw01324001001_06101_00003_nis_rate.fits']\n",
      "2024-06-27 10:20:39,376 - stpipe - INFO - \tmdriztab :\tFalse\n",
      "2024-06-27 10:20:39,377 - stpipe - INFO - \tnum_cores :\tNone\n",
      "2024-06-27 10:20:39,377 - stpipe - INFO - \toutput :\tglass-2022data-f115w\n",
      "2024-06-27 10:20:39,378 - stpipe - INFO - \tproc_unit :\tnative\n",
      "2024-06-27 10:20:39,378 - stpipe - INFO - \tresetbits :\t0\n",
      "2024-06-27 10:20:39,379 - stpipe - INFO - \trules_file :\t\n",
      "2024-06-27 10:20:39,379 - stpipe - INFO - \trunfile :\tastrodrizzle.log\n",
      "2024-06-27 10:20:39,380 - stpipe - INFO - \tstepsize :\t10\n",
      "2024-06-27 10:20:39,380 - stpipe - INFO - \tupdatewcs :\tFalse\n",
      "2024-06-27 10:20:39,380 - stpipe - INFO - \twcskey :\t\n",
      "2024-06-27 10:20:39,381 - stpipe - INFO - ==== Processing Step  Static Mask  started at  10:20:39.38 (27/06/2024)\n"
     ]
    },
    {
     "name": "stdout",
     "output_type": "stream",
     "text": [
      "==== Processing Step  Static Mask  started at  10:20:39.38 (27/06/2024)\n"
     ]
    },
    {
     "name": "stderr",
     "output_type": "stream",
     "text": [
      "2024-06-27 10:20:39,382 - stpipe - INFO - \n"
     ]
    },
    {
     "name": "stdout",
     "output_type": "stream",
     "text": [
      "\n"
     ]
    },
    {
     "name": "stderr",
     "output_type": "stream",
     "text": [
      "2024-06-27 10:20:39,383 - stpipe - INFO - Static Mask step not performed.\n",
      "2024-06-27 10:20:39,384 - stpipe - INFO - ==== Processing Step Static Mask finished at 10:20:39.383 (27/06/2024)\n"
     ]
    },
    {
     "name": "stdout",
     "output_type": "stream",
     "text": [
      "==== Processing Step Static Mask finished at 10:20:39.383 (27/06/2024)\n"
     ]
    },
    {
     "name": "stderr",
     "output_type": "stream",
     "text": [
      "2024-06-27 10:20:39,385 - stpipe - INFO - ==== Processing Step  Subtract Sky  started at  10:20:39.385 (27/06/2024)\n"
     ]
    },
    {
     "name": "stdout",
     "output_type": "stream",
     "text": [
      "==== Processing Step  Subtract Sky  started at  10:20:39.385 (27/06/2024)\n"
     ]
    },
    {
     "name": "stderr",
     "output_type": "stream",
     "text": [
      "2024-06-27 10:20:39,386 - stpipe - INFO - \n"
     ]
    },
    {
     "name": "stdout",
     "output_type": "stream",
     "text": [
      "\n"
     ]
    },
    {
     "name": "stderr",
     "output_type": "stream",
     "text": [
      "2024-06-27 10:20:39,387 - stpipe - INFO - Sky Subtraction step not performed.\n",
      "2024-06-27 10:20:39,777 - stpipe - INFO - Retrieving user computed sky values from image headers \n",
      "2024-06-27 10:20:39,778 - stpipe - INFO - recorded in the 'MDRIZSKY' header keywords.\n",
      "2024-06-27 10:20:39,778 - stpipe - INFO - Working on sky for: jw01324001001_02101_00001_nis_rate.fits\n",
      "2024-06-27 10:20:39,779 - stpipe - INFO - User has computed their own sky values...\n"
     ]
    },
    {
     "name": "stdout",
     "output_type": "stream",
     "text": [
      "User has computed their own sky values...\n"
     ]
    },
    {
     "name": "stderr",
     "output_type": "stream",
     "text": [
      "2024-06-27 10:20:39,780 - stpipe - INFO - Working on sky for: jw01324001001_04101_00001_nis_rate.fits\n",
      "2024-06-27 10:20:39,781 - stpipe - INFO - User has computed their own sky values...\n"
     ]
    },
    {
     "name": "stdout",
     "output_type": "stream",
     "text": [
      "User has computed their own sky values...\n"
     ]
    },
    {
     "name": "stderr",
     "output_type": "stream",
     "text": [
      "2024-06-27 10:20:39,782 - stpipe - INFO - Working on sky for: jw01324001001_04101_00002_nis_rate.fits\n",
      "2024-06-27 10:20:39,782 - stpipe - INFO - User has computed their own sky values...\n"
     ]
    },
    {
     "name": "stdout",
     "output_type": "stream",
     "text": [
      "User has computed their own sky values...\n"
     ]
    },
    {
     "name": "stderr",
     "output_type": "stream",
     "text": [
      "2024-06-27 10:20:39,783 - stpipe - INFO - Working on sky for: jw01324001001_04101_00003_nis_rate.fits\n",
      "2024-06-27 10:20:39,784 - stpipe - INFO - User has computed their own sky values...\n"
     ]
    },
    {
     "name": "stdout",
     "output_type": "stream",
     "text": [
      "User has computed their own sky values...\n"
     ]
    },
    {
     "name": "stderr",
     "output_type": "stream",
     "text": [
      "2024-06-27 10:20:39,785 - stpipe - INFO - Working on sky for: jw01324001001_04101_00004_nis_rate.fits\n",
      "2024-06-27 10:20:39,786 - stpipe - INFO - User has computed their own sky values...\n"
     ]
    },
    {
     "name": "stdout",
     "output_type": "stream",
     "text": [
      "User has computed their own sky values...\n"
     ]
    },
    {
     "name": "stderr",
     "output_type": "stream",
     "text": [
      "2024-06-27 10:20:39,786 - stpipe - INFO - Working on sky for: jw01324001001_06101_00001_nis_rate.fits\n",
      "2024-06-27 10:20:39,787 - stpipe - INFO - User has computed their own sky values...\n"
     ]
    },
    {
     "name": "stdout",
     "output_type": "stream",
     "text": [
      "User has computed their own sky values...\n"
     ]
    },
    {
     "name": "stderr",
     "output_type": "stream",
     "text": [
      "2024-06-27 10:20:39,788 - stpipe - INFO - Working on sky for: jw01324001001_06101_00002_nis_rate.fits\n",
      "2024-06-27 10:20:39,789 - stpipe - INFO - User has computed their own sky values...\n"
     ]
    },
    {
     "name": "stdout",
     "output_type": "stream",
     "text": [
      "User has computed their own sky values...\n"
     ]
    },
    {
     "name": "stderr",
     "output_type": "stream",
     "text": [
      "2024-06-27 10:20:39,790 - stpipe - INFO - Working on sky for: jw01324001001_06101_00003_nis_rate.fits\n",
      "2024-06-27 10:20:39,790 - stpipe - INFO - User has computed their own sky values...\n"
     ]
    },
    {
     "name": "stdout",
     "output_type": "stream",
     "text": [
      "User has computed their own sky values...\n"
     ]
    },
    {
     "name": "stderr",
     "output_type": "stream",
     "text": [
      "2024-06-27 10:20:39,791 - stpipe - INFO - ==== Processing Step Subtract Sky finished at 10:20:39.791 (27/06/2024)\n"
     ]
    },
    {
     "name": "stdout",
     "output_type": "stream",
     "text": [
      "==== Processing Step Subtract Sky finished at 10:20:39.791 (27/06/2024)\n"
     ]
    },
    {
     "name": "stderr",
     "output_type": "stream",
     "text": [
      "2024-06-27 10:20:39,793 - stpipe - INFO - ==== Processing Step  Separate Drizzle  started at  10:20:39.793 (27/06/2024)\n"
     ]
    },
    {
     "name": "stdout",
     "output_type": "stream",
     "text": [
      "==== Processing Step  Separate Drizzle  started at  10:20:39.793 (27/06/2024)\n"
     ]
    },
    {
     "name": "stderr",
     "output_type": "stream",
     "text": [
      "2024-06-27 10:20:39,794 - stpipe - INFO - \n"
     ]
    },
    {
     "name": "stdout",
     "output_type": "stream",
     "text": [
      "\n"
     ]
    },
    {
     "name": "stderr",
     "output_type": "stream",
     "text": [
      "2024-06-27 10:20:39,795 - stpipe - INFO - Single drizzle step not performed.\n",
      "2024-06-27 10:20:39,795 - stpipe - INFO - ==== Processing Step Separate Drizzle finished at 10:20:39.795 (27/06/2024)\n"
     ]
    },
    {
     "name": "stdout",
     "output_type": "stream",
     "text": [
      "==== Processing Step Separate Drizzle finished at 10:20:39.795 (27/06/2024)\n"
     ]
    },
    {
     "name": "stderr",
     "output_type": "stream",
     "text": [
      "2024-06-27 10:20:39,797 - stpipe - INFO - ==== Processing Step  Create Median  started at  10:20:39.796 (27/06/2024)\n"
     ]
    },
    {
     "name": "stdout",
     "output_type": "stream",
     "text": [
      "==== Processing Step  Create Median  started at  10:20:39.796 (27/06/2024)\n"
     ]
    },
    {
     "name": "stderr",
     "output_type": "stream",
     "text": [
      "2024-06-27 10:20:39,798 - stpipe - INFO - \n"
     ]
    },
    {
     "name": "stdout",
     "output_type": "stream",
     "text": [
      "\n"
     ]
    },
    {
     "name": "stderr",
     "output_type": "stream",
     "text": [
      "2024-06-27 10:20:39,799 - stpipe - INFO - Median combination step not performed.\n",
      "2024-06-27 10:20:39,799 - stpipe - INFO - ==== Processing Step  Blot  started at  10:20:39.799 (27/06/2024)\n"
     ]
    },
    {
     "name": "stdout",
     "output_type": "stream",
     "text": [
      "==== Processing Step  Blot  started at  10:20:39.799 (27/06/2024)\n"
     ]
    },
    {
     "name": "stderr",
     "output_type": "stream",
     "text": [
      "2024-06-27 10:20:39,800 - stpipe - INFO - \n"
     ]
    },
    {
     "name": "stdout",
     "output_type": "stream",
     "text": [
      "\n"
     ]
    },
    {
     "name": "stderr",
     "output_type": "stream",
     "text": [
      "2024-06-27 10:20:39,802 - stpipe - INFO - Blot step not performed.\n",
      "2024-06-27 10:20:39,802 - stpipe - INFO - ==== Processing Step Blot finished at 10:20:39.802 (27/06/2024)\n"
     ]
    },
    {
     "name": "stdout",
     "output_type": "stream",
     "text": [
      "==== Processing Step Blot finished at 10:20:39.802 (27/06/2024)\n"
     ]
    },
    {
     "name": "stderr",
     "output_type": "stream",
     "text": [
      "2024-06-27 10:20:39,804 - stpipe - INFO - ==== Processing Step  Driz_CR  started at  10:20:39.803 (27/06/2024)\n"
     ]
    },
    {
     "name": "stdout",
     "output_type": "stream",
     "text": [
      "==== Processing Step  Driz_CR  started at  10:20:39.803 (27/06/2024)\n"
     ]
    },
    {
     "name": "stderr",
     "output_type": "stream",
     "text": [
      "2024-06-27 10:20:39,805 - stpipe - INFO - \n"
     ]
    },
    {
     "name": "stdout",
     "output_type": "stream",
     "text": [
      "\n"
     ]
    },
    {
     "name": "stderr",
     "output_type": "stream",
     "text": [
      "2024-06-27 10:20:39,806 - stpipe - INFO - Cosmic-ray identification (driz_cr) step not performed.\n",
      "2024-06-27 10:20:39,806 - stpipe - INFO - ==== Processing Step  Final Drizzle  started at  10:20:39.80 (27/06/2024)\n"
     ]
    },
    {
     "name": "stdout",
     "output_type": "stream",
     "text": [
      "==== Processing Step  Final Drizzle  started at  10:20:39.80 (27/06/2024)\n"
     ]
    },
    {
     "name": "stderr",
     "output_type": "stream",
     "text": [
      "2024-06-27 10:20:39,807 - stpipe - INFO - \n"
     ]
    },
    {
     "name": "stdout",
     "output_type": "stream",
     "text": [
      "\n"
     ]
    },
    {
     "name": "stderr",
     "output_type": "stream",
     "text": [
      "2024-06-27 10:20:39,808 - stpipe - INFO - Interpreted paramDict with single=False as:\n",
      "2024-06-27 10:20:39,809 - stpipe - INFO - {'build': False, 'stepsize': 10, 'coeffs': True, 'wcskey': '', 'wht_type': 'IVM', 'kernel': 'square', 'wt_scl': 'exptime', 'pixfrac': 0.75, 'fillval': None, 'maskval': None, 'bits': 5, 'units': 'cps'}\n",
      "2024-06-27 10:20:39,809 - stpipe - INFO - USER INPUT PARAMETERS for Final Drizzle Step:\n",
      "2024-06-27 10:20:39,810 - stpipe - INFO - \tbits :\t5\n",
      "2024-06-27 10:20:39,810 - stpipe - INFO - \tbuild :\tFalse\n",
      "2024-06-27 10:20:39,811 - stpipe - INFO - \tclean :\tTrue\n",
      "2024-06-27 10:20:39,811 - stpipe - INFO - \tcoeffs :\tTrue\n",
      "2024-06-27 10:20:39,812 - stpipe - INFO - \tcrbit :\t4096\n",
      "2024-06-27 10:20:39,812 - stpipe - INFO - \tfillval :\tNone\n",
      "2024-06-27 10:20:39,813 - stpipe - INFO - \tkernel :\tsquare\n",
      "2024-06-27 10:20:39,813 - stpipe - INFO - \tlogfile :\tastrodrizzle.log\n",
      "2024-06-27 10:20:39,814 - stpipe - INFO - \tmaskval :\tNone\n",
      "2024-06-27 10:20:39,814 - stpipe - INFO - \tpixfrac :\t0.75\n",
      "2024-06-27 10:20:39,815 - stpipe - INFO - \tproc_unit :\tnative\n",
      "2024-06-27 10:20:39,815 - stpipe - INFO - \trules_file :\tNone\n",
      "2024-06-27 10:20:39,816 - stpipe - INFO - \tstepsize :\t10\n",
      "2024-06-27 10:20:39,816 - stpipe - INFO - \tunits :\tcps\n",
      "2024-06-27 10:20:39,817 - stpipe - INFO - \twcskey :\t\n",
      "2024-06-27 10:20:39,817 - stpipe - INFO - \twht_type :\tIVM\n",
      "2024-06-27 10:20:39,818 - stpipe - INFO - \twt_scl :\texptime\n",
      "2024-06-27 10:20:39,818 - stpipe - INFO -   **Using sub-sampling value of 10 for kernel square\n",
      "2024-06-27 10:20:39,819 - stpipe - INFO - Running Drizzle to create output frame with WCS of: \n",
      "2024-06-27 10:20:39,820 - stpipe - INFO - WCS Keywords\n"
     ]
    },
    {
     "name": "stdout",
     "output_type": "stream",
     "text": [
      "WCS Keywords\n"
     ]
    },
    {
     "name": "stderr",
     "output_type": "stream",
     "text": [
      "2024-06-27 10:20:39,821 - stpipe - INFO - \n"
     ]
    },
    {
     "name": "stdout",
     "output_type": "stream",
     "text": [
      "\n"
     ]
    },
    {
     "name": "stderr",
     "output_type": "stream",
     "text": [
      "2024-06-27 10:20:39,822 - stpipe - INFO - CD_11  CD_12: -8.3333333333333e-06 0.0\n"
     ]
    },
    {
     "name": "stdout",
     "output_type": "stream",
     "text": [
      "CD_11  CD_12: -8.3333333333333e-06 0.0\n"
     ]
    },
    {
     "name": "stderr",
     "output_type": "stream",
     "text": [
      "2024-06-27 10:20:39,823 - stpipe - INFO - CD_21  CD_22: 0.0 8.33333333333333e-06\n"
     ]
    },
    {
     "name": "stdout",
     "output_type": "stream",
     "text": [
      "CD_21  CD_22: 0.0 8.33333333333333e-06\n"
     ]
    },
    {
     "name": "stderr",
     "output_type": "stream",
     "text": [
      "2024-06-27 10:20:39,824 - stpipe - INFO - CRVAL    : 3.595475565788118 -30.39433251948023\n"
     ]
    },
    {
     "name": "stdout",
     "output_type": "stream",
     "text": [
      "CRVAL    : 3.595475565788118 -30.39433251948023\n"
     ]
    },
    {
     "name": "stderr",
     "output_type": "stream",
     "text": [
      "2024-06-27 10:20:39,825 - stpipe - INFO - CRPIX    : 3287.0 3214.5\n"
     ]
    },
    {
     "name": "stdout",
     "output_type": "stream",
     "text": [
      "CRPIX    : 3287.0 3214.5\n"
     ]
    },
    {
     "name": "stderr",
     "output_type": "stream",
     "text": [
      "2024-06-27 10:20:39,825 - stpipe - INFO - NAXIS    : 6573 6428\n"
     ]
    },
    {
     "name": "stdout",
     "output_type": "stream",
     "text": [
      "NAXIS    : 6573 6428\n"
     ]
    },
    {
     "name": "stderr",
     "output_type": "stream",
     "text": [
      "2024-06-27 10:20:39,827 - stpipe - INFO - Plate Scale : 0.02999999999999988\n"
     ]
    },
    {
     "name": "stdout",
     "output_type": "stream",
     "text": [
      "Plate Scale : 0.02999999999999988\n"
     ]
    },
    {
     "name": "stderr",
     "output_type": "stream",
     "text": [
      "2024-06-27 10:20:39,827 - stpipe - INFO - ORIENTAT : 0.0\n"
     ]
    },
    {
     "name": "stdout",
     "output_type": "stream",
     "text": [
      "ORIENTAT : 0.0\n"
     ]
    },
    {
     "name": "stderr",
     "output_type": "stream",
     "text": [
      "2024-06-27 10:20:39,852 - stpipe - INFO - -Drizzle input: jw01324001001_02101_00001_nis_rate.fits[sci,1]\n",
      "2024-06-27 10:20:39,879 - stpipe - INFO - Applying sky value of 0.224243 to jw01324001001_02101_00001_nis_rate.fits[sci,1]\n",
      "2024-06-27 10:20:39,899 - stpipe - WARNING - No CR mask file found! Input DQ array not updated.\n",
      "2024-06-27 10:20:39,900 - stpipe - INFO - Automatically creating IVM files for chip 1\n",
      "2024-06-27 10:20:39,904 - stpipe - WARNING - Cannot find flat field file 'jwst_niriss_flat_0261.fits'\n",
      "2024-06-27 10:20:39,904 - stpipe - WARNING - Treating flatfield as a constant value of '1'.\n",
      "2024-06-27 10:20:39,954 - stpipe - INFO - Using WCSLIB-based coordinate transformation...\n",
      "2024-06-27 10:20:39,955 - stpipe - INFO - stepsize = 10\n",
      "2024-06-27 10:20:39,968 - stpipe - INFO - -Drizzling using kernel = square\n",
      "2024-06-27 10:20:39,969 - stpipe - INFO - \n",
      "2024-06-27 10:20:41,543 - stpipe - INFO - -Drizzle input: jw01324001001_04101_00001_nis_rate.fits[sci,1]\n",
      "2024-06-27 10:20:41,569 - stpipe - INFO - Applying sky value of 0.226112 to jw01324001001_04101_00001_nis_rate.fits[sci,1]\n",
      "2024-06-27 10:20:41,586 - stpipe - WARNING - No CR mask file found! Input DQ array not updated.\n",
      "2024-06-27 10:20:41,587 - stpipe - INFO - Automatically creating IVM files for chip 1\n",
      "2024-06-27 10:20:41,590 - stpipe - WARNING - Cannot find flat field file 'jwst_niriss_flat_0261.fits'\n",
      "2024-06-27 10:20:41,592 - stpipe - WARNING - Treating flatfield as a constant value of '1'.\n",
      "2024-06-27 10:20:41,639 - stpipe - INFO - Using WCSLIB-based coordinate transformation...\n",
      "2024-06-27 10:20:41,640 - stpipe - INFO - stepsize = 10\n",
      "2024-06-27 10:20:41,653 - stpipe - INFO - -Drizzling using kernel = square\n",
      "2024-06-27 10:20:41,654 - stpipe - INFO - \n",
      "2024-06-27 10:20:43,204 - stpipe - INFO - -Drizzle input: jw01324001001_04101_00002_nis_rate.fits[sci,1]\n",
      "2024-06-27 10:20:43,232 - stpipe - INFO - Applying sky value of 0.227034 to jw01324001001_04101_00002_nis_rate.fits[sci,1]\n",
      "2024-06-27 10:20:43,249 - stpipe - WARNING - No CR mask file found! Input DQ array not updated.\n",
      "2024-06-27 10:20:43,250 - stpipe - INFO - Automatically creating IVM files for chip 1\n",
      "2024-06-27 10:20:43,252 - stpipe - WARNING - Cannot find flat field file 'jwst_niriss_flat_0261.fits'\n",
      "2024-06-27 10:20:43,253 - stpipe - WARNING - Treating flatfield as a constant value of '1'.\n",
      "2024-06-27 10:20:43,301 - stpipe - INFO - Using WCSLIB-based coordinate transformation...\n",
      "2024-06-27 10:20:43,302 - stpipe - INFO - stepsize = 10\n",
      "2024-06-27 10:20:43,316 - stpipe - INFO - -Drizzling using kernel = square\n",
      "2024-06-27 10:20:43,316 - stpipe - INFO - \n",
      "2024-06-27 10:20:44,867 - stpipe - INFO - -Drizzle input: jw01324001001_04101_00003_nis_rate.fits[sci,1]\n",
      "2024-06-27 10:20:44,896 - stpipe - INFO - Applying sky value of 0.223179 to jw01324001001_04101_00003_nis_rate.fits[sci,1]\n",
      "2024-06-27 10:20:44,913 - stpipe - WARNING - No CR mask file found! Input DQ array not updated.\n",
      "2024-06-27 10:20:44,914 - stpipe - INFO - Automatically creating IVM files for chip 1\n",
      "2024-06-27 10:20:44,916 - stpipe - WARNING - Cannot find flat field file 'jwst_niriss_flat_0261.fits'\n",
      "2024-06-27 10:20:44,917 - stpipe - WARNING - Treating flatfield as a constant value of '1'.\n",
      "2024-06-27 10:20:44,964 - stpipe - INFO - Using WCSLIB-based coordinate transformation...\n",
      "2024-06-27 10:20:44,965 - stpipe - INFO - stepsize = 10\n",
      "2024-06-27 10:20:44,979 - stpipe - INFO - -Drizzling using kernel = square\n",
      "2024-06-27 10:20:44,979 - stpipe - INFO - \n",
      "2024-06-27 10:20:46,521 - stpipe - INFO - -Drizzle input: jw01324001001_04101_00004_nis_rate.fits[sci,1]\n",
      "2024-06-27 10:20:46,547 - stpipe - INFO - Applying sky value of 0.226839 to jw01324001001_04101_00004_nis_rate.fits[sci,1]\n",
      "2024-06-27 10:20:46,565 - stpipe - WARNING - No CR mask file found! Input DQ array not updated.\n",
      "2024-06-27 10:20:46,566 - stpipe - INFO - Automatically creating IVM files for chip 1\n",
      "2024-06-27 10:20:46,568 - stpipe - WARNING - Cannot find flat field file 'jwst_niriss_flat_0261.fits'\n",
      "2024-06-27 10:20:46,569 - stpipe - WARNING - Treating flatfield as a constant value of '1'.\n",
      "2024-06-27 10:20:46,619 - stpipe - INFO - Using WCSLIB-based coordinate transformation...\n",
      "2024-06-27 10:20:46,620 - stpipe - INFO - stepsize = 10\n",
      "2024-06-27 10:20:46,633 - stpipe - INFO - -Drizzling using kernel = square\n",
      "2024-06-27 10:20:46,634 - stpipe - INFO - \n",
      "2024-06-27 10:20:48,178 - stpipe - INFO - -Drizzle input: jw01324001001_06101_00001_nis_rate.fits[sci,1]\n",
      "2024-06-27 10:20:48,205 - stpipe - INFO - Applying sky value of 0.226085 to jw01324001001_06101_00001_nis_rate.fits[sci,1]\n",
      "2024-06-27 10:20:48,224 - stpipe - WARNING - No CR mask file found! Input DQ array not updated.\n",
      "2024-06-27 10:20:48,225 - stpipe - INFO - Automatically creating IVM files for chip 1\n",
      "2024-06-27 10:20:48,228 - stpipe - WARNING - Cannot find flat field file 'jwst_niriss_flat_0261.fits'\n",
      "2024-06-27 10:20:48,229 - stpipe - WARNING - Treating flatfield as a constant value of '1'.\n",
      "2024-06-27 10:20:48,279 - stpipe - INFO - Using WCSLIB-based coordinate transformation...\n",
      "2024-06-27 10:20:48,280 - stpipe - INFO - stepsize = 10\n",
      "2024-06-27 10:20:48,295 - stpipe - INFO - -Drizzling using kernel = square\n",
      "2024-06-27 10:20:48,295 - stpipe - INFO - \n",
      "2024-06-27 10:20:49,836 - stpipe - INFO - -Drizzle input: jw01324001001_06101_00002_nis_rate.fits[sci,1]\n",
      "2024-06-27 10:20:49,863 - stpipe - INFO - Applying sky value of 0.226120 to jw01324001001_06101_00002_nis_rate.fits[sci,1]\n",
      "2024-06-27 10:20:49,881 - stpipe - WARNING - No CR mask file found! Input DQ array not updated.\n",
      "2024-06-27 10:20:49,882 - stpipe - INFO - Automatically creating IVM files for chip 1\n",
      "2024-06-27 10:20:49,885 - stpipe - WARNING - Cannot find flat field file 'jwst_niriss_flat_0261.fits'\n",
      "2024-06-27 10:20:49,885 - stpipe - WARNING - Treating flatfield as a constant value of '1'.\n",
      "2024-06-27 10:20:49,933 - stpipe - INFO - Using WCSLIB-based coordinate transformation...\n",
      "2024-06-27 10:20:49,934 - stpipe - INFO - stepsize = 10\n",
      "2024-06-27 10:20:49,948 - stpipe - INFO - -Drizzling using kernel = square\n",
      "2024-06-27 10:20:49,948 - stpipe - INFO - \n",
      "2024-06-27 10:20:51,490 - stpipe - INFO - -Drizzle input: jw01324001001_06101_00003_nis_rate.fits[sci,1]\n",
      "2024-06-27 10:20:51,516 - stpipe - INFO - Applying sky value of 0.226056 to jw01324001001_06101_00003_nis_rate.fits[sci,1]\n",
      "2024-06-27 10:20:51,534 - stpipe - WARNING - No CR mask file found! Input DQ array not updated.\n",
      "2024-06-27 10:20:51,535 - stpipe - INFO - Automatically creating IVM files for chip 1\n",
      "2024-06-27 10:20:51,537 - stpipe - WARNING - Cannot find flat field file 'jwst_niriss_flat_0261.fits'\n",
      "2024-06-27 10:20:51,538 - stpipe - WARNING - Treating flatfield as a constant value of '1'.\n",
      "2024-06-27 10:20:51,586 - stpipe - INFO - Using WCSLIB-based coordinate transformation...\n",
      "2024-06-27 10:20:51,588 - stpipe - INFO - stepsize = 10\n",
      "2024-06-27 10:20:51,601 - stpipe - INFO - -Drizzling using kernel = square\n",
      "2024-06-27 10:20:51,602 - stpipe - INFO - \n",
      "2024-06-27 10:20:53,922 - stpipe - INFO - -Generating simple FITS output: glass-2022data-f115w_drz_sci.fits\n"
     ]
    },
    {
     "name": "stdout",
     "output_type": "stream",
     "text": [
      "-Generating simple FITS output: glass-2022data-f115w_drz_sci.fits\n"
     ]
    },
    {
     "name": "stderr",
     "output_type": "stream",
     "text": [
      "2024-06-27 10:20:54,058 - stpipe - INFO - Writing out image to disk: glass-2022data-f115w_drz_sci.fits\n"
     ]
    },
    {
     "name": "stdout",
     "output_type": "stream",
     "text": [
      "Writing out image to disk: glass-2022data-f115w_drz_sci.fits\n"
     ]
    },
    {
     "name": "stderr",
     "output_type": "stream",
     "text": [
      "2024-06-27 10:20:54,338 - stpipe - INFO - Writing out image to disk: glass-2022data-f115w_drz_wht.fits\n"
     ]
    },
    {
     "name": "stdout",
     "output_type": "stream",
     "text": [
      "Writing out image to disk: glass-2022data-f115w_drz_wht.fits\n"
     ]
    },
    {
     "name": "stderr",
     "output_type": "stream",
     "text": [
      "2024-06-27 10:20:54,572 - stpipe - INFO - ==== Processing Step Final Drizzle finished at 10:20:54.572 (27/06/2024)\n"
     ]
    },
    {
     "name": "stdout",
     "output_type": "stream",
     "text": [
      "==== Processing Step Final Drizzle finished at 10:20:54.572 (27/06/2024)\n"
     ]
    },
    {
     "name": "stderr",
     "output_type": "stream",
     "text": [
      "2024-06-27 10:20:54,574 - stpipe - INFO - \n"
     ]
    },
    {
     "name": "stdout",
     "output_type": "stream",
     "text": [
      "\n"
     ]
    },
    {
     "name": "stderr",
     "output_type": "stream",
     "text": [
      "2024-06-27 10:20:54,575 - stpipe - INFO - AstroDrizzle Version 3.7.0.1 is finished processing at 10:20:54.575 (27/06/2024).\n"
     ]
    },
    {
     "name": "stdout",
     "output_type": "stream",
     "text": [
      "AstroDrizzle Version 3.7.0.1 is finished processing at 10:20:54.575 (27/06/2024).\n"
     ]
    },
    {
     "name": "stderr",
     "output_type": "stream",
     "text": [
      "2024-06-27 10:20:54,576 - stpipe - INFO - \n"
     ]
    },
    {
     "name": "stdout",
     "output_type": "stream",
     "text": [
      "\n"
     ]
    },
    {
     "name": "stderr",
     "output_type": "stream",
     "text": [
      "2024-06-27 10:20:54,577 - stpipe - INFO - \n"
     ]
    },
    {
     "name": "stdout",
     "output_type": "stream",
     "text": [
      "\n"
     ]
    },
    {
     "name": "stderr",
     "output_type": "stream",
     "text": [
      "2024-06-27 10:20:54,578 - stpipe - INFO - \n"
     ]
    },
    {
     "name": "stdout",
     "output_type": "stream",
     "text": [
      "\n"
     ]
    },
    {
     "name": "stderr",
     "output_type": "stream",
     "text": [
      "2024-06-27 10:20:54,579 - stpipe - INFO -    --------------------          --------------------\n"
     ]
    },
    {
     "name": "stdout",
     "output_type": "stream",
     "text": [
      "   --------------------          --------------------\n"
     ]
    },
    {
     "name": "stderr",
     "output_type": "stream",
     "text": [
      "2024-06-27 10:20:54,580 - stpipe - INFO -                    Step          Elapsed time\n"
     ]
    },
    {
     "name": "stdout",
     "output_type": "stream",
     "text": [
      "                   Step          Elapsed time\n"
     ]
    },
    {
     "name": "stderr",
     "output_type": "stream",
     "text": [
      "2024-06-27 10:20:54,581 - stpipe - INFO -    --------------------          --------------------\n"
     ]
    },
    {
     "name": "stdout",
     "output_type": "stream",
     "text": [
      "   --------------------          --------------------\n"
     ]
    },
    {
     "name": "stderr",
     "output_type": "stream",
     "text": [
      "2024-06-27 10:20:54,582 - stpipe - INFO - \n"
     ]
    },
    {
     "name": "stdout",
     "output_type": "stream",
     "text": [
      "\n"
     ]
    },
    {
     "name": "stderr",
     "output_type": "stream",
     "text": [
      "2024-06-27 10:20:54,583 - stpipe - INFO -          Initialization          1.7231 sec.\n"
     ]
    },
    {
     "name": "stdout",
     "output_type": "stream",
     "text": [
      "         Initialization          1.7231 sec.\n"
     ]
    },
    {
     "name": "stderr",
     "output_type": "stream",
     "text": [
      "2024-06-27 10:20:54,584 - stpipe - INFO -             Static Mask          0.0025 sec.\n"
     ]
    },
    {
     "name": "stdout",
     "output_type": "stream",
     "text": [
      "            Static Mask          0.0025 sec.\n"
     ]
    },
    {
     "name": "stderr",
     "output_type": "stream",
     "text": [
      "2024-06-27 10:20:54,586 - stpipe - INFO -            Subtract Sky          0.4064 sec.\n"
     ]
    },
    {
     "name": "stdout",
     "output_type": "stream",
     "text": [
      "           Subtract Sky          0.4064 sec.\n"
     ]
    },
    {
     "name": "stderr",
     "output_type": "stream",
     "text": [
      "2024-06-27 10:20:54,587 - stpipe - INFO -        Separate Drizzle          0.0027 sec.\n"
     ]
    },
    {
     "name": "stdout",
     "output_type": "stream",
     "text": [
      "       Separate Drizzle          0.0027 sec.\n"
     ]
    },
    {
     "name": "stderr",
     "output_type": "stream",
     "text": [
      "2024-06-27 10:20:54,588 - stpipe - INFO -           Create Median          0.0000 sec.\n"
     ]
    },
    {
     "name": "stdout",
     "output_type": "stream",
     "text": [
      "          Create Median          0.0000 sec.\n"
     ]
    },
    {
     "name": "stderr",
     "output_type": "stream",
     "text": [
      "2024-06-27 10:20:54,589 - stpipe - INFO -                    Blot          0.0031 sec.\n"
     ]
    },
    {
     "name": "stdout",
     "output_type": "stream",
     "text": [
      "                   Blot          0.0031 sec.\n"
     ]
    },
    {
     "name": "stderr",
     "output_type": "stream",
     "text": [
      "2024-06-27 10:20:54,590 - stpipe - INFO -                 Driz_CR          0.0000 sec.\n"
     ]
    },
    {
     "name": "stdout",
     "output_type": "stream",
     "text": [
      "                Driz_CR          0.0000 sec.\n"
     ]
    },
    {
     "name": "stderr",
     "output_type": "stream",
     "text": [
      "2024-06-27 10:20:54,591 - stpipe - INFO -           Final Drizzle          14.7659 sec.\n"
     ]
    },
    {
     "name": "stdout",
     "output_type": "stream",
     "text": [
      "          Final Drizzle          14.7659 sec.\n"
     ]
    },
    {
     "name": "stderr",
     "output_type": "stream",
     "text": [
      "2024-06-27 10:20:54,592 - stpipe - INFO -    ====================          ====================\n"
     ]
    },
    {
     "name": "stdout",
     "output_type": "stream",
     "text": [
      "   ====================          ====================\n"
     ]
    },
    {
     "name": "stderr",
     "output_type": "stream",
     "text": [
      "2024-06-27 10:20:54,593 - stpipe - INFO -                   Total          16.9038 sec.\n"
     ]
    },
    {
     "name": "stdout",
     "output_type": "stream",
     "text": [
      "                  Total          16.9038 sec.\n"
     ]
    },
    {
     "name": "stderr",
     "output_type": "stream",
     "text": [
      "2024-06-27 10:20:54,594 - stpipe - INFO - \n"
     ]
    },
    {
     "name": "stdout",
     "output_type": "stream",
     "text": [
      "\n"
     ]
    },
    {
     "name": "stderr",
     "output_type": "stream",
     "text": [
      "2024-06-27 10:20:54,595 - stpipe - INFO - Removing intermediate files for jw01324001001_02101_00001_nis_rate.fits\n",
      "2024-06-27 10:20:54,601 - stpipe - INFO - Removing intermediate files for jw01324001001_04101_00001_nis_rate.fits\n",
      "2024-06-27 10:20:54,606 - stpipe - INFO - Removing intermediate files for jw01324001001_04101_00002_nis_rate.fits\n",
      "2024-06-27 10:20:54,611 - stpipe - INFO - Removing intermediate files for jw01324001001_04101_00003_nis_rate.fits\n",
      "2024-06-27 10:20:54,615 - stpipe - INFO - Removing intermediate files for jw01324001001_04101_00004_nis_rate.fits\n",
      "2024-06-27 10:20:54,620 - stpipe - INFO - Removing intermediate files for jw01324001001_06101_00001_nis_rate.fits\n",
      "2024-06-27 10:20:54,625 - stpipe - INFO - Removing intermediate files for jw01324001001_06101_00002_nis_rate.fits\n",
      "2024-06-27 10:20:54,629 - stpipe - INFO - Removing intermediate files for jw01324001001_06101_00003_nis_rate.fits\n",
      "2024-06-27 10:20:54,637 - stpipe - INFO - Trailer file written to:  astrodrizzle.log\n"
     ]
    },
    {
     "name": "stdout",
     "output_type": "stream",
     "text": [
      "Trailer file written to:  astrodrizzle.log\n",
      "# (2024-06-27 03:20:55.252)\n",
      "\n",
      "jwst_utils.set_jwst_to_hst_keywords(**{'input': 'jw01324001001_02101_00001_nis_rate.fits', 'reset': True, 'verbose': True, 'orig_keys': ['TELESCOP', 'INSTRUME', 'DETECTOR', 'FILTER', 'PUPIL', 'EXP_TYPE', 'GRATING']})\n",
      "\n",
      "Reset: TELESCOP > JWST (OTELESCO)\n",
      "Reset: INSTRUME > NIRISS (OINSTRUM)\n",
      "Reset: DETECTOR > NIS (ODETECTO)\n",
      "Reset: FILTER > CLEAR (OFILTER)\n",
      "Reset: PUPIL > F115W (OPUPIL)\n",
      "Reset: EXP_TYPE > NIS_IMAGE (OEXP_TYP)\n",
      "# (2024-06-27 03:20:55.396)\n",
      "\n",
      "jwst_utils.set_jwst_to_hst_keywords(**{'input': 'jw01324001001_04101_00001_nis_rate.fits', 'reset': True, 'verbose': True, 'orig_keys': ['TELESCOP', 'INSTRUME', 'DETECTOR', 'FILTER', 'PUPIL', 'EXP_TYPE', 'GRATING']})\n",
      "\n",
      "Reset: TELESCOP > JWST (OTELESCO)\n",
      "Reset: INSTRUME > NIRISS (OINSTRUM)\n",
      "Reset: DETECTOR > NIS (ODETECTO)\n",
      "Reset: FILTER > CLEAR (OFILTER)\n",
      "Reset: PUPIL > F115W (OPUPIL)\n",
      "Reset: EXP_TYPE > NIS_IMAGE (OEXP_TYP)\n",
      "# (2024-06-27 03:20:55.565)\n",
      "\n",
      "jwst_utils.set_jwst_to_hst_keywords(**{'input': 'jw01324001001_04101_00002_nis_rate.fits', 'reset': True, 'verbose': True, 'orig_keys': ['TELESCOP', 'INSTRUME', 'DETECTOR', 'FILTER', 'PUPIL', 'EXP_TYPE', 'GRATING']})\n",
      "\n",
      "Reset: TELESCOP > JWST (OTELESCO)\n",
      "Reset: INSTRUME > NIRISS (OINSTRUM)\n",
      "Reset: DETECTOR > NIS (ODETECTO)\n",
      "Reset: FILTER > CLEAR (OFILTER)\n",
      "Reset: PUPIL > F115W (OPUPIL)\n",
      "Reset: EXP_TYPE > NIS_IMAGE (OEXP_TYP)\n",
      "# (2024-06-27 03:20:55.732)\n",
      "\n",
      "jwst_utils.set_jwst_to_hst_keywords(**{'input': 'jw01324001001_04101_00003_nis_rate.fits', 'reset': True, 'verbose': True, 'orig_keys': ['TELESCOP', 'INSTRUME', 'DETECTOR', 'FILTER', 'PUPIL', 'EXP_TYPE', 'GRATING']})\n",
      "\n",
      "Reset: TELESCOP > JWST (OTELESCO)\n",
      "Reset: INSTRUME > NIRISS (OINSTRUM)\n",
      "Reset: DETECTOR > NIS (ODETECTO)\n",
      "Reset: FILTER > CLEAR (OFILTER)\n",
      "Reset: PUPIL > F115W (OPUPIL)\n",
      "Reset: EXP_TYPE > NIS_IMAGE (OEXP_TYP)\n",
      "# (2024-06-27 03:20:55.905)\n",
      "\n",
      "jwst_utils.set_jwst_to_hst_keywords(**{'input': 'jw01324001001_04101_00004_nis_rate.fits', 'reset': True, 'verbose': True, 'orig_keys': ['TELESCOP', 'INSTRUME', 'DETECTOR', 'FILTER', 'PUPIL', 'EXP_TYPE', 'GRATING']})\n",
      "\n",
      "Reset: TELESCOP > JWST (OTELESCO)\n",
      "Reset: INSTRUME > NIRISS (OINSTRUM)\n",
      "Reset: DETECTOR > NIS (ODETECTO)\n",
      "Reset: FILTER > CLEAR (OFILTER)\n",
      "Reset: PUPIL > F115W (OPUPIL)\n",
      "Reset: EXP_TYPE > NIS_IMAGE (OEXP_TYP)\n",
      "# (2024-06-27 03:20:56.078)\n",
      "\n",
      "jwst_utils.set_jwst_to_hst_keywords(**{'input': 'jw01324001001_06101_00001_nis_rate.fits', 'reset': True, 'verbose': True, 'orig_keys': ['TELESCOP', 'INSTRUME', 'DETECTOR', 'FILTER', 'PUPIL', 'EXP_TYPE', 'GRATING']})\n",
      "\n",
      "Reset: TELESCOP > JWST (OTELESCO)\n",
      "Reset: INSTRUME > NIRISS (OINSTRUM)\n",
      "Reset: DETECTOR > NIS (ODETECTO)\n",
      "Reset: FILTER > CLEAR (OFILTER)\n",
      "Reset: PUPIL > F115W (OPUPIL)\n",
      "Reset: EXP_TYPE > NIS_IMAGE (OEXP_TYP)\n",
      "# (2024-06-27 03:20:56.254)\n",
      "\n",
      "jwst_utils.set_jwst_to_hst_keywords(**{'input': 'jw01324001001_06101_00002_nis_rate.fits', 'reset': True, 'verbose': True, 'orig_keys': ['TELESCOP', 'INSTRUME', 'DETECTOR', 'FILTER', 'PUPIL', 'EXP_TYPE', 'GRATING']})\n",
      "\n",
      "Reset: TELESCOP > JWST (OTELESCO)\n",
      "Reset: INSTRUME > NIRISS (OINSTRUM)\n",
      "Reset: DETECTOR > NIS (ODETECTO)\n",
      "Reset: FILTER > CLEAR (OFILTER)\n",
      "Reset: PUPIL > F115W (OPUPIL)\n",
      "Reset: EXP_TYPE > NIS_IMAGE (OEXP_TYP)\n",
      "# (2024-06-27 03:20:56.434)\n",
      "\n",
      "jwst_utils.set_jwst_to_hst_keywords(**{'input': 'jw01324001001_06101_00003_nis_rate.fits', 'reset': True, 'verbose': True, 'orig_keys': ['TELESCOP', 'INSTRUME', 'DETECTOR', 'FILTER', 'PUPIL', 'EXP_TYPE', 'GRATING']})\n",
      "\n",
      "Reset: TELESCOP > JWST (OTELESCO)\n",
      "Reset: INSTRUME > NIRISS (OINSTRUM)\n",
      "Reset: DETECTOR > NIS (ODETECTO)\n",
      "Reset: FILTER > CLEAR (OFILTER)\n",
      "Reset: PUPIL > F115W (OPUPIL)\n",
      "Reset: EXP_TYPE > NIS_IMAGE (OEXP_TYP)\n",
      "\n",
      "\n",
      "### drizzle_overlaps: glass-2022data-f150w (8)\n",
      "\n",
      "# (2024-06-27 03:20:56.606)\n",
      "\n",
      "jwst_utils.set_jwst_to_hst_keywords(**{'input': 'jw01324001001_08101_00001_nis_rate.fits', 'reset': False, 'verbose': True, 'orig_keys': ['TELESCOP', 'INSTRUME', 'DETECTOR', 'FILTER', 'PUPIL', 'EXP_TYPE', 'GRATING']})\n",
      "\n",
      "  Set: TELESCOP > HST\n",
      "  Set: INSTRUME > WFC3\n",
      "  Set: DETECTOR > IR\n",
      "# (2024-06-27 03:20:56.776)\n",
      "\n",
      "jwst_utils.set_jwst_to_hst_keywords(**{'input': 'jw01324001001_10101_00001_nis_rate.fits', 'reset': False, 'verbose': True, 'orig_keys': ['TELESCOP', 'INSTRUME', 'DETECTOR', 'FILTER', 'PUPIL', 'EXP_TYPE', 'GRATING']})\n",
      "\n",
      "  Set: TELESCOP > HST\n",
      "  Set: INSTRUME > WFC3\n",
      "  Set: DETECTOR > IR\n",
      "# (2024-06-27 03:20:56.943)\n",
      "\n",
      "jwst_utils.set_jwst_to_hst_keywords(**{'input': 'jw01324001001_10101_00002_nis_rate.fits', 'reset': False, 'verbose': True, 'orig_keys': ['TELESCOP', 'INSTRUME', 'DETECTOR', 'FILTER', 'PUPIL', 'EXP_TYPE', 'GRATING']})\n",
      "\n",
      "  Set: TELESCOP > HST\n",
      "  Set: INSTRUME > WFC3\n",
      "  Set: DETECTOR > IR\n",
      "# (2024-06-27 03:20:57.113)\n",
      "\n",
      "jwst_utils.set_jwst_to_hst_keywords(**{'input': 'jw01324001001_10101_00003_nis_rate.fits', 'reset': False, 'verbose': True, 'orig_keys': ['TELESCOP', 'INSTRUME', 'DETECTOR', 'FILTER', 'PUPIL', 'EXP_TYPE', 'GRATING']})\n",
      "\n",
      "  Set: TELESCOP > HST\n",
      "  Set: INSTRUME > WFC3\n",
      "  Set: DETECTOR > IR\n",
      "# (2024-06-27 03:20:57.315)\n",
      "\n",
      "jwst_utils.set_jwst_to_hst_keywords(**{'input': 'jw01324001001_10101_00004_nis_rate.fits', 'reset': False, 'verbose': True, 'orig_keys': ['TELESCOP', 'INSTRUME', 'DETECTOR', 'FILTER', 'PUPIL', 'EXP_TYPE', 'GRATING']})\n",
      "\n",
      "  Set: TELESCOP > HST\n",
      "  Set: INSTRUME > WFC3\n",
      "  Set: DETECTOR > IR\n",
      "# (2024-06-27 03:20:57.481)\n",
      "\n",
      "jwst_utils.set_jwst_to_hst_keywords(**{'input': 'jw01324001001_12101_00001_nis_rate.fits', 'reset': False, 'verbose': True, 'orig_keys': ['TELESCOP', 'INSTRUME', 'DETECTOR', 'FILTER', 'PUPIL', 'EXP_TYPE', 'GRATING']})\n",
      "\n",
      "  Set: TELESCOP > HST\n",
      "  Set: INSTRUME > WFC3\n",
      "  Set: DETECTOR > IR\n",
      "# (2024-06-27 03:20:57.646)\n",
      "\n",
      "jwst_utils.set_jwst_to_hst_keywords(**{'input': 'jw01324001001_12101_00002_nis_rate.fits', 'reset': False, 'verbose': True, 'orig_keys': ['TELESCOP', 'INSTRUME', 'DETECTOR', 'FILTER', 'PUPIL', 'EXP_TYPE', 'GRATING']})\n",
      "\n",
      "  Set: TELESCOP > HST\n",
      "  Set: INSTRUME > WFC3\n",
      "  Set: DETECTOR > IR\n",
      "# (2024-06-27 03:20:57.814)\n",
      "\n",
      "jwst_utils.set_jwst_to_hst_keywords(**{'input': 'jw01324001001_12101_00003_nis_rate.fits', 'reset': False, 'verbose': True, 'orig_keys': ['TELESCOP', 'INSTRUME', 'DETECTOR', 'FILTER', 'PUPIL', 'EXP_TYPE', 'GRATING']})\n",
      "\n",
      "  Set: TELESCOP > HST\n",
      "  Set: INSTRUME > WFC3\n",
      "  Set: DETECTOR > IR\n"
     ]
    },
    {
     "name": "stderr",
     "output_type": "stream",
     "text": [
      "2024-06-27 10:20:58,022 - stpipe - INFO - Setting up logfile :  astrodrizzle.log\n"
     ]
    },
    {
     "name": "stdout",
     "output_type": "stream",
     "text": [
      "Setting up logfile :  astrodrizzle.log\n"
     ]
    },
    {
     "name": "stderr",
     "output_type": "stream",
     "text": [
      "2024-06-27 10:20:58,024 - stpipe - INFO - AstroDrizzle log file: astrodrizzle.log\n"
     ]
    },
    {
     "name": "stdout",
     "output_type": "stream",
     "text": [
      "AstroDrizzle log file: astrodrizzle.log\n"
     ]
    },
    {
     "name": "stderr",
     "output_type": "stream",
     "text": [
      "2024-06-27 10:20:58,025 - stpipe - INFO - AstroDrizzle Version 3.7.0.1 started at: 10:20:58.02 (27/06/2024)\n"
     ]
    },
    {
     "name": "stdout",
     "output_type": "stream",
     "text": [
      "AstroDrizzle Version 3.7.0.1 started at: 10:20:58.02 (27/06/2024)\n"
     ]
    },
    {
     "name": "stderr",
     "output_type": "stream",
     "text": [
      "2024-06-27 10:20:58,027 - stpipe - INFO - \n"
     ]
    },
    {
     "name": "stdout",
     "output_type": "stream",
     "text": [
      "\n"
     ]
    },
    {
     "name": "stderr",
     "output_type": "stream",
     "text": [
      "2024-06-27 10:20:58,027 - stpipe - INFO - Version Information\n",
      "2024-06-27 10:20:58,028 - stpipe - INFO - --------------------\n",
      "2024-06-27 10:20:58,028 - stpipe - INFO - Python Version 3.11.9 (main, Apr 19 2024, 16:48:06) [GCC 11.2.0]\n",
      "2024-06-27 10:20:58,029 - stpipe - INFO - numpy Version -> 1.26.4 \n",
      "2024-06-27 10:20:58,030 - stpipe - INFO - astropy Version -> 6.1.1 \n",
      "2024-06-27 10:20:58,030 - stpipe - INFO - stwcs Version -> 1.7.3 \n",
      "2024-06-27 10:20:58,030 - stpipe - INFO - photutils Version -> 1.12.0 \n",
      "2024-06-27 10:20:58,031 - stpipe - INFO - ==== Processing Step  Initialization  started at  10:20:58.031 (27/06/2024)\n"
     ]
    },
    {
     "name": "stdout",
     "output_type": "stream",
     "text": [
      "==== Processing Step  Initialization  started at  10:20:58.031 (27/06/2024)\n"
     ]
    },
    {
     "name": "stderr",
     "output_type": "stream",
     "text": [
      "2024-06-27 10:20:58,032 - stpipe - INFO - \n"
     ]
    },
    {
     "name": "stdout",
     "output_type": "stream",
     "text": [
      "\n"
     ]
    },
    {
     "name": "stderr",
     "output_type": "stream",
     "text": [
      "2024-06-27 10:20:58,183 - stpipe - INFO - Executing serially\n",
      "2024-06-27 10:20:58,421 - stpipe - INFO - Setting up output name: glass-2022data-f150w_drz.fits\n",
      "2024-06-27 10:20:58,425 - stpipe - INFO - ##############################################################################\n"
     ]
    },
    {
     "name": "stdout",
     "output_type": "stream",
     "text": [
      "##############################################################################\n"
     ]
    },
    {
     "name": "stderr",
     "output_type": "stream",
     "text": [
      "2024-06-27 10:20:58,426 - stpipe - INFO - #                                                                            #\n"
     ]
    },
    {
     "name": "stdout",
     "output_type": "stream",
     "text": [
      "#                                                                            #\n"
     ]
    },
    {
     "name": "stderr",
     "output_type": "stream",
     "text": [
      "2024-06-27 10:20:58,427 - stpipe - INFO - # “minmed” is highly recommended for three images,                           #\n"
     ]
    },
    {
     "name": "stdout",
     "output_type": "stream",
     "text": [
      "# “minmed” is highly recommended for three images,                           #\n"
     ]
    },
    {
     "name": "stderr",
     "output_type": "stream",
     "text": [
      "2024-06-27 10:20:58,429 - stpipe - INFO - #  and is good for four to six images,                                       #\n"
     ]
    },
    {
     "name": "stdout",
     "output_type": "stream",
     "text": [
      "#  and is good for four to six images,                                       #\n"
     ]
    },
    {
     "name": "stderr",
     "output_type": "stream",
     "text": [
      "2024-06-27 10:20:58,430 - stpipe - INFO - #  but should be avoided for ten or more images.                             #\n"
     ]
    },
    {
     "name": "stdout",
     "output_type": "stream",
     "text": [
      "#  but should be avoided for ten or more images.                             #\n"
     ]
    },
    {
     "name": "stderr",
     "output_type": "stream",
     "text": [
      "2024-06-27 10:20:58,431 - stpipe - INFO - #                                                                            #\n"
     ]
    },
    {
     "name": "stdout",
     "output_type": "stream",
     "text": [
      "#                                                                            #\n"
     ]
    },
    {
     "name": "stderr",
     "output_type": "stream",
     "text": [
      "2024-06-27 10:20:58,432 - stpipe - INFO - ##############################################################################\n"
     ]
    },
    {
     "name": "stdout",
     "output_type": "stream",
     "text": [
      "##############################################################################\n"
     ]
    },
    {
     "name": "stderr",
     "output_type": "stream",
     "text": [
      "2024-06-27 10:20:58,440 - stpipe - INFO - -Creating imageObject List as input for processing steps.\n",
      "2024-06-27 10:20:58,548 - stpipe - INFO - Reading in MDRIZSKY of 0.22933048009872437\n",
      "2024-06-27 10:20:58,682 - stpipe - INFO - Reading in MDRIZSKY of 0.23138003051280975\n",
      "2024-06-27 10:20:58,832 - stpipe - INFO - Reading in MDRIZSKY of 0.22703477740287784\n",
      "2024-06-27 10:20:58,976 - stpipe - INFO - Reading in MDRIZSKY of 0.22711125016212463\n",
      "2024-06-27 10:20:59,119 - stpipe - INFO - Reading in MDRIZSKY of 0.22707776725292206\n",
      "2024-06-27 10:20:59,263 - stpipe - INFO - Reading in MDRIZSKY of 0.22891847789287567\n",
      "2024-06-27 10:20:59,406 - stpipe - INFO - Reading in MDRIZSKY of 0.2259397804737091\n",
      "2024-06-27 10:20:59,562 - stpipe - INFO - Reading in MDRIZSKY of 0.22853294014930725\n",
      "2024-06-27 10:20:59,600 - stpipe - INFO - No context image will be created for jw01324001001_08101_00001_nis_rate.fits\n",
      "2024-06-27 10:20:59,601 - stpipe - INFO - No context image will be created for jw01324001001_10101_00001_nis_rate.fits\n",
      "2024-06-27 10:20:59,601 - stpipe - INFO - No context image will be created for jw01324001001_10101_00002_nis_rate.fits\n",
      "2024-06-27 10:20:59,601 - stpipe - INFO - No context image will be created for jw01324001001_10101_00003_nis_rate.fits\n",
      "2024-06-27 10:20:59,602 - stpipe - INFO - No context image will be created for jw01324001001_10101_00004_nis_rate.fits\n",
      "2024-06-27 10:20:59,603 - stpipe - INFO - No context image will be created for jw01324001001_12101_00001_nis_rate.fits\n",
      "2024-06-27 10:20:59,603 - stpipe - INFO - No context image will be created for jw01324001001_12101_00002_nis_rate.fits\n",
      "2024-06-27 10:20:59,603 - stpipe - INFO - No context image will be created for jw01324001001_12101_00003_nis_rate.fits\n",
      "2024-06-27 10:20:59,604 - stpipe - INFO - -Creating output WCS.\n",
      "2024-06-27 10:20:59,607 - stpipe - INFO - No context image will be created for glass-2022data-f150w_drz.fits\n",
      "2024-06-27 10:20:59,618 - stpipe - INFO - Creating OUTPUT WCS from glass-2022data_wcs-ref.fits[1]\n"
     ]
    },
    {
     "name": "stdout",
     "output_type": "stream",
     "text": [
      "Creating OUTPUT WCS from glass-2022data_wcs-ref.fits[1]\n"
     ]
    },
    {
     "name": "stderr",
     "output_type": "stream",
     "text": [
      "2024-06-27 10:20:59,624 - stpipe - INFO - WCS Keywords\n"
     ]
    },
    {
     "name": "stdout",
     "output_type": "stream",
     "text": [
      "WCS Keywords\n"
     ]
    },
    {
     "name": "stderr",
     "output_type": "stream",
     "text": [
      "2024-06-27 10:20:59,625 - stpipe - INFO - \n"
     ]
    },
    {
     "name": "stdout",
     "output_type": "stream",
     "text": [
      "\n"
     ]
    },
    {
     "name": "stderr",
     "output_type": "stream",
     "text": [
      "2024-06-27 10:20:59,626 - stpipe - INFO - CD_11  CD_12: -8.3333333333333e-06 0.0\n"
     ]
    },
    {
     "name": "stdout",
     "output_type": "stream",
     "text": [
      "CD_11  CD_12: -8.3333333333333e-06 0.0\n"
     ]
    },
    {
     "name": "stderr",
     "output_type": "stream",
     "text": [
      "2024-06-27 10:20:59,627 - stpipe - INFO - CD_21  CD_22: 0.0 8.33333333333333e-06\n"
     ]
    },
    {
     "name": "stdout",
     "output_type": "stream",
     "text": [
      "CD_21  CD_22: 0.0 8.33333333333333e-06\n"
     ]
    },
    {
     "name": "stderr",
     "output_type": "stream",
     "text": [
      "2024-06-27 10:20:59,628 - stpipe - INFO - CRVAL    : 3.595475565788118 -30.39433251948023\n"
     ]
    },
    {
     "name": "stdout",
     "output_type": "stream",
     "text": [
      "CRVAL    : 3.595475565788118 -30.39433251948023\n"
     ]
    },
    {
     "name": "stderr",
     "output_type": "stream",
     "text": [
      "2024-06-27 10:20:59,629 - stpipe - INFO - CRPIX    : 3287.0 3214.5\n"
     ]
    },
    {
     "name": "stdout",
     "output_type": "stream",
     "text": [
      "CRPIX    : 3287.0 3214.5\n"
     ]
    },
    {
     "name": "stderr",
     "output_type": "stream",
     "text": [
      "2024-06-27 10:20:59,630 - stpipe - INFO - NAXIS    : 6573 6428\n"
     ]
    },
    {
     "name": "stdout",
     "output_type": "stream",
     "text": [
      "NAXIS    : 6573 6428\n"
     ]
    },
    {
     "name": "stderr",
     "output_type": "stream",
     "text": [
      "2024-06-27 10:20:59,631 - stpipe - INFO - Plate Scale : 0.02999999999999988\n"
     ]
    },
    {
     "name": "stdout",
     "output_type": "stream",
     "text": [
      "Plate Scale : 0.02999999999999988\n"
     ]
    },
    {
     "name": "stderr",
     "output_type": "stream",
     "text": [
      "2024-06-27 10:20:59,632 - stpipe - INFO - ORIENTAT : 0.0\n"
     ]
    },
    {
     "name": "stdout",
     "output_type": "stream",
     "text": [
      "ORIENTAT : 0.0\n"
     ]
    },
    {
     "name": "stderr",
     "output_type": "stream",
     "text": [
      "2024-06-27 10:20:59,634 - stpipe - INFO - ********************************************************************************\n"
     ]
    },
    {
     "name": "stdout",
     "output_type": "stream",
     "text": [
      "********************************************************************************\n"
     ]
    },
    {
     "name": "stderr",
     "output_type": "stream",
     "text": [
      "2024-06-27 10:20:59,635 - stpipe - INFO - *\n"
     ]
    },
    {
     "name": "stdout",
     "output_type": "stream",
     "text": [
      "*\n"
     ]
    },
    {
     "name": "stderr",
     "output_type": "stream",
     "text": [
      "2024-06-27 10:20:59,636 - stpipe - INFO - *  Estimated memory usage:  up to 515 Mb.\n"
     ]
    },
    {
     "name": "stdout",
     "output_type": "stream",
     "text": [
      "*  Estimated memory usage:  up to 515 Mb.\n"
     ]
    },
    {
     "name": "stderr",
     "output_type": "stream",
     "text": [
      "2024-06-27 10:20:59,637 - stpipe - INFO - *  Output image size:       6573 X 6428 pixels. \n"
     ]
    },
    {
     "name": "stdout",
     "output_type": "stream",
     "text": [
      "*  Output image size:       6573 X 6428 pixels. \n"
     ]
    },
    {
     "name": "stderr",
     "output_type": "stream",
     "text": [
      "2024-06-27 10:20:59,638 - stpipe - INFO - *  Output image file:       ~ 483 Mb. \n"
     ]
    },
    {
     "name": "stdout",
     "output_type": "stream",
     "text": [
      "*  Output image file:       ~ 483 Mb. \n"
     ]
    },
    {
     "name": "stderr",
     "output_type": "stream",
     "text": [
      "2024-06-27 10:20:59,639 - stpipe - INFO - *  Cores available:         1\n"
     ]
    },
    {
     "name": "stdout",
     "output_type": "stream",
     "text": [
      "*  Cores available:         1\n"
     ]
    },
    {
     "name": "stderr",
     "output_type": "stream",
     "text": [
      "2024-06-27 10:20:59,640 - stpipe - INFO - *\n"
     ]
    },
    {
     "name": "stdout",
     "output_type": "stream",
     "text": [
      "*\n"
     ]
    },
    {
     "name": "stderr",
     "output_type": "stream",
     "text": [
      "2024-06-27 10:20:59,641 - stpipe - INFO - ********************************************************************************\n"
     ]
    },
    {
     "name": "stdout",
     "output_type": "stream",
     "text": [
      "********************************************************************************\n"
     ]
    },
    {
     "name": "stderr",
     "output_type": "stream",
     "text": [
      "2024-06-27 10:20:59,642 - stpipe - INFO - ==== Processing Step Initialization finished at 10:20:59.642 (27/06/2024)\n"
     ]
    },
    {
     "name": "stdout",
     "output_type": "stream",
     "text": [
      "==== Processing Step Initialization finished at 10:20:59.642 (27/06/2024)\n"
     ]
    },
    {
     "name": "stderr",
     "output_type": "stream",
     "text": [
      "2024-06-27 10:20:59,643 - stpipe - INFO - USER INPUT PARAMETERS common to all Processing Steps:\n",
      "2024-06-27 10:20:59,644 - stpipe - INFO - \tbuild :\tFalse\n",
      "2024-06-27 10:20:59,645 - stpipe - INFO - \tcoeffs :\tTrue\n",
      "2024-06-27 10:20:59,645 - stpipe - INFO - \tcontext :\tFalse\n",
      "2024-06-27 10:20:59,646 - stpipe - INFO - \tcrbit :\t4096\n",
      "2024-06-27 10:20:59,646 - stpipe - INFO - \tgroup :\t\n",
      "2024-06-27 10:20:59,647 - stpipe - INFO - \tin_memory :\tFalse\n",
      "2024-06-27 10:20:59,647 - stpipe - INFO - \tinput :\t['jw01324001001_08101_00001_nis_rate.fits', 'jw01324001001_10101_00001_nis_rate.fits', 'jw01324001001_10101_00002_nis_rate.fits', 'jw01324001001_10101_00003_nis_rate.fits', 'jw01324001001_10101_00004_nis_rate.fits', 'jw01324001001_12101_00001_nis_rate.fits', 'jw01324001001_12101_00002_nis_rate.fits', 'jw01324001001_12101_00003_nis_rate.fits']\n",
      "2024-06-27 10:20:59,648 - stpipe - INFO - \tmdriztab :\tFalse\n",
      "2024-06-27 10:20:59,648 - stpipe - INFO - \tnum_cores :\tNone\n",
      "2024-06-27 10:20:59,649 - stpipe - INFO - \toutput :\tglass-2022data-f150w\n",
      "2024-06-27 10:20:59,649 - stpipe - INFO - \tproc_unit :\tnative\n",
      "2024-06-27 10:20:59,650 - stpipe - INFO - \tresetbits :\t0\n",
      "2024-06-27 10:20:59,651 - stpipe - INFO - \trules_file :\t\n",
      "2024-06-27 10:20:59,651 - stpipe - INFO - \trunfile :\tastrodrizzle.log\n",
      "2024-06-27 10:20:59,652 - stpipe - INFO - \tstepsize :\t10\n",
      "2024-06-27 10:20:59,652 - stpipe - INFO - \tupdatewcs :\tFalse\n",
      "2024-06-27 10:20:59,653 - stpipe - INFO - \twcskey :\t\n",
      "2024-06-27 10:20:59,653 - stpipe - INFO - ==== Processing Step  Static Mask  started at  10:20:59.653 (27/06/2024)\n"
     ]
    },
    {
     "name": "stdout",
     "output_type": "stream",
     "text": [
      "==== Processing Step  Static Mask  started at  10:20:59.653 (27/06/2024)\n"
     ]
    },
    {
     "name": "stderr",
     "output_type": "stream",
     "text": [
      "2024-06-27 10:20:59,654 - stpipe - INFO - \n"
     ]
    },
    {
     "name": "stdout",
     "output_type": "stream",
     "text": [
      "\n"
     ]
    },
    {
     "name": "stderr",
     "output_type": "stream",
     "text": [
      "2024-06-27 10:20:59,656 - stpipe - INFO - Static Mask step not performed.\n",
      "2024-06-27 10:20:59,656 - stpipe - INFO - ==== Processing Step Static Mask finished at 10:20:59.656 (27/06/2024)\n"
     ]
    },
    {
     "name": "stdout",
     "output_type": "stream",
     "text": [
      "==== Processing Step Static Mask finished at 10:20:59.656 (27/06/2024)\n"
     ]
    },
    {
     "name": "stderr",
     "output_type": "stream",
     "text": [
      "2024-06-27 10:20:59,658 - stpipe - INFO - ==== Processing Step  Subtract Sky  started at  10:20:59.657 (27/06/2024)\n"
     ]
    },
    {
     "name": "stdout",
     "output_type": "stream",
     "text": [
      "==== Processing Step  Subtract Sky  started at  10:20:59.657 (27/06/2024)\n"
     ]
    },
    {
     "name": "stderr",
     "output_type": "stream",
     "text": [
      "2024-06-27 10:20:59,659 - stpipe - INFO - \n"
     ]
    },
    {
     "name": "stdout",
     "output_type": "stream",
     "text": [
      "\n"
     ]
    },
    {
     "name": "stderr",
     "output_type": "stream",
     "text": [
      "2024-06-27 10:20:59,660 - stpipe - INFO - Sky Subtraction step not performed.\n",
      "2024-06-27 10:21:00,232 - stpipe - INFO - Retrieving user computed sky values from image headers \n",
      "2024-06-27 10:21:00,233 - stpipe - INFO - recorded in the 'MDRIZSKY' header keywords.\n",
      "2024-06-27 10:21:00,233 - stpipe - INFO - Working on sky for: jw01324001001_08101_00001_nis_rate.fits\n",
      "2024-06-27 10:21:00,234 - stpipe - INFO - User has computed their own sky values...\n"
     ]
    },
    {
     "name": "stdout",
     "output_type": "stream",
     "text": [
      "User has computed their own sky values...\n"
     ]
    },
    {
     "name": "stderr",
     "output_type": "stream",
     "text": [
      "2024-06-27 10:21:00,235 - stpipe - INFO - Working on sky for: jw01324001001_10101_00001_nis_rate.fits\n",
      "2024-06-27 10:21:00,236 - stpipe - INFO - User has computed their own sky values...\n"
     ]
    },
    {
     "name": "stdout",
     "output_type": "stream",
     "text": [
      "User has computed their own sky values...\n"
     ]
    },
    {
     "name": "stderr",
     "output_type": "stream",
     "text": [
      "2024-06-27 10:21:00,237 - stpipe - INFO - Working on sky for: jw01324001001_10101_00002_nis_rate.fits\n",
      "2024-06-27 10:21:00,238 - stpipe - INFO - User has computed their own sky values...\n"
     ]
    },
    {
     "name": "stdout",
     "output_type": "stream",
     "text": [
      "User has computed their own sky values...\n"
     ]
    },
    {
     "name": "stderr",
     "output_type": "stream",
     "text": [
      "2024-06-27 10:21:00,239 - stpipe - INFO - Working on sky for: jw01324001001_10101_00003_nis_rate.fits\n",
      "2024-06-27 10:21:00,239 - stpipe - INFO - User has computed their own sky values...\n"
     ]
    },
    {
     "name": "stdout",
     "output_type": "stream",
     "text": [
      "User has computed their own sky values...\n"
     ]
    },
    {
     "name": "stderr",
     "output_type": "stream",
     "text": [
      "2024-06-27 10:21:00,240 - stpipe - INFO - Working on sky for: jw01324001001_10101_00004_nis_rate.fits\n",
      "2024-06-27 10:21:00,241 - stpipe - INFO - User has computed their own sky values...\n"
     ]
    },
    {
     "name": "stdout",
     "output_type": "stream",
     "text": [
      "User has computed their own sky values...\n"
     ]
    },
    {
     "name": "stderr",
     "output_type": "stream",
     "text": [
      "2024-06-27 10:21:00,242 - stpipe - INFO - Working on sky for: jw01324001001_12101_00001_nis_rate.fits\n",
      "2024-06-27 10:21:00,243 - stpipe - INFO - User has computed their own sky values...\n"
     ]
    },
    {
     "name": "stdout",
     "output_type": "stream",
     "text": [
      "User has computed their own sky values...\n"
     ]
    },
    {
     "name": "stderr",
     "output_type": "stream",
     "text": [
      "2024-06-27 10:21:00,244 - stpipe - INFO - Working on sky for: jw01324001001_12101_00002_nis_rate.fits\n",
      "2024-06-27 10:21:00,245 - stpipe - INFO - User has computed their own sky values...\n"
     ]
    },
    {
     "name": "stdout",
     "output_type": "stream",
     "text": [
      "User has computed their own sky values...\n"
     ]
    },
    {
     "name": "stderr",
     "output_type": "stream",
     "text": [
      "2024-06-27 10:21:00,246 - stpipe - INFO - Working on sky for: jw01324001001_12101_00003_nis_rate.fits\n",
      "2024-06-27 10:21:00,246 - stpipe - INFO - User has computed their own sky values...\n"
     ]
    },
    {
     "name": "stdout",
     "output_type": "stream",
     "text": [
      "User has computed their own sky values...\n"
     ]
    },
    {
     "name": "stderr",
     "output_type": "stream",
     "text": [
      "2024-06-27 10:21:00,247 - stpipe - INFO - ==== Processing Step Subtract Sky finished at 10:21:00.247 (27/06/2024)\n"
     ]
    },
    {
     "name": "stdout",
     "output_type": "stream",
     "text": [
      "==== Processing Step Subtract Sky finished at 10:21:00.247 (27/06/2024)\n"
     ]
    },
    {
     "name": "stderr",
     "output_type": "stream",
     "text": [
      "2024-06-27 10:21:00,249 - stpipe - INFO - ==== Processing Step  Separate Drizzle  started at  10:21:00.249 (27/06/2024)\n"
     ]
    },
    {
     "name": "stdout",
     "output_type": "stream",
     "text": [
      "==== Processing Step  Separate Drizzle  started at  10:21:00.249 (27/06/2024)\n"
     ]
    },
    {
     "name": "stderr",
     "output_type": "stream",
     "text": [
      "2024-06-27 10:21:00,250 - stpipe - INFO - \n"
     ]
    },
    {
     "name": "stdout",
     "output_type": "stream",
     "text": [
      "\n"
     ]
    },
    {
     "name": "stderr",
     "output_type": "stream",
     "text": [
      "2024-06-27 10:21:00,251 - stpipe - INFO - Single drizzle step not performed.\n",
      "2024-06-27 10:21:00,252 - stpipe - INFO - ==== Processing Step Separate Drizzle finished at 10:21:00.252 (27/06/2024)\n"
     ]
    },
    {
     "name": "stdout",
     "output_type": "stream",
     "text": [
      "==== Processing Step Separate Drizzle finished at 10:21:00.252 (27/06/2024)\n"
     ]
    },
    {
     "name": "stderr",
     "output_type": "stream",
     "text": [
      "2024-06-27 10:21:00,253 - stpipe - INFO - ==== Processing Step  Create Median  started at  10:21:00.253 (27/06/2024)\n"
     ]
    },
    {
     "name": "stdout",
     "output_type": "stream",
     "text": [
      "==== Processing Step  Create Median  started at  10:21:00.253 (27/06/2024)\n"
     ]
    },
    {
     "name": "stderr",
     "output_type": "stream",
     "text": [
      "2024-06-27 10:21:00,254 - stpipe - INFO - \n"
     ]
    },
    {
     "name": "stdout",
     "output_type": "stream",
     "text": [
      "\n"
     ]
    },
    {
     "name": "stderr",
     "output_type": "stream",
     "text": [
      "2024-06-27 10:21:00,255 - stpipe - INFO - Median combination step not performed.\n",
      "2024-06-27 10:21:00,256 - stpipe - INFO - ==== Processing Step  Blot  started at  10:21:00.256 (27/06/2024)\n"
     ]
    },
    {
     "name": "stdout",
     "output_type": "stream",
     "text": [
      "==== Processing Step  Blot  started at  10:21:00.256 (27/06/2024)\n"
     ]
    },
    {
     "name": "stderr",
     "output_type": "stream",
     "text": [
      "2024-06-27 10:21:00,257 - stpipe - INFO - \n"
     ]
    },
    {
     "name": "stdout",
     "output_type": "stream",
     "text": [
      "\n"
     ]
    },
    {
     "name": "stderr",
     "output_type": "stream",
     "text": [
      "2024-06-27 10:21:00,258 - stpipe - INFO - Blot step not performed.\n",
      "2024-06-27 10:21:00,259 - stpipe - INFO - ==== Processing Step Blot finished at 10:21:00.259 (27/06/2024)\n"
     ]
    },
    {
     "name": "stdout",
     "output_type": "stream",
     "text": [
      "==== Processing Step Blot finished at 10:21:00.259 (27/06/2024)\n"
     ]
    },
    {
     "name": "stderr",
     "output_type": "stream",
     "text": [
      "2024-06-27 10:21:00,260 - stpipe - INFO - ==== Processing Step  Driz_CR  started at  10:21:00.260 (27/06/2024)\n"
     ]
    },
    {
     "name": "stdout",
     "output_type": "stream",
     "text": [
      "==== Processing Step  Driz_CR  started at  10:21:00.260 (27/06/2024)\n"
     ]
    },
    {
     "name": "stderr",
     "output_type": "stream",
     "text": [
      "2024-06-27 10:21:00,261 - stpipe - INFO - \n"
     ]
    },
    {
     "name": "stdout",
     "output_type": "stream",
     "text": [
      "\n"
     ]
    },
    {
     "name": "stderr",
     "output_type": "stream",
     "text": [
      "2024-06-27 10:21:00,263 - stpipe - INFO - Cosmic-ray identification (driz_cr) step not performed.\n",
      "2024-06-27 10:21:00,263 - stpipe - INFO - ==== Processing Step  Final Drizzle  started at  10:21:00.263 (27/06/2024)\n"
     ]
    },
    {
     "name": "stdout",
     "output_type": "stream",
     "text": [
      "==== Processing Step  Final Drizzle  started at  10:21:00.263 (27/06/2024)\n"
     ]
    },
    {
     "name": "stderr",
     "output_type": "stream",
     "text": [
      "2024-06-27 10:21:00,264 - stpipe - INFO - \n"
     ]
    },
    {
     "name": "stdout",
     "output_type": "stream",
     "text": [
      "\n"
     ]
    },
    {
     "name": "stderr",
     "output_type": "stream",
     "text": [
      "2024-06-27 10:21:00,266 - stpipe - INFO - Interpreted paramDict with single=False as:\n",
      "2024-06-27 10:21:00,266 - stpipe - INFO - {'build': False, 'stepsize': 10, 'coeffs': True, 'wcskey': '', 'wht_type': 'IVM', 'kernel': 'square', 'wt_scl': 'exptime', 'pixfrac': 0.75, 'fillval': None, 'maskval': None, 'bits': 5, 'units': 'cps'}\n",
      "2024-06-27 10:21:00,267 - stpipe - INFO - USER INPUT PARAMETERS for Final Drizzle Step:\n",
      "2024-06-27 10:21:00,267 - stpipe - INFO - \tbits :\t5\n",
      "2024-06-27 10:21:00,268 - stpipe - INFO - \tbuild :\tFalse\n",
      "2024-06-27 10:21:00,268 - stpipe - INFO - \tclean :\tTrue\n",
      "2024-06-27 10:21:00,269 - stpipe - INFO - \tcoeffs :\tTrue\n",
      "2024-06-27 10:21:00,270 - stpipe - INFO - \tcrbit :\t4096\n",
      "2024-06-27 10:21:00,270 - stpipe - INFO - \tfillval :\tNone\n",
      "2024-06-27 10:21:00,271 - stpipe - INFO - \tkernel :\tsquare\n",
      "2024-06-27 10:21:00,271 - stpipe - INFO - \tlogfile :\tastrodrizzle.log\n",
      "2024-06-27 10:21:00,272 - stpipe - INFO - \tmaskval :\tNone\n",
      "2024-06-27 10:21:00,272 - stpipe - INFO - \tpixfrac :\t0.75\n",
      "2024-06-27 10:21:00,273 - stpipe - INFO - \tproc_unit :\tnative\n",
      "2024-06-27 10:21:00,273 - stpipe - INFO - \trules_file :\tNone\n",
      "2024-06-27 10:21:00,274 - stpipe - INFO - \tstepsize :\t10\n",
      "2024-06-27 10:21:00,274 - stpipe - INFO - \tunits :\tcps\n",
      "2024-06-27 10:21:00,275 - stpipe - INFO - \twcskey :\t\n",
      "2024-06-27 10:21:00,275 - stpipe - INFO - \twht_type :\tIVM\n",
      "2024-06-27 10:21:00,276 - stpipe - INFO - \twt_scl :\texptime\n",
      "2024-06-27 10:21:00,277 - stpipe - INFO -   **Using sub-sampling value of 10 for kernel square\n",
      "2024-06-27 10:21:00,277 - stpipe - INFO - Running Drizzle to create output frame with WCS of: \n",
      "2024-06-27 10:21:00,278 - stpipe - INFO - WCS Keywords\n"
     ]
    },
    {
     "name": "stdout",
     "output_type": "stream",
     "text": [
      "WCS Keywords\n"
     ]
    },
    {
     "name": "stderr",
     "output_type": "stream",
     "text": [
      "2024-06-27 10:21:00,279 - stpipe - INFO - \n"
     ]
    },
    {
     "name": "stdout",
     "output_type": "stream",
     "text": [
      "\n"
     ]
    },
    {
     "name": "stderr",
     "output_type": "stream",
     "text": [
      "2024-06-27 10:21:00,281 - stpipe - INFO - CD_11  CD_12: -8.3333333333333e-06 0.0\n"
     ]
    },
    {
     "name": "stdout",
     "output_type": "stream",
     "text": [
      "CD_11  CD_12: -8.3333333333333e-06 0.0\n"
     ]
    },
    {
     "name": "stderr",
     "output_type": "stream",
     "text": [
      "2024-06-27 10:21:00,282 - stpipe - INFO - CD_21  CD_22: 0.0 8.33333333333333e-06\n"
     ]
    },
    {
     "name": "stdout",
     "output_type": "stream",
     "text": [
      "CD_21  CD_22: 0.0 8.33333333333333e-06\n"
     ]
    },
    {
     "name": "stderr",
     "output_type": "stream",
     "text": [
      "2024-06-27 10:21:00,283 - stpipe - INFO - CRVAL    : 3.595475565788118 -30.39433251948023\n"
     ]
    },
    {
     "name": "stdout",
     "output_type": "stream",
     "text": [
      "CRVAL    : 3.595475565788118 -30.39433251948023\n"
     ]
    },
    {
     "name": "stderr",
     "output_type": "stream",
     "text": [
      "2024-06-27 10:21:00,284 - stpipe - INFO - CRPIX    : 3287.0 3214.5\n"
     ]
    },
    {
     "name": "stdout",
     "output_type": "stream",
     "text": [
      "CRPIX    : 3287.0 3214.5\n"
     ]
    },
    {
     "name": "stderr",
     "output_type": "stream",
     "text": [
      "2024-06-27 10:21:00,285 - stpipe - INFO - NAXIS    : 6573 6428\n"
     ]
    },
    {
     "name": "stdout",
     "output_type": "stream",
     "text": [
      "NAXIS    : 6573 6428\n"
     ]
    },
    {
     "name": "stderr",
     "output_type": "stream",
     "text": [
      "2024-06-27 10:21:00,286 - stpipe - INFO - Plate Scale : 0.02999999999999988\n"
     ]
    },
    {
     "name": "stdout",
     "output_type": "stream",
     "text": [
      "Plate Scale : 0.02999999999999988\n"
     ]
    },
    {
     "name": "stderr",
     "output_type": "stream",
     "text": [
      "2024-06-27 10:21:00,287 - stpipe - INFO - ORIENTAT : 0.0\n"
     ]
    },
    {
     "name": "stdout",
     "output_type": "stream",
     "text": [
      "ORIENTAT : 0.0\n"
     ]
    },
    {
     "name": "stderr",
     "output_type": "stream",
     "text": [
      "2024-06-27 10:21:00,314 - stpipe - INFO - -Drizzle input: jw01324001001_08101_00001_nis_rate.fits[sci,1]\n",
      "2024-06-27 10:21:00,342 - stpipe - INFO - Applying sky value of 0.229330 to jw01324001001_08101_00001_nis_rate.fits[sci,1]\n",
      "2024-06-27 10:21:00,371 - stpipe - WARNING - No CR mask file found! Input DQ array not updated.\n",
      "2024-06-27 10:21:00,373 - stpipe - INFO - Automatically creating IVM files for chip 1\n",
      "2024-06-27 10:21:00,377 - stpipe - WARNING - Cannot find flat field file 'jwst_niriss_flat_0282.fits'\n",
      "2024-06-27 10:21:00,378 - stpipe - WARNING - Treating flatfield as a constant value of '1'.\n",
      "2024-06-27 10:21:00,435 - stpipe - INFO - Using WCSLIB-based coordinate transformation...\n",
      "2024-06-27 10:21:00,436 - stpipe - INFO - stepsize = 10\n",
      "2024-06-27 10:21:00,451 - stpipe - INFO - -Drizzling using kernel = square\n",
      "2024-06-27 10:21:00,451 - stpipe - INFO - \n",
      "2024-06-27 10:21:02,154 - stpipe - INFO - -Drizzle input: jw01324001001_10101_00001_nis_rate.fits[sci,1]\n",
      "2024-06-27 10:21:02,184 - stpipe - INFO - Applying sky value of 0.231380 to jw01324001001_10101_00001_nis_rate.fits[sci,1]\n",
      "2024-06-27 10:21:02,213 - stpipe - WARNING - No CR mask file found! Input DQ array not updated.\n",
      "2024-06-27 10:21:02,214 - stpipe - INFO - Automatically creating IVM files for chip 1\n",
      "2024-06-27 10:21:02,220 - stpipe - WARNING - Cannot find flat field file 'jwst_niriss_flat_0282.fits'\n",
      "2024-06-27 10:21:02,220 - stpipe - WARNING - Treating flatfield as a constant value of '1'.\n",
      "2024-06-27 10:21:02,277 - stpipe - INFO - Using WCSLIB-based coordinate transformation...\n",
      "2024-06-27 10:21:02,278 - stpipe - INFO - stepsize = 10\n",
      "2024-06-27 10:21:02,292 - stpipe - INFO - -Drizzling using kernel = square\n",
      "2024-06-27 10:21:02,292 - stpipe - INFO - \n",
      "2024-06-27 10:21:03,923 - stpipe - INFO - -Drizzle input: jw01324001001_10101_00002_nis_rate.fits[sci,1]\n",
      "2024-06-27 10:21:03,954 - stpipe - INFO - Applying sky value of 0.227035 to jw01324001001_10101_00002_nis_rate.fits[sci,1]\n",
      "2024-06-27 10:21:03,974 - stpipe - WARNING - No CR mask file found! Input DQ array not updated.\n",
      "2024-06-27 10:21:03,975 - stpipe - INFO - Automatically creating IVM files for chip 1\n",
      "2024-06-27 10:21:03,978 - stpipe - WARNING - Cannot find flat field file 'jwst_niriss_flat_0282.fits'\n",
      "2024-06-27 10:21:03,979 - stpipe - WARNING - Treating flatfield as a constant value of '1'.\n",
      "2024-06-27 10:21:04,029 - stpipe - INFO - Using WCSLIB-based coordinate transformation...\n",
      "2024-06-27 10:21:04,030 - stpipe - INFO - stepsize = 10\n",
      "2024-06-27 10:21:04,044 - stpipe - INFO - -Drizzling using kernel = square\n",
      "2024-06-27 10:21:04,045 - stpipe - INFO - \n",
      "2024-06-27 10:21:05,634 - stpipe - INFO - -Drizzle input: jw01324001001_10101_00003_nis_rate.fits[sci,1]\n",
      "2024-06-27 10:21:05,663 - stpipe - INFO - Applying sky value of 0.227111 to jw01324001001_10101_00003_nis_rate.fits[sci,1]\n",
      "2024-06-27 10:21:05,683 - stpipe - WARNING - No CR mask file found! Input DQ array not updated.\n",
      "2024-06-27 10:21:05,684 - stpipe - INFO - Automatically creating IVM files for chip 1\n",
      "2024-06-27 10:21:05,687 - stpipe - WARNING - Cannot find flat field file 'jwst_niriss_flat_0282.fits'\n",
      "2024-06-27 10:21:05,688 - stpipe - WARNING - Treating flatfield as a constant value of '1'.\n",
      "2024-06-27 10:21:05,738 - stpipe - INFO - Using WCSLIB-based coordinate transformation...\n",
      "2024-06-27 10:21:05,738 - stpipe - INFO - stepsize = 10\n",
      "2024-06-27 10:21:05,753 - stpipe - INFO - -Drizzling using kernel = square\n",
      "2024-06-27 10:21:05,754 - stpipe - INFO - \n",
      "2024-06-27 10:21:07,385 - stpipe - INFO - -Drizzle input: jw01324001001_10101_00004_nis_rate.fits[sci,1]\n",
      "2024-06-27 10:21:07,414 - stpipe - INFO - Applying sky value of 0.227078 to jw01324001001_10101_00004_nis_rate.fits[sci,1]\n",
      "2024-06-27 10:21:07,434 - stpipe - WARNING - No CR mask file found! Input DQ array not updated.\n",
      "2024-06-27 10:21:07,435 - stpipe - INFO - Automatically creating IVM files for chip 1\n",
      "2024-06-27 10:21:07,438 - stpipe - WARNING - Cannot find flat field file 'jwst_niriss_flat_0282.fits'\n",
      "2024-06-27 10:21:07,439 - stpipe - WARNING - Treating flatfield as a constant value of '1'.\n",
      "2024-06-27 10:21:07,490 - stpipe - INFO - Using WCSLIB-based coordinate transformation...\n",
      "2024-06-27 10:21:07,491 - stpipe - INFO - stepsize = 10\n",
      "2024-06-27 10:21:07,506 - stpipe - INFO - -Drizzling using kernel = square\n",
      "2024-06-27 10:21:07,506 - stpipe - INFO - \n",
      "2024-06-27 10:21:09,119 - stpipe - INFO - -Drizzle input: jw01324001001_12101_00001_nis_rate.fits[sci,1]\n",
      "2024-06-27 10:21:09,148 - stpipe - INFO - Applying sky value of 0.228918 to jw01324001001_12101_00001_nis_rate.fits[sci,1]\n",
      "2024-06-27 10:21:09,168 - stpipe - WARNING - No CR mask file found! Input DQ array not updated.\n",
      "2024-06-27 10:21:09,169 - stpipe - INFO - Automatically creating IVM files for chip 1\n",
      "2024-06-27 10:21:09,172 - stpipe - WARNING - Cannot find flat field file 'jwst_niriss_flat_0282.fits'\n",
      "2024-06-27 10:21:09,173 - stpipe - WARNING - Treating flatfield as a constant value of '1'.\n",
      "2024-06-27 10:21:09,225 - stpipe - INFO - Using WCSLIB-based coordinate transformation...\n",
      "2024-06-27 10:21:09,226 - stpipe - INFO - stepsize = 10\n",
      "2024-06-27 10:21:09,241 - stpipe - INFO - -Drizzling using kernel = square\n",
      "2024-06-27 10:21:09,242 - stpipe - INFO - \n",
      "2024-06-27 10:21:10,847 - stpipe - INFO - -Drizzle input: jw01324001001_12101_00002_nis_rate.fits[sci,1]\n",
      "2024-06-27 10:21:10,876 - stpipe - INFO - Applying sky value of 0.225940 to jw01324001001_12101_00002_nis_rate.fits[sci,1]\n",
      "2024-06-27 10:21:10,896 - stpipe - WARNING - No CR mask file found! Input DQ array not updated.\n",
      "2024-06-27 10:21:10,897 - stpipe - INFO - Automatically creating IVM files for chip 1\n",
      "2024-06-27 10:21:10,899 - stpipe - WARNING - Cannot find flat field file 'jwst_niriss_flat_0282.fits'\n",
      "2024-06-27 10:21:10,900 - stpipe - WARNING - Treating flatfield as a constant value of '1'.\n",
      "2024-06-27 10:21:10,952 - stpipe - INFO - Using WCSLIB-based coordinate transformation...\n",
      "2024-06-27 10:21:10,952 - stpipe - INFO - stepsize = 10\n",
      "2024-06-27 10:21:10,967 - stpipe - INFO - -Drizzling using kernel = square\n",
      "2024-06-27 10:21:10,967 - stpipe - INFO - \n",
      "2024-06-27 10:21:12,548 - stpipe - INFO - -Drizzle input: jw01324001001_12101_00003_nis_rate.fits[sci,1]\n",
      "2024-06-27 10:21:12,576 - stpipe - INFO - Applying sky value of 0.228533 to jw01324001001_12101_00003_nis_rate.fits[sci,1]\n",
      "2024-06-27 10:21:12,595 - stpipe - WARNING - No CR mask file found! Input DQ array not updated.\n",
      "2024-06-27 10:21:12,596 - stpipe - INFO - Automatically creating IVM files for chip 1\n",
      "2024-06-27 10:21:12,599 - stpipe - WARNING - Cannot find flat field file 'jwst_niriss_flat_0282.fits'\n",
      "2024-06-27 10:21:12,599 - stpipe - WARNING - Treating flatfield as a constant value of '1'.\n",
      "2024-06-27 10:21:12,648 - stpipe - INFO - Using WCSLIB-based coordinate transformation...\n",
      "2024-06-27 10:21:12,648 - stpipe - INFO - stepsize = 10\n",
      "2024-06-27 10:21:12,662 - stpipe - INFO - -Drizzling using kernel = square\n",
      "2024-06-27 10:21:12,663 - stpipe - INFO - \n",
      "2024-06-27 10:21:14,893 - stpipe - INFO - -Generating simple FITS output: glass-2022data-f150w_drz_sci.fits\n"
     ]
    },
    {
     "name": "stdout",
     "output_type": "stream",
     "text": [
      "-Generating simple FITS output: glass-2022data-f150w_drz_sci.fits\n"
     ]
    },
    {
     "name": "stderr",
     "output_type": "stream",
     "text": [
      "2024-06-27 10:21:15,026 - stpipe - INFO - Writing out image to disk: glass-2022data-f150w_drz_sci.fits\n"
     ]
    },
    {
     "name": "stdout",
     "output_type": "stream",
     "text": [
      "Writing out image to disk: glass-2022data-f150w_drz_sci.fits\n"
     ]
    },
    {
     "name": "stderr",
     "output_type": "stream",
     "text": [
      "2024-06-27 10:21:15,317 - stpipe - INFO - Writing out image to disk: glass-2022data-f150w_drz_wht.fits\n"
     ]
    },
    {
     "name": "stdout",
     "output_type": "stream",
     "text": [
      "Writing out image to disk: glass-2022data-f150w_drz_wht.fits\n"
     ]
    },
    {
     "name": "stderr",
     "output_type": "stream",
     "text": [
      "2024-06-27 10:21:15,578 - stpipe - INFO - ==== Processing Step Final Drizzle finished at 10:21:15.577 (27/06/2024)\n"
     ]
    },
    {
     "name": "stdout",
     "output_type": "stream",
     "text": [
      "==== Processing Step Final Drizzle finished at 10:21:15.577 (27/06/2024)\n"
     ]
    },
    {
     "name": "stderr",
     "output_type": "stream",
     "text": [
      "2024-06-27 10:21:15,579 - stpipe - INFO - \n"
     ]
    },
    {
     "name": "stdout",
     "output_type": "stream",
     "text": [
      "\n"
     ]
    },
    {
     "name": "stderr",
     "output_type": "stream",
     "text": [
      "2024-06-27 10:21:15,580 - stpipe - INFO - AstroDrizzle Version 3.7.0.1 is finished processing at 10:21:15.580 (27/06/2024).\n"
     ]
    },
    {
     "name": "stdout",
     "output_type": "stream",
     "text": [
      "AstroDrizzle Version 3.7.0.1 is finished processing at 10:21:15.580 (27/06/2024).\n"
     ]
    },
    {
     "name": "stderr",
     "output_type": "stream",
     "text": [
      "2024-06-27 10:21:15,581 - stpipe - INFO - \n"
     ]
    },
    {
     "name": "stdout",
     "output_type": "stream",
     "text": [
      "\n"
     ]
    },
    {
     "name": "stderr",
     "output_type": "stream",
     "text": [
      "2024-06-27 10:21:15,582 - stpipe - INFO - \n"
     ]
    },
    {
     "name": "stdout",
     "output_type": "stream",
     "text": [
      "\n"
     ]
    },
    {
     "name": "stderr",
     "output_type": "stream",
     "text": [
      "2024-06-27 10:21:15,583 - stpipe - INFO - \n"
     ]
    },
    {
     "name": "stdout",
     "output_type": "stream",
     "text": [
      "\n"
     ]
    },
    {
     "name": "stderr",
     "output_type": "stream",
     "text": [
      "2024-06-27 10:21:15,585 - stpipe - INFO -    --------------------          --------------------\n"
     ]
    },
    {
     "name": "stdout",
     "output_type": "stream",
     "text": [
      "   --------------------          --------------------\n"
     ]
    },
    {
     "name": "stderr",
     "output_type": "stream",
     "text": [
      "2024-06-27 10:21:15,586 - stpipe - INFO -                    Step          Elapsed time\n"
     ]
    },
    {
     "name": "stdout",
     "output_type": "stream",
     "text": [
      "                   Step          Elapsed time\n"
     ]
    },
    {
     "name": "stderr",
     "output_type": "stream",
     "text": [
      "2024-06-27 10:21:15,587 - stpipe - INFO -    --------------------          --------------------\n"
     ]
    },
    {
     "name": "stdout",
     "output_type": "stream",
     "text": [
      "   --------------------          --------------------\n"
     ]
    },
    {
     "name": "stderr",
     "output_type": "stream",
     "text": [
      "2024-06-27 10:21:15,588 - stpipe - INFO - \n"
     ]
    },
    {
     "name": "stdout",
     "output_type": "stream",
     "text": [
      "\n"
     ]
    },
    {
     "name": "stderr",
     "output_type": "stream",
     "text": [
      "2024-06-27 10:21:15,589 - stpipe - INFO -          Initialization          1.6107 sec.\n"
     ]
    },
    {
     "name": "stdout",
     "output_type": "stream",
     "text": [
      "         Initialization          1.6107 sec.\n"
     ]
    },
    {
     "name": "stderr",
     "output_type": "stream",
     "text": [
      "2024-06-27 10:21:15,590 - stpipe - INFO -             Static Mask          0.0027 sec.\n"
     ]
    },
    {
     "name": "stdout",
     "output_type": "stream",
     "text": [
      "            Static Mask          0.0027 sec.\n"
     ]
    },
    {
     "name": "stderr",
     "output_type": "stream",
     "text": [
      "2024-06-27 10:21:15,591 - stpipe - INFO -            Subtract Sky          0.5897 sec.\n"
     ]
    },
    {
     "name": "stdout",
     "output_type": "stream",
     "text": [
      "           Subtract Sky          0.5897 sec.\n"
     ]
    },
    {
     "name": "stderr",
     "output_type": "stream",
     "text": [
      "2024-06-27 10:21:15,592 - stpipe - INFO -        Separate Drizzle          0.0029 sec.\n"
     ]
    },
    {
     "name": "stdout",
     "output_type": "stream",
     "text": [
      "       Separate Drizzle          0.0029 sec.\n"
     ]
    },
    {
     "name": "stderr",
     "output_type": "stream",
     "text": [
      "2024-06-27 10:21:15,593 - stpipe - INFO -           Create Median          0.0000 sec.\n"
     ]
    },
    {
     "name": "stdout",
     "output_type": "stream",
     "text": [
      "          Create Median          0.0000 sec.\n"
     ]
    },
    {
     "name": "stderr",
     "output_type": "stream",
     "text": [
      "2024-06-27 10:21:15,594 - stpipe - INFO -                    Blot          0.0031 sec.\n"
     ]
    },
    {
     "name": "stdout",
     "output_type": "stream",
     "text": [
      "                   Blot          0.0031 sec.\n"
     ]
    },
    {
     "name": "stderr",
     "output_type": "stream",
     "text": [
      "2024-06-27 10:21:15,595 - stpipe - INFO -                 Driz_CR          0.0000 sec.\n"
     ]
    },
    {
     "name": "stdout",
     "output_type": "stream",
     "text": [
      "                Driz_CR          0.0000 sec.\n"
     ]
    },
    {
     "name": "stderr",
     "output_type": "stream",
     "text": [
      "2024-06-27 10:21:15,596 - stpipe - INFO -           Final Drizzle          15.3139 sec.\n"
     ]
    },
    {
     "name": "stdout",
     "output_type": "stream",
     "text": [
      "          Final Drizzle          15.3139 sec.\n"
     ]
    },
    {
     "name": "stderr",
     "output_type": "stream",
     "text": [
      "2024-06-27 10:21:15,596 - stpipe - INFO -    ====================          ====================\n"
     ]
    },
    {
     "name": "stdout",
     "output_type": "stream",
     "text": [
      "   ====================          ====================\n"
     ]
    },
    {
     "name": "stderr",
     "output_type": "stream",
     "text": [
      "2024-06-27 10:21:15,597 - stpipe - INFO -                   Total          17.5230 sec.\n"
     ]
    },
    {
     "name": "stdout",
     "output_type": "stream",
     "text": [
      "                  Total          17.5230 sec.\n"
     ]
    },
    {
     "name": "stderr",
     "output_type": "stream",
     "text": [
      "2024-06-27 10:21:15,598 - stpipe - INFO - \n"
     ]
    },
    {
     "name": "stdout",
     "output_type": "stream",
     "text": [
      "\n"
     ]
    },
    {
     "name": "stderr",
     "output_type": "stream",
     "text": [
      "2024-06-27 10:21:15,600 - stpipe - INFO - Removing intermediate files for jw01324001001_08101_00001_nis_rate.fits\n",
      "2024-06-27 10:21:15,605 - stpipe - INFO - Removing intermediate files for jw01324001001_10101_00001_nis_rate.fits\n",
      "2024-06-27 10:21:15,611 - stpipe - INFO - Removing intermediate files for jw01324001001_10101_00002_nis_rate.fits\n",
      "2024-06-27 10:21:15,616 - stpipe - INFO - Removing intermediate files for jw01324001001_10101_00003_nis_rate.fits\n",
      "2024-06-27 10:21:15,621 - stpipe - INFO - Removing intermediate files for jw01324001001_10101_00004_nis_rate.fits\n",
      "2024-06-27 10:21:15,626 - stpipe - INFO - Removing intermediate files for jw01324001001_12101_00001_nis_rate.fits\n",
      "2024-06-27 10:21:15,631 - stpipe - INFO - Removing intermediate files for jw01324001001_12101_00002_nis_rate.fits\n",
      "2024-06-27 10:21:15,636 - stpipe - INFO - Removing intermediate files for jw01324001001_12101_00003_nis_rate.fits\n",
      "2024-06-27 10:21:15,646 - stpipe - INFO - Trailer file written to:  astrodrizzle.log\n"
     ]
    },
    {
     "name": "stdout",
     "output_type": "stream",
     "text": [
      "Trailer file written to:  astrodrizzle.log\n",
      "# (2024-06-27 03:21:16.199)\n",
      "\n",
      "jwst_utils.set_jwst_to_hst_keywords(**{'input': 'jw01324001001_08101_00001_nis_rate.fits', 'reset': True, 'verbose': True, 'orig_keys': ['TELESCOP', 'INSTRUME', 'DETECTOR', 'FILTER', 'PUPIL', 'EXP_TYPE', 'GRATING']})\n",
      "\n",
      "Reset: TELESCOP > JWST (OTELESCO)\n",
      "Reset: INSTRUME > NIRISS (OINSTRUM)\n",
      "Reset: DETECTOR > NIS (ODETECTO)\n",
      "Reset: FILTER > CLEAR (OFILTER)\n",
      "Reset: PUPIL > F150W (OPUPIL)\n",
      "Reset: EXP_TYPE > NIS_IMAGE (OEXP_TYP)\n",
      "# (2024-06-27 03:21:16.393)\n",
      "\n",
      "jwst_utils.set_jwst_to_hst_keywords(**{'input': 'jw01324001001_10101_00001_nis_rate.fits', 'reset': True, 'verbose': True, 'orig_keys': ['TELESCOP', 'INSTRUME', 'DETECTOR', 'FILTER', 'PUPIL', 'EXP_TYPE', 'GRATING']})\n",
      "\n",
      "Reset: TELESCOP > JWST (OTELESCO)\n",
      "Reset: INSTRUME > NIRISS (OINSTRUM)\n",
      "Reset: DETECTOR > NIS (ODETECTO)\n",
      "Reset: FILTER > CLEAR (OFILTER)\n",
      "Reset: PUPIL > F150W (OPUPIL)\n",
      "Reset: EXP_TYPE > NIS_IMAGE (OEXP_TYP)\n",
      "# (2024-06-27 03:21:16.570)\n",
      "\n",
      "jwst_utils.set_jwst_to_hst_keywords(**{'input': 'jw01324001001_10101_00002_nis_rate.fits', 'reset': True, 'verbose': True, 'orig_keys': ['TELESCOP', 'INSTRUME', 'DETECTOR', 'FILTER', 'PUPIL', 'EXP_TYPE', 'GRATING']})\n",
      "\n",
      "Reset: TELESCOP > JWST (OTELESCO)\n",
      "Reset: INSTRUME > NIRISS (OINSTRUM)\n",
      "Reset: DETECTOR > NIS (ODETECTO)\n",
      "Reset: FILTER > CLEAR (OFILTER)\n",
      "Reset: PUPIL > F150W (OPUPIL)\n",
      "Reset: EXP_TYPE > NIS_IMAGE (OEXP_TYP)\n",
      "# (2024-06-27 03:21:16.742)\n",
      "\n",
      "jwst_utils.set_jwst_to_hst_keywords(**{'input': 'jw01324001001_10101_00003_nis_rate.fits', 'reset': True, 'verbose': True, 'orig_keys': ['TELESCOP', 'INSTRUME', 'DETECTOR', 'FILTER', 'PUPIL', 'EXP_TYPE', 'GRATING']})\n",
      "\n",
      "Reset: TELESCOP > JWST (OTELESCO)\n",
      "Reset: INSTRUME > NIRISS (OINSTRUM)\n",
      "Reset: DETECTOR > NIS (ODETECTO)\n",
      "Reset: FILTER > CLEAR (OFILTER)\n",
      "Reset: PUPIL > F150W (OPUPIL)\n",
      "Reset: EXP_TYPE > NIS_IMAGE (OEXP_TYP)\n",
      "# (2024-06-27 03:21:16.917)\n",
      "\n",
      "jwst_utils.set_jwst_to_hst_keywords(**{'input': 'jw01324001001_10101_00004_nis_rate.fits', 'reset': True, 'verbose': True, 'orig_keys': ['TELESCOP', 'INSTRUME', 'DETECTOR', 'FILTER', 'PUPIL', 'EXP_TYPE', 'GRATING']})\n",
      "\n",
      "Reset: TELESCOP > JWST (OTELESCO)\n",
      "Reset: INSTRUME > NIRISS (OINSTRUM)\n",
      "Reset: DETECTOR > NIS (ODETECTO)\n",
      "Reset: FILTER > CLEAR (OFILTER)\n",
      "Reset: PUPIL > F150W (OPUPIL)\n",
      "Reset: EXP_TYPE > NIS_IMAGE (OEXP_TYP)\n",
      "# (2024-06-27 03:21:17.104)\n",
      "\n",
      "jwst_utils.set_jwst_to_hst_keywords(**{'input': 'jw01324001001_12101_00001_nis_rate.fits', 'reset': True, 'verbose': True, 'orig_keys': ['TELESCOP', 'INSTRUME', 'DETECTOR', 'FILTER', 'PUPIL', 'EXP_TYPE', 'GRATING']})\n",
      "\n",
      "Reset: TELESCOP > JWST (OTELESCO)\n",
      "Reset: INSTRUME > NIRISS (OINSTRUM)\n",
      "Reset: DETECTOR > NIS (ODETECTO)\n",
      "Reset: FILTER > CLEAR (OFILTER)\n",
      "Reset: PUPIL > F150W (OPUPIL)\n",
      "Reset: EXP_TYPE > NIS_IMAGE (OEXP_TYP)\n",
      "# (2024-06-27 03:21:17.282)\n",
      "\n",
      "jwst_utils.set_jwst_to_hst_keywords(**{'input': 'jw01324001001_12101_00002_nis_rate.fits', 'reset': True, 'verbose': True, 'orig_keys': ['TELESCOP', 'INSTRUME', 'DETECTOR', 'FILTER', 'PUPIL', 'EXP_TYPE', 'GRATING']})\n",
      "\n",
      "Reset: TELESCOP > JWST (OTELESCO)\n",
      "Reset: INSTRUME > NIRISS (OINSTRUM)\n",
      "Reset: DETECTOR > NIS (ODETECTO)\n",
      "Reset: FILTER > CLEAR (OFILTER)\n",
      "Reset: PUPIL > F150W (OPUPIL)\n",
      "Reset: EXP_TYPE > NIS_IMAGE (OEXP_TYP)\n",
      "# (2024-06-27 03:21:17.456)\n",
      "\n",
      "jwst_utils.set_jwst_to_hst_keywords(**{'input': 'jw01324001001_12101_00003_nis_rate.fits', 'reset': True, 'verbose': True, 'orig_keys': ['TELESCOP', 'INSTRUME', 'DETECTOR', 'FILTER', 'PUPIL', 'EXP_TYPE', 'GRATING']})\n",
      "\n",
      "Reset: TELESCOP > JWST (OTELESCO)\n",
      "Reset: INSTRUME > NIRISS (OINSTRUM)\n",
      "Reset: DETECTOR > NIS (ODETECTO)\n",
      "Reset: FILTER > CLEAR (OFILTER)\n",
      "Reset: PUPIL > F150W (OPUPIL)\n",
      "Reset: EXP_TYPE > NIS_IMAGE (OEXP_TYP)\n",
      "\n",
      "\n",
      "### drizzle_overlaps: glass-2022data-f200w (8)\n",
      "\n",
      "# (2024-06-27 03:21:17.632)\n",
      "\n",
      "jwst_utils.set_jwst_to_hst_keywords(**{'input': 'jw01324001001_14101_00001_nis_rate.fits', 'reset': False, 'verbose': True, 'orig_keys': ['TELESCOP', 'INSTRUME', 'DETECTOR', 'FILTER', 'PUPIL', 'EXP_TYPE', 'GRATING']})\n",
      "\n",
      "  Set: TELESCOP > HST\n",
      "  Set: INSTRUME > WFC3\n",
      "  Set: DETECTOR > IR\n",
      "# (2024-06-27 03:21:17.803)\n",
      "\n",
      "jwst_utils.set_jwst_to_hst_keywords(**{'input': 'jw01324001001_16101_00001_nis_rate.fits', 'reset': False, 'verbose': True, 'orig_keys': ['TELESCOP', 'INSTRUME', 'DETECTOR', 'FILTER', 'PUPIL', 'EXP_TYPE', 'GRATING']})\n",
      "\n",
      "  Set: TELESCOP > HST\n",
      "  Set: INSTRUME > WFC3\n",
      "  Set: DETECTOR > IR\n",
      "# (2024-06-27 03:21:18.007)\n",
      "\n",
      "jwst_utils.set_jwst_to_hst_keywords(**{'input': 'jw01324001001_16101_00002_nis_rate.fits', 'reset': False, 'verbose': True, 'orig_keys': ['TELESCOP', 'INSTRUME', 'DETECTOR', 'FILTER', 'PUPIL', 'EXP_TYPE', 'GRATING']})\n",
      "\n",
      "  Set: TELESCOP > HST\n",
      "  Set: INSTRUME > WFC3\n",
      "  Set: DETECTOR > IR\n",
      "# (2024-06-27 03:21:18.182)\n",
      "\n",
      "jwst_utils.set_jwst_to_hst_keywords(**{'input': 'jw01324001001_16101_00003_nis_rate.fits', 'reset': False, 'verbose': True, 'orig_keys': ['TELESCOP', 'INSTRUME', 'DETECTOR', 'FILTER', 'PUPIL', 'EXP_TYPE', 'GRATING']})\n",
      "\n",
      "  Set: TELESCOP > HST\n",
      "  Set: INSTRUME > WFC3\n",
      "  Set: DETECTOR > IR\n",
      "# (2024-06-27 03:21:18.350)\n",
      "\n",
      "jwst_utils.set_jwst_to_hst_keywords(**{'input': 'jw01324001001_16101_00004_nis_rate.fits', 'reset': False, 'verbose': True, 'orig_keys': ['TELESCOP', 'INSTRUME', 'DETECTOR', 'FILTER', 'PUPIL', 'EXP_TYPE', 'GRATING']})\n",
      "\n",
      "  Set: TELESCOP > HST\n",
      "  Set: INSTRUME > WFC3\n",
      "  Set: DETECTOR > IR\n",
      "# (2024-06-27 03:21:18.537)\n",
      "\n",
      "jwst_utils.set_jwst_to_hst_keywords(**{'input': 'jw01324001001_18101_00001_nis_rate.fits', 'reset': False, 'verbose': True, 'orig_keys': ['TELESCOP', 'INSTRUME', 'DETECTOR', 'FILTER', 'PUPIL', 'EXP_TYPE', 'GRATING']})\n",
      "\n",
      "  Set: TELESCOP > HST\n",
      "  Set: INSTRUME > WFC3\n",
      "  Set: DETECTOR > IR\n",
      "# (2024-06-27 03:21:18.736)\n",
      "\n",
      "jwst_utils.set_jwst_to_hst_keywords(**{'input': 'jw01324001001_18101_00002_nis_rate.fits', 'reset': False, 'verbose': True, 'orig_keys': ['TELESCOP', 'INSTRUME', 'DETECTOR', 'FILTER', 'PUPIL', 'EXP_TYPE', 'GRATING']})\n",
      "\n",
      "  Set: TELESCOP > HST\n",
      "  Set: INSTRUME > WFC3\n",
      "  Set: DETECTOR > IR\n",
      "# (2024-06-27 03:21:18.910)\n",
      "\n",
      "jwst_utils.set_jwst_to_hst_keywords(**{'input': 'jw01324001001_18101_00003_nis_rate.fits', 'reset': False, 'verbose': True, 'orig_keys': ['TELESCOP', 'INSTRUME', 'DETECTOR', 'FILTER', 'PUPIL', 'EXP_TYPE', 'GRATING']})\n",
      "\n",
      "  Set: TELESCOP > HST\n",
      "  Set: INSTRUME > WFC3\n",
      "  Set: DETECTOR > IR\n"
     ]
    },
    {
     "name": "stderr",
     "output_type": "stream",
     "text": [
      "2024-06-27 10:21:19,128 - stpipe - INFO - Setting up logfile :  astrodrizzle.log\n"
     ]
    },
    {
     "name": "stdout",
     "output_type": "stream",
     "text": [
      "Setting up logfile :  astrodrizzle.log\n"
     ]
    },
    {
     "name": "stderr",
     "output_type": "stream",
     "text": [
      "2024-06-27 10:21:19,130 - stpipe - INFO - AstroDrizzle log file: astrodrizzle.log\n"
     ]
    },
    {
     "name": "stdout",
     "output_type": "stream",
     "text": [
      "AstroDrizzle log file: astrodrizzle.log\n"
     ]
    },
    {
     "name": "stderr",
     "output_type": "stream",
     "text": [
      "2024-06-27 10:21:19,131 - stpipe - INFO - AstroDrizzle Version 3.7.0.1 started at: 10:21:19.131 (27/06/2024)\n"
     ]
    },
    {
     "name": "stdout",
     "output_type": "stream",
     "text": [
      "AstroDrizzle Version 3.7.0.1 started at: 10:21:19.131 (27/06/2024)\n"
     ]
    },
    {
     "name": "stderr",
     "output_type": "stream",
     "text": [
      "2024-06-27 10:21:19,132 - stpipe - INFO - \n"
     ]
    },
    {
     "name": "stdout",
     "output_type": "stream",
     "text": [
      "\n"
     ]
    },
    {
     "name": "stderr",
     "output_type": "stream",
     "text": [
      "2024-06-27 10:21:19,133 - stpipe - INFO - Version Information\n",
      "2024-06-27 10:21:19,133 - stpipe - INFO - --------------------\n",
      "2024-06-27 10:21:19,133 - stpipe - INFO - Python Version 3.11.9 (main, Apr 19 2024, 16:48:06) [GCC 11.2.0]\n",
      "2024-06-27 10:21:19,134 - stpipe - INFO - numpy Version -> 1.26.4 \n",
      "2024-06-27 10:21:19,134 - stpipe - INFO - astropy Version -> 6.1.1 \n",
      "2024-06-27 10:21:19,134 - stpipe - INFO - stwcs Version -> 1.7.3 \n",
      "2024-06-27 10:21:19,135 - stpipe - INFO - photutils Version -> 1.12.0 \n",
      "2024-06-27 10:21:19,135 - stpipe - INFO - ==== Processing Step  Initialization  started at  10:21:19.135 (27/06/2024)\n"
     ]
    },
    {
     "name": "stdout",
     "output_type": "stream",
     "text": [
      "==== Processing Step  Initialization  started at  10:21:19.135 (27/06/2024)\n"
     ]
    },
    {
     "name": "stderr",
     "output_type": "stream",
     "text": [
      "2024-06-27 10:21:19,137 - stpipe - INFO - \n"
     ]
    },
    {
     "name": "stdout",
     "output_type": "stream",
     "text": [
      "\n"
     ]
    },
    {
     "name": "stderr",
     "output_type": "stream",
     "text": [
      "2024-06-27 10:21:19,285 - stpipe - INFO - Executing serially\n",
      "2024-06-27 10:21:19,531 - stpipe - INFO - Setting up output name: glass-2022data-f200w_drz.fits\n",
      "2024-06-27 10:21:19,536 - stpipe - INFO - ##############################################################################\n"
     ]
    },
    {
     "name": "stdout",
     "output_type": "stream",
     "text": [
      "##############################################################################\n"
     ]
    },
    {
     "name": "stderr",
     "output_type": "stream",
     "text": [
      "2024-06-27 10:21:19,537 - stpipe - INFO - #                                                                            #\n"
     ]
    },
    {
     "name": "stdout",
     "output_type": "stream",
     "text": [
      "#                                                                            #\n"
     ]
    },
    {
     "name": "stderr",
     "output_type": "stream",
     "text": [
      "2024-06-27 10:21:19,538 - stpipe - INFO - # “minmed” is highly recommended for three images,                           #\n"
     ]
    },
    {
     "name": "stdout",
     "output_type": "stream",
     "text": [
      "# “minmed” is highly recommended for three images,                           #\n"
     ]
    },
    {
     "name": "stderr",
     "output_type": "stream",
     "text": [
      "2024-06-27 10:21:19,539 - stpipe - INFO - #  and is good for four to six images,                                       #\n"
     ]
    },
    {
     "name": "stdout",
     "output_type": "stream",
     "text": [
      "#  and is good for four to six images,                                       #\n"
     ]
    },
    {
     "name": "stderr",
     "output_type": "stream",
     "text": [
      "2024-06-27 10:21:19,540 - stpipe - INFO - #  but should be avoided for ten or more images.                             #\n"
     ]
    },
    {
     "name": "stdout",
     "output_type": "stream",
     "text": [
      "#  but should be avoided for ten or more images.                             #\n"
     ]
    },
    {
     "name": "stderr",
     "output_type": "stream",
     "text": [
      "2024-06-27 10:21:19,541 - stpipe - INFO - #                                                                            #\n"
     ]
    },
    {
     "name": "stdout",
     "output_type": "stream",
     "text": [
      "#                                                                            #\n"
     ]
    },
    {
     "name": "stderr",
     "output_type": "stream",
     "text": [
      "2024-06-27 10:21:19,542 - stpipe - INFO - ##############################################################################\n"
     ]
    },
    {
     "name": "stdout",
     "output_type": "stream",
     "text": [
      "##############################################################################\n"
     ]
    },
    {
     "name": "stderr",
     "output_type": "stream",
     "text": [
      "2024-06-27 10:21:19,550 - stpipe - INFO - -Creating imageObject List as input for processing steps.\n",
      "2024-06-27 10:21:19,828 - stpipe - INFO - Reading in MDRIZSKY of 0.18428528308868408\n",
      "2024-06-27 10:21:19,963 - stpipe - INFO - Reading in MDRIZSKY of 0.18516577780246732\n",
      "2024-06-27 10:21:20,099 - stpipe - INFO - Reading in MDRIZSKY of 0.18517042696475985\n",
      "2024-06-27 10:21:20,236 - stpipe - INFO - Reading in MDRIZSKY of 0.1834816336631775\n",
      "2024-06-27 10:21:20,372 - stpipe - INFO - Reading in MDRIZSKY of 0.18546099960803986\n",
      "2024-06-27 10:21:20,503 - stpipe - INFO - Reading in MDRIZSKY of 0.18526512384414673\n",
      "2024-06-27 10:21:20,639 - stpipe - INFO - Reading in MDRIZSKY of 0.1856273114681244\n",
      "2024-06-27 10:21:20,775 - stpipe - INFO - Reading in MDRIZSKY of 0.1852954477071762\n",
      "2024-06-27 10:21:20,802 - stpipe - INFO - No context image will be created for jw01324001001_14101_00001_nis_rate.fits\n",
      "2024-06-27 10:21:20,803 - stpipe - INFO - No context image will be created for jw01324001001_16101_00001_nis_rate.fits\n",
      "2024-06-27 10:21:20,804 - stpipe - INFO - No context image will be created for jw01324001001_16101_00002_nis_rate.fits\n",
      "2024-06-27 10:21:20,804 - stpipe - INFO - No context image will be created for jw01324001001_16101_00003_nis_rate.fits\n",
      "2024-06-27 10:21:20,804 - stpipe - INFO - No context image will be created for jw01324001001_16101_00004_nis_rate.fits\n",
      "2024-06-27 10:21:20,805 - stpipe - INFO - No context image will be created for jw01324001001_18101_00001_nis_rate.fits\n",
      "2024-06-27 10:21:20,805 - stpipe - INFO - No context image will be created for jw01324001001_18101_00002_nis_rate.fits\n",
      "2024-06-27 10:21:20,806 - stpipe - INFO - No context image will be created for jw01324001001_18101_00003_nis_rate.fits\n",
      "2024-06-27 10:21:20,806 - stpipe - INFO - -Creating output WCS.\n",
      "2024-06-27 10:21:20,809 - stpipe - INFO - No context image will be created for glass-2022data-f200w_drz.fits\n",
      "2024-06-27 10:21:20,818 - stpipe - INFO - Creating OUTPUT WCS from glass-2022data_wcs-ref.fits[1]\n"
     ]
    },
    {
     "name": "stdout",
     "output_type": "stream",
     "text": [
      "Creating OUTPUT WCS from glass-2022data_wcs-ref.fits[1]\n"
     ]
    },
    {
     "name": "stderr",
     "output_type": "stream",
     "text": [
      "2024-06-27 10:21:20,824 - stpipe - INFO - WCS Keywords\n"
     ]
    },
    {
     "name": "stdout",
     "output_type": "stream",
     "text": [
      "WCS Keywords\n"
     ]
    },
    {
     "name": "stderr",
     "output_type": "stream",
     "text": [
      "2024-06-27 10:21:20,825 - stpipe - INFO - \n"
     ]
    },
    {
     "name": "stdout",
     "output_type": "stream",
     "text": [
      "\n"
     ]
    },
    {
     "name": "stderr",
     "output_type": "stream",
     "text": [
      "2024-06-27 10:21:20,827 - stpipe - INFO - CD_11  CD_12: -8.3333333333333e-06 0.0\n"
     ]
    },
    {
     "name": "stdout",
     "output_type": "stream",
     "text": [
      "CD_11  CD_12: -8.3333333333333e-06 0.0\n"
     ]
    },
    {
     "name": "stderr",
     "output_type": "stream",
     "text": [
      "2024-06-27 10:21:20,828 - stpipe - INFO - CD_21  CD_22: 0.0 8.33333333333333e-06\n"
     ]
    },
    {
     "name": "stdout",
     "output_type": "stream",
     "text": [
      "CD_21  CD_22: 0.0 8.33333333333333e-06\n"
     ]
    },
    {
     "name": "stderr",
     "output_type": "stream",
     "text": [
      "2024-06-27 10:21:20,828 - stpipe - INFO - CRVAL    : 3.595475565788118 -30.39433251948023\n"
     ]
    },
    {
     "name": "stdout",
     "output_type": "stream",
     "text": [
      "CRVAL    : 3.595475565788118 -30.39433251948023\n"
     ]
    },
    {
     "name": "stderr",
     "output_type": "stream",
     "text": [
      "2024-06-27 10:21:20,829 - stpipe - INFO - CRPIX    : 3287.0 3214.5\n"
     ]
    },
    {
     "name": "stdout",
     "output_type": "stream",
     "text": [
      "CRPIX    : 3287.0 3214.5\n"
     ]
    },
    {
     "name": "stderr",
     "output_type": "stream",
     "text": [
      "2024-06-27 10:21:20,830 - stpipe - INFO - NAXIS    : 6573 6428\n"
     ]
    },
    {
     "name": "stdout",
     "output_type": "stream",
     "text": [
      "NAXIS    : 6573 6428\n"
     ]
    },
    {
     "name": "stderr",
     "output_type": "stream",
     "text": [
      "2024-06-27 10:21:20,831 - stpipe - INFO - Plate Scale : 0.02999999999999988\n"
     ]
    },
    {
     "name": "stdout",
     "output_type": "stream",
     "text": [
      "Plate Scale : 0.02999999999999988\n"
     ]
    },
    {
     "name": "stderr",
     "output_type": "stream",
     "text": [
      "2024-06-27 10:21:20,832 - stpipe - INFO - ORIENTAT : 0.0\n"
     ]
    },
    {
     "name": "stdout",
     "output_type": "stream",
     "text": [
      "ORIENTAT : 0.0\n"
     ]
    },
    {
     "name": "stderr",
     "output_type": "stream",
     "text": [
      "2024-06-27 10:21:20,833 - stpipe - INFO - ********************************************************************************\n"
     ]
    },
    {
     "name": "stdout",
     "output_type": "stream",
     "text": [
      "********************************************************************************\n"
     ]
    },
    {
     "name": "stderr",
     "output_type": "stream",
     "text": [
      "2024-06-27 10:21:20,834 - stpipe - INFO - *\n"
     ]
    },
    {
     "name": "stdout",
     "output_type": "stream",
     "text": [
      "*\n"
     ]
    },
    {
     "name": "stderr",
     "output_type": "stream",
     "text": [
      "2024-06-27 10:21:20,835 - stpipe - INFO - *  Estimated memory usage:  up to 515 Mb.\n"
     ]
    },
    {
     "name": "stdout",
     "output_type": "stream",
     "text": [
      "*  Estimated memory usage:  up to 515 Mb.\n"
     ]
    },
    {
     "name": "stderr",
     "output_type": "stream",
     "text": [
      "2024-06-27 10:21:20,836 - stpipe - INFO - *  Output image size:       6573 X 6428 pixels. \n"
     ]
    },
    {
     "name": "stdout",
     "output_type": "stream",
     "text": [
      "*  Output image size:       6573 X 6428 pixels. \n"
     ]
    },
    {
     "name": "stderr",
     "output_type": "stream",
     "text": [
      "2024-06-27 10:21:20,837 - stpipe - INFO - *  Output image file:       ~ 483 Mb. \n"
     ]
    },
    {
     "name": "stdout",
     "output_type": "stream",
     "text": [
      "*  Output image file:       ~ 483 Mb. \n"
     ]
    },
    {
     "name": "stderr",
     "output_type": "stream",
     "text": [
      "2024-06-27 10:21:20,838 - stpipe - INFO - *  Cores available:         1\n"
     ]
    },
    {
     "name": "stdout",
     "output_type": "stream",
     "text": [
      "*  Cores available:         1\n"
     ]
    },
    {
     "name": "stderr",
     "output_type": "stream",
     "text": [
      "2024-06-27 10:21:20,839 - stpipe - INFO - *\n"
     ]
    },
    {
     "name": "stdout",
     "output_type": "stream",
     "text": [
      "*\n"
     ]
    },
    {
     "name": "stderr",
     "output_type": "stream",
     "text": [
      "2024-06-27 10:21:20,840 - stpipe - INFO - ********************************************************************************\n"
     ]
    },
    {
     "name": "stdout",
     "output_type": "stream",
     "text": [
      "********************************************************************************\n"
     ]
    },
    {
     "name": "stderr",
     "output_type": "stream",
     "text": [
      "2024-06-27 10:21:20,841 - stpipe - INFO - ==== Processing Step Initialization finished at 10:21:20.841 (27/06/2024)\n"
     ]
    },
    {
     "name": "stdout",
     "output_type": "stream",
     "text": [
      "==== Processing Step Initialization finished at 10:21:20.841 (27/06/2024)\n"
     ]
    },
    {
     "name": "stderr",
     "output_type": "stream",
     "text": [
      "2024-06-27 10:21:20,842 - stpipe - INFO - USER INPUT PARAMETERS common to all Processing Steps:\n",
      "2024-06-27 10:21:20,843 - stpipe - INFO - \tbuild :\tFalse\n",
      "2024-06-27 10:21:20,843 - stpipe - INFO - \tcoeffs :\tTrue\n",
      "2024-06-27 10:21:20,844 - stpipe - INFO - \tcontext :\tFalse\n",
      "2024-06-27 10:21:20,844 - stpipe - INFO - \tcrbit :\t4096\n",
      "2024-06-27 10:21:20,845 - stpipe - INFO - \tgroup :\t\n",
      "2024-06-27 10:21:20,845 - stpipe - INFO - \tin_memory :\tFalse\n",
      "2024-06-27 10:21:20,846 - stpipe - INFO - \tinput :\t['jw01324001001_14101_00001_nis_rate.fits', 'jw01324001001_16101_00001_nis_rate.fits', 'jw01324001001_16101_00002_nis_rate.fits', 'jw01324001001_16101_00003_nis_rate.fits', 'jw01324001001_16101_00004_nis_rate.fits', 'jw01324001001_18101_00001_nis_rate.fits', 'jw01324001001_18101_00002_nis_rate.fits', 'jw01324001001_18101_00003_nis_rate.fits']\n",
      "2024-06-27 10:21:20,846 - stpipe - INFO - \tmdriztab :\tFalse\n",
      "2024-06-27 10:21:20,847 - stpipe - INFO - \tnum_cores :\tNone\n",
      "2024-06-27 10:21:20,847 - stpipe - INFO - \toutput :\tglass-2022data-f200w\n",
      "2024-06-27 10:21:20,848 - stpipe - INFO - \tproc_unit :\tnative\n",
      "2024-06-27 10:21:20,848 - stpipe - INFO - \tresetbits :\t0\n",
      "2024-06-27 10:21:20,849 - stpipe - INFO - \trules_file :\t\n",
      "2024-06-27 10:21:20,849 - stpipe - INFO - \trunfile :\tastrodrizzle.log\n",
      "2024-06-27 10:21:20,850 - stpipe - INFO - \tstepsize :\t10\n",
      "2024-06-27 10:21:20,850 - stpipe - INFO - \tupdatewcs :\tFalse\n",
      "2024-06-27 10:21:20,850 - stpipe - INFO - \twcskey :\t\n",
      "2024-06-27 10:21:20,851 - stpipe - INFO - ==== Processing Step  Static Mask  started at  10:21:20.851 (27/06/2024)\n"
     ]
    },
    {
     "name": "stdout",
     "output_type": "stream",
     "text": [
      "==== Processing Step  Static Mask  started at  10:21:20.851 (27/06/2024)\n"
     ]
    },
    {
     "name": "stderr",
     "output_type": "stream",
     "text": [
      "2024-06-27 10:21:20,852 - stpipe - INFO - \n"
     ]
    },
    {
     "name": "stdout",
     "output_type": "stream",
     "text": [
      "\n"
     ]
    },
    {
     "name": "stderr",
     "output_type": "stream",
     "text": [
      "2024-06-27 10:21:20,853 - stpipe - INFO - Static Mask step not performed.\n",
      "2024-06-27 10:21:20,854 - stpipe - INFO - ==== Processing Step Static Mask finished at 10:21:20.853 (27/06/2024)\n"
     ]
    },
    {
     "name": "stdout",
     "output_type": "stream",
     "text": [
      "==== Processing Step Static Mask finished at 10:21:20.853 (27/06/2024)\n"
     ]
    },
    {
     "name": "stderr",
     "output_type": "stream",
     "text": [
      "2024-06-27 10:21:20,855 - stpipe - INFO - ==== Processing Step  Subtract Sky  started at  10:21:20.854 (27/06/2024)\n"
     ]
    },
    {
     "name": "stdout",
     "output_type": "stream",
     "text": [
      "==== Processing Step  Subtract Sky  started at  10:21:20.854 (27/06/2024)\n"
     ]
    },
    {
     "name": "stderr",
     "output_type": "stream",
     "text": [
      "2024-06-27 10:21:20,855 - stpipe - INFO - \n"
     ]
    },
    {
     "name": "stdout",
     "output_type": "stream",
     "text": [
      "\n"
     ]
    },
    {
     "name": "stderr",
     "output_type": "stream",
     "text": [
      "2024-06-27 10:21:20,857 - stpipe - INFO - Sky Subtraction step not performed.\n",
      "2024-06-27 10:21:21,261 - stpipe - INFO - Retrieving user computed sky values from image headers \n",
      "2024-06-27 10:21:21,262 - stpipe - INFO - recorded in the 'MDRIZSKY' header keywords.\n",
      "2024-06-27 10:21:21,263 - stpipe - INFO - Working on sky for: jw01324001001_14101_00001_nis_rate.fits\n",
      "2024-06-27 10:21:21,264 - stpipe - INFO - User has computed their own sky values...\n"
     ]
    },
    {
     "name": "stdout",
     "output_type": "stream",
     "text": [
      "User has computed their own sky values...\n"
     ]
    },
    {
     "name": "stderr",
     "output_type": "stream",
     "text": [
      "2024-06-27 10:21:21,265 - stpipe - INFO - Working on sky for: jw01324001001_16101_00001_nis_rate.fits\n",
      "2024-06-27 10:21:21,265 - stpipe - INFO - User has computed their own sky values...\n"
     ]
    },
    {
     "name": "stdout",
     "output_type": "stream",
     "text": [
      "User has computed their own sky values...\n"
     ]
    },
    {
     "name": "stderr",
     "output_type": "stream",
     "text": [
      "2024-06-27 10:21:21,266 - stpipe - INFO - Working on sky for: jw01324001001_16101_00002_nis_rate.fits\n",
      "2024-06-27 10:21:21,267 - stpipe - INFO - User has computed their own sky values...\n"
     ]
    },
    {
     "name": "stdout",
     "output_type": "stream",
     "text": [
      "User has computed their own sky values...\n"
     ]
    },
    {
     "name": "stderr",
     "output_type": "stream",
     "text": [
      "2024-06-27 10:21:21,267 - stpipe - INFO - Working on sky for: jw01324001001_16101_00003_nis_rate.fits\n",
      "2024-06-27 10:21:21,268 - stpipe - INFO - User has computed their own sky values...\n"
     ]
    },
    {
     "name": "stdout",
     "output_type": "stream",
     "text": [
      "User has computed their own sky values...\n"
     ]
    },
    {
     "name": "stderr",
     "output_type": "stream",
     "text": [
      "2024-06-27 10:21:21,269 - stpipe - INFO - Working on sky for: jw01324001001_16101_00004_nis_rate.fits\n",
      "2024-06-27 10:21:21,269 - stpipe - INFO - User has computed their own sky values...\n"
     ]
    },
    {
     "name": "stdout",
     "output_type": "stream",
     "text": [
      "User has computed their own sky values...\n"
     ]
    },
    {
     "name": "stderr",
     "output_type": "stream",
     "text": [
      "2024-06-27 10:21:21,270 - stpipe - INFO - Working on sky for: jw01324001001_18101_00001_nis_rate.fits\n",
      "2024-06-27 10:21:21,271 - stpipe - INFO - User has computed their own sky values...\n"
     ]
    },
    {
     "name": "stdout",
     "output_type": "stream",
     "text": [
      "User has computed their own sky values...\n"
     ]
    },
    {
     "name": "stderr",
     "output_type": "stream",
     "text": [
      "2024-06-27 10:21:21,272 - stpipe - INFO - Working on sky for: jw01324001001_18101_00002_nis_rate.fits\n",
      "2024-06-27 10:21:21,272 - stpipe - INFO - User has computed their own sky values...\n"
     ]
    },
    {
     "name": "stdout",
     "output_type": "stream",
     "text": [
      "User has computed their own sky values...\n"
     ]
    },
    {
     "name": "stderr",
     "output_type": "stream",
     "text": [
      "2024-06-27 10:21:21,273 - stpipe - INFO - Working on sky for: jw01324001001_18101_00003_nis_rate.fits\n",
      "2024-06-27 10:21:21,274 - stpipe - INFO - User has computed their own sky values...\n"
     ]
    },
    {
     "name": "stdout",
     "output_type": "stream",
     "text": [
      "User has computed their own sky values...\n"
     ]
    },
    {
     "name": "stderr",
     "output_type": "stream",
     "text": [
      "2024-06-27 10:21:21,275 - stpipe - INFO - ==== Processing Step Subtract Sky finished at 10:21:21.27 (27/06/2024)\n"
     ]
    },
    {
     "name": "stdout",
     "output_type": "stream",
     "text": [
      "==== Processing Step Subtract Sky finished at 10:21:21.27 (27/06/2024)\n"
     ]
    },
    {
     "name": "stderr",
     "output_type": "stream",
     "text": [
      "2024-06-27 10:21:21,276 - stpipe - INFO - ==== Processing Step  Separate Drizzle  started at  10:21:21.276 (27/06/2024)\n"
     ]
    },
    {
     "name": "stdout",
     "output_type": "stream",
     "text": [
      "==== Processing Step  Separate Drizzle  started at  10:21:21.276 (27/06/2024)\n"
     ]
    },
    {
     "name": "stderr",
     "output_type": "stream",
     "text": [
      "2024-06-27 10:21:21,277 - stpipe - INFO - \n"
     ]
    },
    {
     "name": "stdout",
     "output_type": "stream",
     "text": [
      "\n"
     ]
    },
    {
     "name": "stderr",
     "output_type": "stream",
     "text": [
      "2024-06-27 10:21:21,278 - stpipe - INFO - Single drizzle step not performed.\n",
      "2024-06-27 10:21:21,278 - stpipe - INFO - ==== Processing Step Separate Drizzle finished at 10:21:21.278 (27/06/2024)\n"
     ]
    },
    {
     "name": "stdout",
     "output_type": "stream",
     "text": [
      "==== Processing Step Separate Drizzle finished at 10:21:21.278 (27/06/2024)\n"
     ]
    },
    {
     "name": "stderr",
     "output_type": "stream",
     "text": [
      "2024-06-27 10:21:21,280 - stpipe - INFO - ==== Processing Step  Create Median  started at  10:21:21.279 (27/06/2024)\n"
     ]
    },
    {
     "name": "stdout",
     "output_type": "stream",
     "text": [
      "==== Processing Step  Create Median  started at  10:21:21.279 (27/06/2024)\n"
     ]
    },
    {
     "name": "stderr",
     "output_type": "stream",
     "text": [
      "2024-06-27 10:21:21,281 - stpipe - INFO - \n"
     ]
    },
    {
     "name": "stdout",
     "output_type": "stream",
     "text": [
      "\n"
     ]
    },
    {
     "name": "stderr",
     "output_type": "stream",
     "text": [
      "2024-06-27 10:21:21,282 - stpipe - INFO - Median combination step not performed.\n",
      "2024-06-27 10:21:21,282 - stpipe - INFO - ==== Processing Step  Blot  started at  10:21:21.282 (27/06/2024)\n"
     ]
    },
    {
     "name": "stdout",
     "output_type": "stream",
     "text": [
      "==== Processing Step  Blot  started at  10:21:21.282 (27/06/2024)\n"
     ]
    },
    {
     "name": "stderr",
     "output_type": "stream",
     "text": [
      "2024-06-27 10:21:21,283 - stpipe - INFO - \n"
     ]
    },
    {
     "name": "stdout",
     "output_type": "stream",
     "text": [
      "\n"
     ]
    },
    {
     "name": "stderr",
     "output_type": "stream",
     "text": [
      "2024-06-27 10:21:21,284 - stpipe - INFO - Blot step not performed.\n",
      "2024-06-27 10:21:21,285 - stpipe - INFO - ==== Processing Step Blot finished at 10:21:21.285 (27/06/2024)\n"
     ]
    },
    {
     "name": "stdout",
     "output_type": "stream",
     "text": [
      "==== Processing Step Blot finished at 10:21:21.285 (27/06/2024)\n"
     ]
    },
    {
     "name": "stderr",
     "output_type": "stream",
     "text": [
      "2024-06-27 10:21:21,286 - stpipe - INFO - ==== Processing Step  Driz_CR  started at  10:21:21.286 (27/06/2024)\n"
     ]
    },
    {
     "name": "stdout",
     "output_type": "stream",
     "text": [
      "==== Processing Step  Driz_CR  started at  10:21:21.286 (27/06/2024)\n"
     ]
    },
    {
     "name": "stderr",
     "output_type": "stream",
     "text": [
      "2024-06-27 10:21:21,287 - stpipe - INFO - \n"
     ]
    },
    {
     "name": "stdout",
     "output_type": "stream",
     "text": [
      "\n"
     ]
    },
    {
     "name": "stderr",
     "output_type": "stream",
     "text": [
      "2024-06-27 10:21:21,288 - stpipe - INFO - Cosmic-ray identification (driz_cr) step not performed.\n",
      "2024-06-27 10:21:21,288 - stpipe - INFO - ==== Processing Step  Final Drizzle  started at  10:21:21.288 (27/06/2024)\n"
     ]
    },
    {
     "name": "stdout",
     "output_type": "stream",
     "text": [
      "==== Processing Step  Final Drizzle  started at  10:21:21.288 (27/06/2024)\n"
     ]
    },
    {
     "name": "stderr",
     "output_type": "stream",
     "text": [
      "2024-06-27 10:21:21,289 - stpipe - INFO - \n"
     ]
    },
    {
     "name": "stdout",
     "output_type": "stream",
     "text": [
      "\n"
     ]
    },
    {
     "name": "stderr",
     "output_type": "stream",
     "text": [
      "2024-06-27 10:21:21,291 - stpipe - INFO - Interpreted paramDict with single=False as:\n",
      "2024-06-27 10:21:21,291 - stpipe - INFO - {'build': False, 'stepsize': 10, 'coeffs': True, 'wcskey': '', 'wht_type': 'IVM', 'kernel': 'square', 'wt_scl': 'exptime', 'pixfrac': 0.75, 'fillval': None, 'maskval': None, 'bits': 5, 'units': 'cps'}\n",
      "2024-06-27 10:21:21,292 - stpipe - INFO - USER INPUT PARAMETERS for Final Drizzle Step:\n",
      "2024-06-27 10:21:21,292 - stpipe - INFO - \tbits :\t5\n",
      "2024-06-27 10:21:21,293 - stpipe - INFO - \tbuild :\tFalse\n",
      "2024-06-27 10:21:21,293 - stpipe - INFO - \tclean :\tTrue\n",
      "2024-06-27 10:21:21,294 - stpipe - INFO - \tcoeffs :\tTrue\n",
      "2024-06-27 10:21:21,294 - stpipe - INFO - \tcrbit :\t4096\n",
      "2024-06-27 10:21:21,295 - stpipe - INFO - \tfillval :\tNone\n",
      "2024-06-27 10:21:21,295 - stpipe - INFO - \tkernel :\tsquare\n",
      "2024-06-27 10:21:21,296 - stpipe - INFO - \tlogfile :\tastrodrizzle.log\n",
      "2024-06-27 10:21:21,296 - stpipe - INFO - \tmaskval :\tNone\n",
      "2024-06-27 10:21:21,297 - stpipe - INFO - \tpixfrac :\t0.75\n",
      "2024-06-27 10:21:21,297 - stpipe - INFO - \tproc_unit :\tnative\n",
      "2024-06-27 10:21:21,298 - stpipe - INFO - \trules_file :\tNone\n",
      "2024-06-27 10:21:21,298 - stpipe - INFO - \tstepsize :\t10\n",
      "2024-06-27 10:21:21,298 - stpipe - INFO - \tunits :\tcps\n",
      "2024-06-27 10:21:21,299 - stpipe - INFO - \twcskey :\t\n",
      "2024-06-27 10:21:21,299 - stpipe - INFO - \twht_type :\tIVM\n",
      "2024-06-27 10:21:21,299 - stpipe - INFO - \twt_scl :\texptime\n",
      "2024-06-27 10:21:21,300 - stpipe - INFO -   **Using sub-sampling value of 10 for kernel square\n",
      "2024-06-27 10:21:21,301 - stpipe - INFO - Running Drizzle to create output frame with WCS of: \n",
      "2024-06-27 10:21:21,302 - stpipe - INFO - WCS Keywords\n"
     ]
    },
    {
     "name": "stdout",
     "output_type": "stream",
     "text": [
      "WCS Keywords\n"
     ]
    },
    {
     "name": "stderr",
     "output_type": "stream",
     "text": [
      "2024-06-27 10:21:21,303 - stpipe - INFO - \n"
     ]
    },
    {
     "name": "stdout",
     "output_type": "stream",
     "text": [
      "\n"
     ]
    },
    {
     "name": "stderr",
     "output_type": "stream",
     "text": [
      "2024-06-27 10:21:21,304 - stpipe - INFO - CD_11  CD_12: -8.3333333333333e-06 0.0\n"
     ]
    },
    {
     "name": "stdout",
     "output_type": "stream",
     "text": [
      "CD_11  CD_12: -8.3333333333333e-06 0.0\n"
     ]
    },
    {
     "name": "stderr",
     "output_type": "stream",
     "text": [
      "2024-06-27 10:21:21,305 - stpipe - INFO - CD_21  CD_22: 0.0 8.33333333333333e-06\n"
     ]
    },
    {
     "name": "stdout",
     "output_type": "stream",
     "text": [
      "CD_21  CD_22: 0.0 8.33333333333333e-06\n"
     ]
    },
    {
     "name": "stderr",
     "output_type": "stream",
     "text": [
      "2024-06-27 10:21:21,306 - stpipe - INFO - CRVAL    : 3.595475565788118 -30.39433251948023\n"
     ]
    },
    {
     "name": "stdout",
     "output_type": "stream",
     "text": [
      "CRVAL    : 3.595475565788118 -30.39433251948023\n"
     ]
    },
    {
     "name": "stderr",
     "output_type": "stream",
     "text": [
      "2024-06-27 10:21:21,307 - stpipe - INFO - CRPIX    : 3287.0 3214.5\n"
     ]
    },
    {
     "name": "stdout",
     "output_type": "stream",
     "text": [
      "CRPIX    : 3287.0 3214.5\n"
     ]
    },
    {
     "name": "stderr",
     "output_type": "stream",
     "text": [
      "2024-06-27 10:21:21,308 - stpipe - INFO - NAXIS    : 6573 6428\n"
     ]
    },
    {
     "name": "stdout",
     "output_type": "stream",
     "text": [
      "NAXIS    : 6573 6428\n"
     ]
    },
    {
     "name": "stderr",
     "output_type": "stream",
     "text": [
      "2024-06-27 10:21:21,308 - stpipe - INFO - Plate Scale : 0.02999999999999988\n"
     ]
    },
    {
     "name": "stdout",
     "output_type": "stream",
     "text": [
      "Plate Scale : 0.02999999999999988\n"
     ]
    },
    {
     "name": "stderr",
     "output_type": "stream",
     "text": [
      "2024-06-27 10:21:21,309 - stpipe - INFO - ORIENTAT : 0.0\n"
     ]
    },
    {
     "name": "stdout",
     "output_type": "stream",
     "text": [
      "ORIENTAT : 0.0\n"
     ]
    },
    {
     "name": "stderr",
     "output_type": "stream",
     "text": [
      "2024-06-27 10:21:21,336 - stpipe - INFO - -Drizzle input: jw01324001001_14101_00001_nis_rate.fits[sci,1]\n",
      "2024-06-27 10:21:21,364 - stpipe - INFO - Applying sky value of 0.184285 to jw01324001001_14101_00001_nis_rate.fits[sci,1]\n",
      "2024-06-27 10:21:21,385 - stpipe - WARNING - No CR mask file found! Input DQ array not updated.\n",
      "2024-06-27 10:21:21,387 - stpipe - INFO - Automatically creating IVM files for chip 1\n",
      "2024-06-27 10:21:21,390 - stpipe - WARNING - Cannot find flat field file 'jwst_niriss_flat_0268.fits'\n",
      "2024-06-27 10:21:21,391 - stpipe - WARNING - Treating flatfield as a constant value of '1'.\n",
      "2024-06-27 10:21:21,441 - stpipe - INFO - Using WCSLIB-based coordinate transformation...\n",
      "2024-06-27 10:21:21,442 - stpipe - INFO - stepsize = 10\n",
      "2024-06-27 10:21:21,456 - stpipe - INFO - -Drizzling using kernel = square\n",
      "2024-06-27 10:21:21,457 - stpipe - INFO - \n",
      "2024-06-27 10:21:23,057 - stpipe - INFO - -Drizzle input: jw01324001001_16101_00001_nis_rate.fits[sci,1]\n",
      "2024-06-27 10:21:23,084 - stpipe - INFO - Applying sky value of 0.185166 to jw01324001001_16101_00001_nis_rate.fits[sci,1]\n",
      "2024-06-27 10:21:23,105 - stpipe - WARNING - No CR mask file found! Input DQ array not updated.\n",
      "2024-06-27 10:21:23,106 - stpipe - INFO - Automatically creating IVM files for chip 1\n",
      "2024-06-27 10:21:23,109 - stpipe - WARNING - Cannot find flat field file 'jwst_niriss_flat_0268.fits'\n",
      "2024-06-27 10:21:23,109 - stpipe - WARNING - Treating flatfield as a constant value of '1'.\n",
      "2024-06-27 10:21:23,159 - stpipe - INFO - Using WCSLIB-based coordinate transformation...\n",
      "2024-06-27 10:21:23,160 - stpipe - INFO - stepsize = 10\n",
      "2024-06-27 10:21:23,174 - stpipe - INFO - -Drizzling using kernel = square\n",
      "2024-06-27 10:21:23,175 - stpipe - INFO - \n",
      "2024-06-27 10:21:24,752 - stpipe - INFO - -Drizzle input: jw01324001001_16101_00002_nis_rate.fits[sci,1]\n",
      "2024-06-27 10:21:24,780 - stpipe - INFO - Applying sky value of 0.185170 to jw01324001001_16101_00002_nis_rate.fits[sci,1]\n",
      "2024-06-27 10:21:24,798 - stpipe - WARNING - No CR mask file found! Input DQ array not updated.\n",
      "2024-06-27 10:21:24,799 - stpipe - INFO - Automatically creating IVM files for chip 1\n",
      "2024-06-27 10:21:24,801 - stpipe - WARNING - Cannot find flat field file 'jwst_niriss_flat_0268.fits'\n",
      "2024-06-27 10:21:24,802 - stpipe - WARNING - Treating flatfield as a constant value of '1'.\n",
      "2024-06-27 10:21:24,852 - stpipe - INFO - Using WCSLIB-based coordinate transformation...\n",
      "2024-06-27 10:21:24,853 - stpipe - INFO - stepsize = 10\n",
      "2024-06-27 10:21:24,867 - stpipe - INFO - -Drizzling using kernel = square\n",
      "2024-06-27 10:21:24,867 - stpipe - INFO - \n",
      "2024-06-27 10:21:26,432 - stpipe - INFO - -Drizzle input: jw01324001001_16101_00003_nis_rate.fits[sci,1]\n",
      "2024-06-27 10:21:26,460 - stpipe - INFO - Applying sky value of 0.183482 to jw01324001001_16101_00003_nis_rate.fits[sci,1]\n",
      "2024-06-27 10:21:26,478 - stpipe - WARNING - No CR mask file found! Input DQ array not updated.\n",
      "2024-06-27 10:21:26,479 - stpipe - INFO - Automatically creating IVM files for chip 1\n",
      "2024-06-27 10:21:26,481 - stpipe - WARNING - Cannot find flat field file 'jwst_niriss_flat_0268.fits'\n",
      "2024-06-27 10:21:26,482 - stpipe - WARNING - Treating flatfield as a constant value of '1'.\n",
      "2024-06-27 10:21:26,530 - stpipe - INFO - Using WCSLIB-based coordinate transformation...\n",
      "2024-06-27 10:21:26,531 - stpipe - INFO - stepsize = 10\n",
      "2024-06-27 10:21:26,545 - stpipe - INFO - -Drizzling using kernel = square\n",
      "2024-06-27 10:21:26,545 - stpipe - INFO - \n",
      "2024-06-27 10:21:28,127 - stpipe - INFO - -Drizzle input: jw01324001001_16101_00004_nis_rate.fits[sci,1]\n",
      "2024-06-27 10:21:28,155 - stpipe - INFO - Applying sky value of 0.185461 to jw01324001001_16101_00004_nis_rate.fits[sci,1]\n",
      "2024-06-27 10:21:28,172 - stpipe - WARNING - No CR mask file found! Input DQ array not updated.\n",
      "2024-06-27 10:21:28,173 - stpipe - INFO - Automatically creating IVM files for chip 1\n",
      "2024-06-27 10:21:28,175 - stpipe - WARNING - Cannot find flat field file 'jwst_niriss_flat_0268.fits'\n",
      "2024-06-27 10:21:28,176 - stpipe - WARNING - Treating flatfield as a constant value of '1'.\n",
      "2024-06-27 10:21:28,224 - stpipe - INFO - Using WCSLIB-based coordinate transformation...\n",
      "2024-06-27 10:21:28,225 - stpipe - INFO - stepsize = 10\n",
      "2024-06-27 10:21:28,238 - stpipe - INFO - -Drizzling using kernel = square\n",
      "2024-06-27 10:21:28,239 - stpipe - INFO - \n",
      "2024-06-27 10:21:29,910 - stpipe - INFO - -Drizzle input: jw01324001001_18101_00001_nis_rate.fits[sci,1]\n",
      "2024-06-27 10:21:29,940 - stpipe - INFO - Applying sky value of 0.185265 to jw01324001001_18101_00001_nis_rate.fits[sci,1]\n",
      "2024-06-27 10:21:29,958 - stpipe - WARNING - No CR mask file found! Input DQ array not updated.\n",
      "2024-06-27 10:21:29,959 - stpipe - INFO - Automatically creating IVM files for chip 1\n",
      "2024-06-27 10:21:29,961 - stpipe - WARNING - Cannot find flat field file 'jwst_niriss_flat_0268.fits'\n",
      "2024-06-27 10:21:29,962 - stpipe - WARNING - Treating flatfield as a constant value of '1'.\n",
      "2024-06-27 10:21:30,011 - stpipe - INFO - Using WCSLIB-based coordinate transformation...\n",
      "2024-06-27 10:21:30,012 - stpipe - INFO - stepsize = 10\n",
      "2024-06-27 10:21:30,026 - stpipe - INFO - -Drizzling using kernel = square\n",
      "2024-06-27 10:21:30,027 - stpipe - INFO - \n",
      "2024-06-27 10:21:31,755 - stpipe - INFO - -Drizzle input: jw01324001001_18101_00002_nis_rate.fits[sci,1]\n",
      "2024-06-27 10:21:31,785 - stpipe - INFO - Applying sky value of 0.185627 to jw01324001001_18101_00002_nis_rate.fits[sci,1]\n",
      "2024-06-27 10:21:31,812 - stpipe - WARNING - No CR mask file found! Input DQ array not updated.\n",
      "2024-06-27 10:21:31,813 - stpipe - INFO - Automatically creating IVM files for chip 1\n",
      "2024-06-27 10:21:31,817 - stpipe - WARNING - Cannot find flat field file 'jwst_niriss_flat_0268.fits'\n",
      "2024-06-27 10:21:31,818 - stpipe - WARNING - Treating flatfield as a constant value of '1'.\n",
      "2024-06-27 10:21:31,874 - stpipe - INFO - Using WCSLIB-based coordinate transformation...\n",
      "2024-06-27 10:21:31,875 - stpipe - INFO - stepsize = 10\n",
      "2024-06-27 10:21:31,889 - stpipe - INFO - -Drizzling using kernel = square\n",
      "2024-06-27 10:21:31,890 - stpipe - INFO - \n",
      "2024-06-27 10:21:33,524 - stpipe - INFO - -Drizzle input: jw01324001001_18101_00003_nis_rate.fits[sci,1]\n",
      "2024-06-27 10:21:33,553 - stpipe - INFO - Applying sky value of 0.185295 to jw01324001001_18101_00003_nis_rate.fits[sci,1]\n",
      "2024-06-27 10:21:33,574 - stpipe - WARNING - No CR mask file found! Input DQ array not updated.\n",
      "2024-06-27 10:21:33,575 - stpipe - INFO - Automatically creating IVM files for chip 1\n",
      "2024-06-27 10:21:33,577 - stpipe - WARNING - Cannot find flat field file 'jwst_niriss_flat_0268.fits'\n",
      "2024-06-27 10:21:33,578 - stpipe - WARNING - Treating flatfield as a constant value of '1'.\n",
      "2024-06-27 10:21:33,628 - stpipe - INFO - Using WCSLIB-based coordinate transformation...\n",
      "2024-06-27 10:21:33,629 - stpipe - INFO - stepsize = 10\n",
      "2024-06-27 10:21:33,644 - stpipe - INFO - -Drizzling using kernel = square\n",
      "2024-06-27 10:21:33,644 - stpipe - INFO - \n",
      "2024-06-27 10:21:35,900 - stpipe - INFO - -Generating simple FITS output: glass-2022data-f200w_drz_sci.fits\n"
     ]
    },
    {
     "name": "stdout",
     "output_type": "stream",
     "text": [
      "-Generating simple FITS output: glass-2022data-f200w_drz_sci.fits\n"
     ]
    },
    {
     "name": "stderr",
     "output_type": "stream",
     "text": [
      "2024-06-27 10:21:36,032 - stpipe - INFO - Writing out image to disk: glass-2022data-f200w_drz_sci.fits\n"
     ]
    },
    {
     "name": "stdout",
     "output_type": "stream",
     "text": [
      "Writing out image to disk: glass-2022data-f200w_drz_sci.fits\n"
     ]
    },
    {
     "name": "stderr",
     "output_type": "stream",
     "text": [
      "2024-06-27 10:21:36,322 - stpipe - INFO - Writing out image to disk: glass-2022data-f200w_drz_wht.fits\n"
     ]
    },
    {
     "name": "stdout",
     "output_type": "stream",
     "text": [
      "Writing out image to disk: glass-2022data-f200w_drz_wht.fits\n"
     ]
    },
    {
     "name": "stderr",
     "output_type": "stream",
     "text": [
      "2024-06-27 10:21:36,806 - stpipe - INFO - ==== Processing Step Final Drizzle finished at 10:21:36.805 (27/06/2024)\n"
     ]
    },
    {
     "name": "stdout",
     "output_type": "stream",
     "text": [
      "==== Processing Step Final Drizzle finished at 10:21:36.805 (27/06/2024)\n"
     ]
    },
    {
     "name": "stderr",
     "output_type": "stream",
     "text": [
      "2024-06-27 10:21:36,807 - stpipe - INFO - \n"
     ]
    },
    {
     "name": "stdout",
     "output_type": "stream",
     "text": [
      "\n"
     ]
    },
    {
     "name": "stderr",
     "output_type": "stream",
     "text": [
      "2024-06-27 10:21:36,808 - stpipe - INFO - AstroDrizzle Version 3.7.0.1 is finished processing at 10:21:36.808 (27/06/2024).\n"
     ]
    },
    {
     "name": "stdout",
     "output_type": "stream",
     "text": [
      "AstroDrizzle Version 3.7.0.1 is finished processing at 10:21:36.808 (27/06/2024).\n"
     ]
    },
    {
     "name": "stderr",
     "output_type": "stream",
     "text": [
      "2024-06-27 10:21:36,809 - stpipe - INFO - \n"
     ]
    },
    {
     "name": "stdout",
     "output_type": "stream",
     "text": [
      "\n"
     ]
    },
    {
     "name": "stderr",
     "output_type": "stream",
     "text": [
      "2024-06-27 10:21:36,810 - stpipe - INFO - \n"
     ]
    },
    {
     "name": "stdout",
     "output_type": "stream",
     "text": [
      "\n"
     ]
    },
    {
     "name": "stderr",
     "output_type": "stream",
     "text": [
      "2024-06-27 10:21:36,812 - stpipe - INFO - \n"
     ]
    },
    {
     "name": "stdout",
     "output_type": "stream",
     "text": [
      "\n"
     ]
    },
    {
     "name": "stderr",
     "output_type": "stream",
     "text": [
      "2024-06-27 10:21:36,812 - stpipe - INFO -    --------------------          --------------------\n"
     ]
    },
    {
     "name": "stdout",
     "output_type": "stream",
     "text": [
      "   --------------------          --------------------\n"
     ]
    },
    {
     "name": "stderr",
     "output_type": "stream",
     "text": [
      "2024-06-27 10:21:36,814 - stpipe - INFO -                    Step          Elapsed time\n"
     ]
    },
    {
     "name": "stdout",
     "output_type": "stream",
     "text": [
      "                   Step          Elapsed time\n"
     ]
    },
    {
     "name": "stderr",
     "output_type": "stream",
     "text": [
      "2024-06-27 10:21:36,815 - stpipe - INFO -    --------------------          --------------------\n"
     ]
    },
    {
     "name": "stdout",
     "output_type": "stream",
     "text": [
      "   --------------------          --------------------\n"
     ]
    },
    {
     "name": "stderr",
     "output_type": "stream",
     "text": [
      "2024-06-27 10:21:36,815 - stpipe - INFO - \n"
     ]
    },
    {
     "name": "stdout",
     "output_type": "stream",
     "text": [
      "\n"
     ]
    },
    {
     "name": "stderr",
     "output_type": "stream",
     "text": [
      "2024-06-27 10:21:36,816 - stpipe - INFO -          Initialization          1.7055 sec.\n"
     ]
    },
    {
     "name": "stdout",
     "output_type": "stream",
     "text": [
      "         Initialization          1.7055 sec.\n"
     ]
    },
    {
     "name": "stderr",
     "output_type": "stream",
     "text": [
      "2024-06-27 10:21:36,817 - stpipe - INFO -             Static Mask          0.0026 sec.\n"
     ]
    },
    {
     "name": "stdout",
     "output_type": "stream",
     "text": [
      "            Static Mask          0.0026 sec.\n"
     ]
    },
    {
     "name": "stderr",
     "output_type": "stream",
     "text": [
      "2024-06-27 10:21:36,818 - stpipe - INFO -            Subtract Sky          0.4199 sec.\n"
     ]
    },
    {
     "name": "stdout",
     "output_type": "stream",
     "text": [
      "           Subtract Sky          0.4199 sec.\n"
     ]
    },
    {
     "name": "stderr",
     "output_type": "stream",
     "text": [
      "2024-06-27 10:21:36,819 - stpipe - INFO -        Separate Drizzle          0.0027 sec.\n"
     ]
    },
    {
     "name": "stdout",
     "output_type": "stream",
     "text": [
      "       Separate Drizzle          0.0027 sec.\n"
     ]
    },
    {
     "name": "stderr",
     "output_type": "stream",
     "text": [
      "2024-06-27 10:21:36,820 - stpipe - INFO -           Create Median          0.0000 sec.\n"
     ]
    },
    {
     "name": "stdout",
     "output_type": "stream",
     "text": [
      "          Create Median          0.0000 sec.\n"
     ]
    },
    {
     "name": "stderr",
     "output_type": "stream",
     "text": [
      "2024-06-27 10:21:36,821 - stpipe - INFO -                    Blot          0.0026 sec.\n"
     ]
    },
    {
     "name": "stdout",
     "output_type": "stream",
     "text": [
      "                   Blot          0.0026 sec.\n"
     ]
    },
    {
     "name": "stderr",
     "output_type": "stream",
     "text": [
      "2024-06-27 10:21:36,822 - stpipe - INFO -                 Driz_CR          0.0000 sec.\n"
     ]
    },
    {
     "name": "stdout",
     "output_type": "stream",
     "text": [
      "                Driz_CR          0.0000 sec.\n"
     ]
    },
    {
     "name": "stderr",
     "output_type": "stream",
     "text": [
      "2024-06-27 10:21:36,823 - stpipe - INFO -           Final Drizzle          15.5167 sec.\n"
     ]
    },
    {
     "name": "stdout",
     "output_type": "stream",
     "text": [
      "          Final Drizzle          15.5167 sec.\n"
     ]
    },
    {
     "name": "stderr",
     "output_type": "stream",
     "text": [
      "2024-06-27 10:21:36,824 - stpipe - INFO -    ====================          ====================\n"
     ]
    },
    {
     "name": "stdout",
     "output_type": "stream",
     "text": [
      "   ====================          ====================\n"
     ]
    },
    {
     "name": "stderr",
     "output_type": "stream",
     "text": [
      "2024-06-27 10:21:36,825 - stpipe - INFO -                   Total          17.6499 sec.\n"
     ]
    },
    {
     "name": "stdout",
     "output_type": "stream",
     "text": [
      "                  Total          17.6499 sec.\n"
     ]
    },
    {
     "name": "stderr",
     "output_type": "stream",
     "text": [
      "2024-06-27 10:21:36,827 - stpipe - INFO - \n"
     ]
    },
    {
     "name": "stdout",
     "output_type": "stream",
     "text": [
      "\n"
     ]
    },
    {
     "name": "stderr",
     "output_type": "stream",
     "text": [
      "2024-06-27 10:21:36,828 - stpipe - INFO - Removing intermediate files for jw01324001001_14101_00001_nis_rate.fits\n",
      "2024-06-27 10:21:36,833 - stpipe - INFO - Removing intermediate files for jw01324001001_16101_00001_nis_rate.fits\n",
      "2024-06-27 10:21:36,839 - stpipe - INFO - Removing intermediate files for jw01324001001_16101_00002_nis_rate.fits\n",
      "2024-06-27 10:21:36,844 - stpipe - INFO - Removing intermediate files for jw01324001001_16101_00003_nis_rate.fits\n",
      "2024-06-27 10:21:36,849 - stpipe - INFO - Removing intermediate files for jw01324001001_16101_00004_nis_rate.fits\n",
      "2024-06-27 10:21:36,854 - stpipe - INFO - Removing intermediate files for jw01324001001_18101_00001_nis_rate.fits\n",
      "2024-06-27 10:21:36,860 - stpipe - INFO - Removing intermediate files for jw01324001001_18101_00002_nis_rate.fits\n",
      "2024-06-27 10:21:36,865 - stpipe - INFO - Removing intermediate files for jw01324001001_18101_00003_nis_rate.fits\n",
      "2024-06-27 10:21:36,875 - stpipe - INFO - Trailer file written to:  astrodrizzle.log\n"
     ]
    },
    {
     "name": "stdout",
     "output_type": "stream",
     "text": [
      "Trailer file written to:  astrodrizzle.log\n",
      "# (2024-06-27 03:21:37.296)\n",
      "\n",
      "jwst_utils.set_jwst_to_hst_keywords(**{'input': 'jw01324001001_14101_00001_nis_rate.fits', 'reset': True, 'verbose': True, 'orig_keys': ['TELESCOP', 'INSTRUME', 'DETECTOR', 'FILTER', 'PUPIL', 'EXP_TYPE', 'GRATING']})\n",
      "\n",
      "Reset: TELESCOP > JWST (OTELESCO)\n",
      "Reset: INSTRUME > NIRISS (OINSTRUM)\n",
      "Reset: DETECTOR > NIS (ODETECTO)\n",
      "Reset: FILTER > CLEAR (OFILTER)\n",
      "Reset: PUPIL > F200W (OPUPIL)\n",
      "Reset: EXP_TYPE > NIS_IMAGE (OEXP_TYP)\n",
      "# (2024-06-27 03:21:37.473)\n",
      "\n",
      "jwst_utils.set_jwst_to_hst_keywords(**{'input': 'jw01324001001_16101_00001_nis_rate.fits', 'reset': True, 'verbose': True, 'orig_keys': ['TELESCOP', 'INSTRUME', 'DETECTOR', 'FILTER', 'PUPIL', 'EXP_TYPE', 'GRATING']})\n",
      "\n",
      "Reset: TELESCOP > JWST (OTELESCO)\n",
      "Reset: INSTRUME > NIRISS (OINSTRUM)\n",
      "Reset: DETECTOR > NIS (ODETECTO)\n",
      "Reset: FILTER > CLEAR (OFILTER)\n",
      "Reset: PUPIL > F200W (OPUPIL)\n",
      "Reset: EXP_TYPE > NIS_IMAGE (OEXP_TYP)\n",
      "# (2024-06-27 03:21:37.701)\n",
      "\n",
      "jwst_utils.set_jwst_to_hst_keywords(**{'input': 'jw01324001001_16101_00002_nis_rate.fits', 'reset': True, 'verbose': True, 'orig_keys': ['TELESCOP', 'INSTRUME', 'DETECTOR', 'FILTER', 'PUPIL', 'EXP_TYPE', 'GRATING']})\n",
      "\n",
      "Reset: TELESCOP > JWST (OTELESCO)\n",
      "Reset: INSTRUME > NIRISS (OINSTRUM)\n",
      "Reset: DETECTOR > NIS (ODETECTO)\n",
      "Reset: FILTER > CLEAR (OFILTER)\n",
      "Reset: PUPIL > F200W (OPUPIL)\n",
      "Reset: EXP_TYPE > NIS_IMAGE (OEXP_TYP)\n",
      "# (2024-06-27 03:21:37.876)\n",
      "\n",
      "jwst_utils.set_jwst_to_hst_keywords(**{'input': 'jw01324001001_16101_00003_nis_rate.fits', 'reset': True, 'verbose': True, 'orig_keys': ['TELESCOP', 'INSTRUME', 'DETECTOR', 'FILTER', 'PUPIL', 'EXP_TYPE', 'GRATING']})\n",
      "\n",
      "Reset: TELESCOP > JWST (OTELESCO)\n",
      "Reset: INSTRUME > NIRISS (OINSTRUM)\n",
      "Reset: DETECTOR > NIS (ODETECTO)\n",
      "Reset: FILTER > CLEAR (OFILTER)\n",
      "Reset: PUPIL > F200W (OPUPIL)\n",
      "Reset: EXP_TYPE > NIS_IMAGE (OEXP_TYP)\n",
      "# (2024-06-27 03:21:38.051)\n",
      "\n",
      "jwst_utils.set_jwst_to_hst_keywords(**{'input': 'jw01324001001_16101_00004_nis_rate.fits', 'reset': True, 'verbose': True, 'orig_keys': ['TELESCOP', 'INSTRUME', 'DETECTOR', 'FILTER', 'PUPIL', 'EXP_TYPE', 'GRATING']})\n",
      "\n",
      "Reset: TELESCOP > JWST (OTELESCO)\n",
      "Reset: INSTRUME > NIRISS (OINSTRUM)\n",
      "Reset: DETECTOR > NIS (ODETECTO)\n",
      "Reset: FILTER > CLEAR (OFILTER)\n",
      "Reset: PUPIL > F200W (OPUPIL)\n",
      "Reset: EXP_TYPE > NIS_IMAGE (OEXP_TYP)\n",
      "# (2024-06-27 03:21:38.226)\n",
      "\n",
      "jwst_utils.set_jwst_to_hst_keywords(**{'input': 'jw01324001001_18101_00001_nis_rate.fits', 'reset': True, 'verbose': True, 'orig_keys': ['TELESCOP', 'INSTRUME', 'DETECTOR', 'FILTER', 'PUPIL', 'EXP_TYPE', 'GRATING']})\n",
      "\n",
      "Reset: TELESCOP > JWST (OTELESCO)\n",
      "Reset: INSTRUME > NIRISS (OINSTRUM)\n",
      "Reset: DETECTOR > NIS (ODETECTO)\n",
      "Reset: FILTER > CLEAR (OFILTER)\n",
      "Reset: PUPIL > F200W (OPUPIL)\n",
      "Reset: EXP_TYPE > NIS_IMAGE (OEXP_TYP)\n",
      "# (2024-06-27 03:21:38.403)\n",
      "\n",
      "jwst_utils.set_jwst_to_hst_keywords(**{'input': 'jw01324001001_18101_00002_nis_rate.fits', 'reset': True, 'verbose': True, 'orig_keys': ['TELESCOP', 'INSTRUME', 'DETECTOR', 'FILTER', 'PUPIL', 'EXP_TYPE', 'GRATING']})\n",
      "\n",
      "Reset: TELESCOP > JWST (OTELESCO)\n",
      "Reset: INSTRUME > NIRISS (OINSTRUM)\n",
      "Reset: DETECTOR > NIS (ODETECTO)\n",
      "Reset: FILTER > CLEAR (OFILTER)\n",
      "Reset: PUPIL > F200W (OPUPIL)\n",
      "Reset: EXP_TYPE > NIS_IMAGE (OEXP_TYP)\n",
      "# (2024-06-27 03:21:38.579)\n",
      "\n",
      "jwst_utils.set_jwst_to_hst_keywords(**{'input': 'jw01324001001_18101_00003_nis_rate.fits', 'reset': True, 'verbose': True, 'orig_keys': ['TELESCOP', 'INSTRUME', 'DETECTOR', 'FILTER', 'PUPIL', 'EXP_TYPE', 'GRATING']})\n",
      "\n",
      "Reset: TELESCOP > JWST (OTELESCO)\n",
      "Reset: INSTRUME > NIRISS (OINSTRUM)\n",
      "Reset: DETECTOR > NIS (ODETECTO)\n",
      "Reset: FILTER > CLEAR (OFILTER)\n",
      "Reset: PUPIL > F200W (OPUPIL)\n",
      "Reset: EXP_TYPE > NIS_IMAGE (OEXP_TYP)\n",
      "# (2024-06-27 03:21:39.332)\n",
      "{'files': ['jw01324001001_02101_00001_nis_rate.fits', 'jw01324001001_04101_00001_nis_rate.fits', 'jw01324001001_04101_00002_nis_rate.fits', 'jw01324001001_04101_00003_nis_rate.fits', 'jw01324001001_04101_00004_nis_rate.fits', 'jw01324001001_06101_00001_nis_rate.fits', 'jw01324001001_06101_00002_nis_rate.fits', 'jw01324001001_06101_00003_nis_rate.fits'], 'footprint': <POLYGON ((3.581 -30.419, 3.581 -30.419, 3.581 -30.419, 3.581 -30.419, 3.581...>, 'footprints': [<POLYGON ((3.581 -30.419, 3.567 -30.384, 3.608 -30.372, 3.622 -30.407, 3.581...>, <POLYGON ((3.581 -30.419, 3.567 -30.384, 3.608 -30.372, 3.622 -30.407, 3.581...>, <POLYGON ((3.581 -30.419, 3.567 -30.384, 3.608 -30.372, 3.622 -30.407, 3.581...>, <POLYGON ((3.581 -30.419, 3.567 -30.384, 3.608 -30.372, 3.622 -30.407, 3.581...>, <POLYGON ((3.581 -30.419, 3.567 -30.384, 3.608 -30.372, 3.622 -30.407, 3.581...>, <POLYGON ((3.581 -30.419, 3.567 -30.384, 3.608 -30.372, 3.622 -30.407, 3.581...>, <POLYGON ((3.581 -30.419, 3.567 -30.384, 3.608 -30.372, 3.622 -30.407, 3.581...>, <POLYGON ((3.581 -30.419, 3.567 -30.384, 3.608 -30.372, 3.622 -30.407, 3.581...>], 'product': 'abell2744-01324-001-251.0-nis-f115w-clear'}\n",
      "# (2024-06-27 03:21:39.332)\n",
      "filt.upper not in filters\n",
      "# (2024-06-27 03:21:39.333)\n",
      "{'files': ['jw01324001001_05101_00001_nis_rate.fits', 'jw01324001001_05101_00002_nis_rate.fits', 'jw01324001001_05101_00003_nis_rate.fits', 'jw01324001001_05101_00004_nis_rate.fits'], 'footprint': <POLYGON ((3.581 -30.419, 3.581 -30.419, 3.581 -30.419, 3.581 -30.419, 3.581...>, 'footprints': [<POLYGON ((3.581 -30.419, 3.567 -30.384, 3.608 -30.372, 3.622 -30.407, 3.581...>, <POLYGON ((3.581 -30.419, 3.567 -30.384, 3.608 -30.372, 3.622 -30.407, 3.581...>, <POLYGON ((3.581 -30.419, 3.567 -30.384, 3.608 -30.372, 3.622 -30.407, 3.581...>, <POLYGON ((3.581 -30.419, 3.567 -30.384, 3.608 -30.372, 3.622 -30.407, 3.581...>], 'product': 'abell2744-01324-001-251.0-nis-f115w-gr150c'}\n",
      "# (2024-06-27 03:21:39.333)\n",
      "filt.upper not in filters\n",
      "# (2024-06-27 03:21:39.333)\n",
      "{'files': ['jw01324001001_03101_00001_nis_rate.fits', 'jw01324001001_03101_00002_nis_rate.fits', 'jw01324001001_03101_00003_nis_rate.fits', 'jw01324001001_03101_00004_nis_rate.fits'], 'footprint': <POLYGON ((3.581 -30.419, 3.581 -30.419, 3.581 -30.419, 3.581 -30.419, 3.581...>, 'footprints': [<POLYGON ((3.581 -30.419, 3.567 -30.384, 3.608 -30.372, 3.622 -30.407, 3.581...>, <POLYGON ((3.581 -30.419, 3.567 -30.384, 3.608 -30.372, 3.622 -30.407, 3.581...>, <POLYGON ((3.581 -30.419, 3.567 -30.384, 3.608 -30.372, 3.622 -30.407, 3.581...>, <POLYGON ((3.581 -30.419, 3.567 -30.384, 3.608 -30.372, 3.622 -30.407, 3.581...>], 'product': 'abell2744-01324-001-251.0-nis-f115w-gr150r'}\n",
      "# (2024-06-27 03:21:39.334)\n",
      "filt.upper not in filters\n",
      "# (2024-06-27 03:21:39.334)\n",
      "{'files': ['jw01324001001_08101_00001_nis_rate.fits', 'jw01324001001_10101_00001_nis_rate.fits', 'jw01324001001_10101_00002_nis_rate.fits', 'jw01324001001_10101_00003_nis_rate.fits', 'jw01324001001_10101_00004_nis_rate.fits', 'jw01324001001_12101_00001_nis_rate.fits', 'jw01324001001_12101_00002_nis_rate.fits', 'jw01324001001_12101_00003_nis_rate.fits'], 'footprint': <POLYGON ((3.582 -30.419, 3.582 -30.419, 3.582 -30.419, 3.582 -30.419, 3.582...>, 'footprints': [<POLYGON ((3.582 -30.419, 3.568 -30.384, 3.609 -30.372, 3.623 -30.407, 3.582...>, <POLYGON ((3.582 -30.419, 3.568 -30.384, 3.609 -30.372, 3.623 -30.407, 3.582...>, <POLYGON ((3.582 -30.419, 3.568 -30.383, 3.609 -30.372, 3.623 -30.407, 3.582...>, <POLYGON ((3.582 -30.419, 3.568 -30.383, 3.61 -30.372, 3.623 -30.407, 3.582 ...>, <POLYGON ((3.58 -30.418, 3.566 -30.383, 3.608 -30.371, 3.621 -30.406, 3.58 -...>, <POLYGON ((3.58 -30.418, 3.567 -30.383, 3.608 -30.371, 3.622 -30.406, 3.58 -...>, <POLYGON ((3.58 -30.418, 3.567 -30.383, 3.608 -30.371, 3.621 -30.406, 3.58 -...>, <POLYGON ((3.58 -30.418, 3.567 -30.383, 3.608 -30.371, 3.622 -30.406, 3.58 -...>], 'product': 'abell2744-01324-001-251.0-nis-f150w-clear'}\n",
      "# (2024-06-27 03:21:39.334)\n",
      "filt.upper not in filters\n",
      "# (2024-06-27 03:21:39.334)\n",
      "{'files': ['jw01324001001_11101_00001_nis_rate.fits', 'jw01324001001_11101_00002_nis_rate.fits', 'jw01324001001_11101_00003_nis_rate.fits', 'jw01324001001_11101_00004_nis_rate.fits'], 'footprint': <POLYGON ((3.58 -30.418, 3.58 -30.418, 3.58 -30.418, 3.58 -30.418, 3.58 -30....>, 'footprints': [<POLYGON ((3.58 -30.418, 3.566 -30.383, 3.608 -30.371, 3.621 -30.406, 3.58 -...>, <POLYGON ((3.58 -30.418, 3.567 -30.383, 3.608 -30.371, 3.621 -30.406, 3.58 -...>, <POLYGON ((3.58 -30.418, 3.567 -30.383, 3.608 -30.371, 3.622 -30.406, 3.58 -...>, <POLYGON ((3.58 -30.418, 3.567 -30.383, 3.608 -30.371, 3.622 -30.406, 3.58 -...>], 'product': 'abell2744-01324-001-251.0-nis-f150w-gr150c'}\n",
      "# (2024-06-27 03:21:39.335)\n",
      "filt.upper not in filters\n",
      "# (2024-06-27 03:21:39.335)\n",
      "{'files': ['jw01324001001_09101_00001_nis_rate.fits', 'jw01324001001_09101_00002_nis_rate.fits', 'jw01324001001_09101_00003_nis_rate.fits', 'jw01324001001_09101_00004_nis_rate.fits'], 'footprint': <POLYGON ((3.582 -30.419, 3.582 -30.419, 3.582 -30.419, 3.582 -30.419, 3.582...>, 'footprints': [<POLYGON ((3.582 -30.419, 3.568 -30.384, 3.609 -30.372, 3.623 -30.407, 3.582...>, <POLYGON ((3.582 -30.419, 3.568 -30.383, 3.609 -30.372, 3.623 -30.407, 3.582...>, <POLYGON ((3.582 -30.419, 3.568 -30.383, 3.61 -30.372, 3.623 -30.407, 3.582 ...>, <POLYGON ((3.582 -30.419, 3.568 -30.384, 3.609 -30.372, 3.623 -30.407, 3.582...>], 'product': 'abell2744-01324-001-251.0-nis-f150w-gr150r'}\n",
      "# (2024-06-27 03:21:39.335)\n",
      "filt.upper not in filters\n",
      "# (2024-06-27 03:21:39.335)\n",
      "{'files': ['jw01324001001_14101_00001_nis_rate.fits', 'jw01324001001_16101_00001_nis_rate.fits', 'jw01324001001_16101_00002_nis_rate.fits', 'jw01324001001_16101_00003_nis_rate.fits', 'jw01324001001_16101_00004_nis_rate.fits', 'jw01324001001_18101_00001_nis_rate.fits', 'jw01324001001_18101_00002_nis_rate.fits', 'jw01324001001_18101_00003_nis_rate.fits'], 'footprint': <POLYGON ((3.584 -30.419, 3.584 -30.419, 3.584 -30.419, 3.584 -30.419, 3.584...>, 'footprints': [<POLYGON ((3.584 -30.418, 3.57 -30.383, 3.611 -30.371, 3.625 -30.407, 3.584 ...>, <POLYGON ((3.584 -30.418, 3.57 -30.383, 3.611 -30.371, 3.625 -30.407, 3.584 ...>, <POLYGON ((3.584 -30.418, 3.57 -30.383, 3.611 -30.371, 3.625 -30.406, 3.584 ...>, <POLYGON ((3.584 -30.418, 3.57 -30.383, 3.611 -30.371, 3.625 -30.406, 3.584 ...>, <POLYGON ((3.58 -30.417, 3.566 -30.381, 3.607 -30.37, 3.621 -30.405, 3.58 -3...>, <POLYGON ((3.58 -30.417, 3.566 -30.381, 3.607 -30.37, 3.621 -30.405, 3.58 -3...>, <POLYGON ((3.58 -30.416, 3.566 -30.381, 3.607 -30.369, 3.621 -30.405, 3.58 -...>, <POLYGON ((3.58 -30.416, 3.566 -30.381, 3.607 -30.37, 3.621 -30.405, 3.58 -3...>], 'product': 'abell2744-01324-001-251.0-nis-f200w-clear'}\n",
      "# (2024-06-27 03:21:39.336)\n",
      "filt.upper not in filters\n",
      "# (2024-06-27 03:21:39.336)\n",
      "{'files': ['jw01324001001_17101_00001_nis_rate.fits', 'jw01324001001_17101_00002_nis_rate.fits', 'jw01324001001_17101_00003_nis_rate.fits', 'jw01324001001_17101_00004_nis_rate.fits'], 'footprint': <POLYGON ((3.58 -30.417, 3.58 -30.417, 3.58 -30.417, 3.58 -30.417, 3.58 -30....>, 'footprints': [<POLYGON ((3.58 -30.417, 3.566 -30.381, 3.607 -30.37, 3.621 -30.405, 3.58 -3...>, <POLYGON ((3.58 -30.416, 3.566 -30.381, 3.607 -30.369, 3.621 -30.405, 3.58 -...>, <POLYGON ((3.58 -30.416, 3.566 -30.381, 3.607 -30.37, 3.621 -30.405, 3.58 -3...>, <POLYGON ((3.58 -30.417, 3.566 -30.381, 3.607 -30.37, 3.621 -30.405, 3.58 -3...>], 'product': 'abell2744-01324-001-251.0-nis-f200w-gr150c'}\n",
      "# (2024-06-27 03:21:39.336)\n",
      "filt.upper not in filters\n",
      "# (2024-06-27 03:21:39.336)\n",
      "{'files': ['jw01324001001_15101_00001_nis_rate.fits', 'jw01324001001_15101_00002_nis_rate.fits', 'jw01324001001_15101_00003_nis_rate.fits', 'jw01324001001_15101_00004_nis_rate.fits'], 'footprint': <POLYGON ((3.584 -30.419, 3.584 -30.419, 3.584 -30.419, 3.584 -30.419, 3.584...>, 'footprints': [<POLYGON ((3.584 -30.418, 3.57 -30.383, 3.611 -30.371, 3.625 -30.407, 3.584 ...>, <POLYGON ((3.584 -30.418, 3.57 -30.383, 3.611 -30.371, 3.625 -30.406, 3.584 ...>, <POLYGON ((3.584 -30.418, 3.57 -30.383, 3.611 -30.371, 3.625 -30.406, 3.584 ...>, <POLYGON ((3.584 -30.418, 3.57 -30.383, 3.611 -30.371, 3.625 -30.407, 3.584 ...>], 'product': 'abell2744-01324-001-251.0-nis-f200w-gr150r'}\n",
      "# (2024-06-27 03:21:39.337)\n",
      "filt.upper not in filters\n",
      "No filters found (['F814W', 'F606W', 'F435W', 'F850LP', 'F702W', 'F555W', 'F438W', 'F475W', 'F625W', 'F775W', 'F225W', 'F275W', 'F336W', 'F390W', 'F350LP', 'F200LP', 'F410M', 'F450W', 'F600LP', 'F475X', 'F435W'])\n"
     ]
    }
   ],
   "source": [
    "os.chdir(os.path.join(HOME_PATH, field_root, 'Prep'))\n",
    "\n",
    "mosaic_args = kwargs['mosaic_args']\n",
    "\n",
    "mosaic_args['fill_mosaics'] = False\n",
    "\n",
    "# Set the mosaic pixel scale here\n",
    "mosaic_args['wcs_params']['pixel_scale'] = 0.03\n",
    "\n",
    "mosaic_args['half_optical_pixscale'] = True\n",
    "\n",
    "# mosaic_args['ir_filters'] = ['F115W','F150W','F200W','F277W','F356W','F444W']\n",
    "mosaic_args['ir_filters'] = ['F115W','F150W','F200W']\n",
    "\n",
    "mosaic_args['wcs_params']['pad_reference'] = 6 # small padding around edge, arcsec\n",
    "kwargs['mosaic_drizzle_args']['static'] = False\n",
    "\n",
    "auto_script.make_combined_mosaics(field_root, mosaic_args=mosaic_args,  mosaic_drizzle_args=kwargs['mosaic_drizzle_args'])\n"
   ]
  },
  {
   "cell_type": "markdown",
   "metadata": {},
   "source": [
    "# Multiwavelength catalog\n",
    "\n",
    "Simple matched-aperture photometric catalog across filters with no PSF-matching but a bunch of apertures.  \n",
    "\n",
    "Output units are `microJansky`\n",
    "\n",
    "Simple aperture correction with `{band}_total_1 = {band}_flux_aper_1 * flux_auto / flux_aper_1`.\n",
    "\n",
    "## Catalog detection image\n",
    "\n",
    "Make a \"detection\" image combining filters, named as `*-ir_drz_sci.fits`"
   ]
  },
  {
   "cell_type": "code",
   "execution_count": 4,
   "metadata": {
    "scrolled": true
   },
   "outputs": [
    {
     "name": "stdout",
     "output_type": "stream",
     "text": [
      "glass-2022data-f115w_drz_sci.fits f115w ir block_reduce=False scl=1.549371102716903 scl_wht=0.6816989068131473\n",
      "glass-2022data-f150w_drz_sci.fits f150w ir block_reduce=False scl=0.9180114878199025 scl_wht=1.1505894627294642\n",
      "glass-2022data-f200w_drz_sci.fits f200w ir block_reduce=False scl=0.5154822274948213 scl_wht=2.0489758828508946\n",
      "Write glass-2022data-ir_drz_sci.fits\n",
      "\n",
      " multiband photometric catalog includes filters:  ['f115w', 'f200w', 'f150w']\n",
      "\n",
      " multiband_catalog_args:  {'threshold': 1.0, 'detection_background': True, 'detection_filter': 'ir', 'detection_root': None, 'output_root': None, 'photometry_background': True, 'get_all_filters': True, 'run_detection': True, 'use_psf_filter': True, 'detection_params': {'minarea': 12, 'filter_kernel': array([[0.0049, 0.0213, 0.0513, 0.0687, 0.0513, 0.0213, 0.0049],\n",
      "       [0.0213, 0.0921, 0.2211, 0.296 , 0.2211, 0.0921, 0.0213],\n",
      "       [0.0513, 0.2211, 0.5307, 0.7105, 0.5307, 0.2211, 0.0513],\n",
      "       [0.0687, 0.296 , 0.7105, 0.9511, 0.7105, 0.296 , 0.0687],\n",
      "       [0.0513, 0.2211, 0.5307, 0.7105, 0.5307, 0.2211, 0.0513],\n",
      "       [0.0213, 0.0921, 0.2211, 0.296 , 0.2211, 0.0921, 0.0213],\n",
      "       [0.0049, 0.0213, 0.0513, 0.0687, 0.0513, 0.0213, 0.0049]]), 'filter_type': 'conv', 'clean': True, 'clean_param': 1, 'deblend_nthresh': 32, 'deblend_cont': 0.001}, 'phot_apertures': [<Quantity 0.36 arcsec>, <Quantity 0.500001 arcsec>, <Quantity 0.7000002 arcsec>, <Quantity 1.0000002 arcsec>, <Quantity 1.2 arcsec>, <Quantity 1.5 arcsec>, <Quantity 3. arcsec>], 'bkg_mask': None, 'bkg_params': {'bw': 64, 'bh': 64, 'fw': 3, 'fh': 3, 'pixel_scale': 0.06}, 'use_bkg_err': False, 'aper_segmask': True, 'rescale_weight': True}\n"
     ]
    }
   ],
   "source": [
    "os.chdir(os.path.join(HOME_PATH, field_root, 'Prep'))\n",
    "\n",
    "auto_script.make_filter_combinations(field_root, weight_fnu=True, min_count=1,\n",
    "        filter_combinations={'ir': ['F115W','F150W','F200W']}, force_photfnu=None)\n",
    "\n",
    "multiband_catalog_args = kwargs['multiband_catalog_args']\n",
    "\n",
    "filters = [file.split('_')[-3].split('-')[-1] for file in glob.glob('{0}-f*dr?_sci.fits*'.format(field_root))]\n",
    "print('\\n multiband photometric catalog includes filters: ', filters)\n",
    "\n",
    "multiband_catalog_args['get_all_filters'] = True\n",
    "multiband_catalog_args['detection_filter'] = 'ir'\n",
    "multiband_catalog_args['threshold'] = 1.0\n",
    "multiband_catalog_args['rescale_weight'] = True\n",
    "multiband_catalog_args['detection_params']['minarea'] = 12\n",
    "\n",
    "print('\\n multiband_catalog_args: ', multiband_catalog_args)\n",
    "\n",
    "utils.set_warnings()"
   ]
  },
  {
   "cell_type": "markdown",
   "metadata": {},
   "source": [
    "## Source detection and aperture photometry\n",
    "\n",
    "Matched (circular) apertures across bands"
   ]
  },
  {
   "cell_type": "code",
   "execution_count": 5,
   "metadata": {
    "scrolled": true
   },
   "outputs": [
    {
     "name": "stdout",
     "output_type": "stream",
     "text": [
      "# (2024-06-27 03:27:32.308)\n",
      "\n",
      "auto_script.multiband_catalog(**{'field_root': 'glass-2022data', 'threshold': 1.0, 'detection_background': True, 'photometry_background': True, 'get_all_filters': True, 'filters': None, 'det_err_scale': -inf, 'phot_err_scale': -inf, 'rescale_weight': True, 'run_detection': True, 'detection_filter': 'ir', 'detection_root': None, 'output_root': None, 'use_psf_filter': True, 'detection_params': {'minarea': 12, 'filter_kernel': array([[0.0049, 0.0213, 0.0513, 0.0687, 0.0513, 0.0213, 0.0049],\n",
      "       [0.0213, 0.0921, 0.2211, 0.296 , 0.2211, 0.0921, 0.0213],\n",
      "       [0.0513, 0.2211, 0.5307, 0.7105, 0.5307, 0.2211, 0.0513],\n",
      "       [0.0687, 0.296 , 0.7105, 0.9511, 0.7105, 0.296 , 0.0687],\n",
      "       [0.0513, 0.2211, 0.5307, 0.7105, 0.5307, 0.2211, 0.0513],\n",
      "       [0.0213, 0.0921, 0.2211, 0.296 , 0.2211, 0.0921, 0.0213],\n",
      "       [0.0049, 0.0213, 0.0513, 0.0687, 0.0513, 0.0213, 0.0049]]), 'filter_type': 'conv', 'clean': True, 'clean_param': 1, 'deblend_nthresh': 32, 'deblend_cont': 0.001}, 'phot_apertures': [<Quantity 0.36 arcsec>, <Quantity 0.500001 arcsec>, <Quantity 0.7000002 arcsec>, <Quantity 1.0000002 arcsec>, <Quantity 1.2 arcsec>, <Quantity 1.5 arcsec>, <Quantity 3. arcsec>], 'master_catalog': None, 'bkg_mask': None, 'bkg_params': {'bw': 64, 'bh': 64, 'fw': 3, 'fh': 3, 'pixel_scale': 0.06}, 'use_bkg_err': False, 'aper_segmask': True, 'sci_image': None, 'clean_bkg': True})\n",
      "\n",
      "make_SEP_catalog: sep version = 1.2.1\n",
      "# (2024-06-27 03:27:32.453)\n",
      "sep: Image AB zeropoint =  26.452\n",
      "# (2024-06-27 03:27:32.896)\n",
      "SEP: Get background {'bw': 128.00000000000028, 'bh': 128.00000000000028, 'fw': 3, 'fh': 3}\n",
      "SEP: err_scale=0.000\n",
      "   SEP: Extract...\n",
      "    Done.\n",
      "compute_SEP_auto_params: sep version = 1.2.1\n",
      "compute_SEP_auto_params: autoparams=[2.5, <Quantity 0.35 arcsec>, 2.4, 3.8]; pixel_scale=0.029999999999999933; subpix=0; flux_radii=[0.2, 0.5, 0.9]\n",
      "# SEP glass-2022data-ir.cat.fits: 5280 objects\n",
      "f115w\n",
      "make_SEP_catalog: sep version = 1.2.1\n",
      "# (2024-06-27 03:27:50.647)\n",
      "sep: Image AB zeropoint =  26.390\n",
      "# (2024-06-27 03:27:51.093)\n",
      "SEP: Get background {'bw': 128.00000000000028, 'bh': 128.00000000000028, 'fw': 3, 'fh': 3}\n",
      "SEP: err_scale=0.000\n",
      "# SEP glass-2022data-f115w.cat.fits: 5280 objects\n",
      "f150w\n",
      "make_SEP_catalog: sep version = 1.2.1\n",
      "# (2024-06-27 03:27:55.702)\n",
      "sep: Image AB zeropoint =  26.390\n",
      "# (2024-06-27 03:27:56.142)\n",
      "SEP: Get background {'bw': 128.00000000000028, 'bh': 128.00000000000028, 'fw': 3, 'fh': 3}\n",
      "SEP: err_scale=0.000\n",
      "# SEP glass-2022data-f150w.cat.fits: 5280 objects\n",
      "f200w\n",
      "make_SEP_catalog: sep version = 1.2.1\n",
      "# (2024-06-27 03:28:00.777)\n",
      "sep: Image AB zeropoint =  26.390\n",
      "# (2024-06-27 03:28:01.220)\n",
      "SEP: Get background {'bw': 128.00000000000028, 'bh': 128.00000000000028, 'fw': 3, 'fh': 3}\n",
      "SEP: err_scale=0.000\n",
      "# SEP glass-2022data-f200w.cat.fits: 5280 objects\n",
      "PATH: ./, files: ['./glass-2022data-f115w_drz_sci.fits', './glass-2022data-f200w_drz_sci.fits', './glass-2022data-f150w_drz_sci.fits']\n",
      "# field_rgb glass-2022data: r f200w / g f150w / b f115w\n",
      "# field_rgb scl=8.00 / r 1.65 / g 1.33 / b 1.00\n",
      "# (2024-06-27 03:28:14.609)\n",
      "\n",
      "auto_script.exposure_report(**{'root': 'glass-2022data', 'log': True})\n",
      "\n"
     ]
    }
   ],
   "source": [
    "## Run SEP (~SExtractor clone) catalog on the \"ir\" combined image\n",
    "## and generate a photometric catalog with aperture photometry in all available bands\n",
    "tab = auto_script.multiband_catalog(field_root=field_root, **multiband_catalog_args)\n",
    "\n",
    "## Make an RGB image for display purposes.  \n",
    "os.chdir(os.path.join(HOME_PATH, field_root, 'Prep'))\n",
    "slx, sly, rgb_filts, fig = auto_script.field_rgb(root=field_root, scl=8, HOME_PATH=None, xsize=6,\n",
    "                                                 force_rgb=['f200w','f150w','f115w'], \n",
    "                                                 show_ir=False, \n",
    "                                                 rgb_scl=[1.65,1.33,1], \n",
    "                                                 gzext='*', \n",
    "                                                 output_format='png', suffix='.field', \n",
    "                                                 full_dimensions=4 # 4x4 in png relative to f444w\n",
    "                                                )  \n",
    "plt.close(fig)\n",
    "\n",
    "auto_script.exposure_report(field_root, log=True)\n"
   ]
  },
  {
   "cell_type": "code",
   "execution_count": 15,
   "metadata": {
    "scrolled": true
   },
   "outputs": [
    {
     "data": {
      "text/plain": [
       "(17.0, 34.5)"
      ]
     },
     "execution_count": 15,
     "metadata": {},
     "output_type": "execute_result"
    },
    {
     "data": {
      "image/png": "[encoded data removed]",
      "text/plain": [
       "<Figure size 700x600 with 1 Axes>"
      ]
     },
     "metadata": {},
     "output_type": "display_data"
    }
   ],
   "source": [
    "# Plot source counts based on the photometric catalog\n",
    "\n",
    "fig, ax = plt.subplots(1,1, figsize=(7,6), dpi=100, tight_layout=True)\n",
    "\n",
    "mag_auto = np.ma.masked_invalid(phot['mag_auto'])\n",
    "mag_max = np.ceil(np.ma.max(mag_auto))\n",
    "mag_min = np.floor(np.ma.min(mag_auto))\n",
    "\n",
    "bin_list = np.arange(mag_min,mag_max,0.5)\n",
    "xlim = [bin_list[0], bin_list[-1]]\n",
    "\n",
    "ax.hist(mag_auto[mag_auto.mask==False], bins=bin_list, density=False, color='grey', alpha=0.4)\n",
    "\n",
    "ax.set_xlabel(r'mag$_{\\rm auto}$', fontsize=20)\n",
    "ax.set_ylabel(r'Number Counts', fontsize=20)\n",
    "ax.set_xlim(xlim)\n"
   ]
  }
 ],
 "metadata": {
  "kernelspec": {
   "display_name": "grizli-jwst",
   "language": "python",
   "name": "grizli-jwst"
  },
  "language_info": {
   "codemirror_mode": {
    "name": "ipython",
    "version": 3
   },
   "file_extension": ".py",
   "mimetype": "text/x-python",
   "name": "python",
   "nbconvert_exporter": "python",
   "pygments_lexer": "ipython3",
   "version": "3.11.9"
  }
 },
 "nbformat": 4,
 "nbformat_minor": 4
}
